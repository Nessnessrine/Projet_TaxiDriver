{
  "cells": [
    {
      "cell_type": "markdown",
      "metadata": {
        "id": "g1KQ8_yJ0Nbh"
      },
      "source": [
        "# Analyse exploratoire\n"
      ]
    },
    {
      "cell_type": "code",
      "execution_count": 1,
      "metadata": {
        "colab": {
          "base_uri": "https://localhost:8080/"
        },
        "id": "3Vy6P4Vk0Nbj",
        "outputId": "ed1cd9e8-aa6b-4c78-83f1-d10aba724b23"
      },
      "outputs": [
        {
          "output_type": "stream",
          "name": "stdout",
          "text": [
            "Looking in indexes: https://pypi.org/simple, https://us-python.pkg.dev/colab-wheels/public/simple/\n",
            "Requirement already satisfied: pyarrow in /usr/local/lib/python3.10/dist-packages (9.0.0)\n",
            "Requirement already satisfied: numpy>=1.16.6 in /usr/local/lib/python3.10/dist-packages (from pyarrow) (1.22.4)\n"
          ]
        }
      ],
      "source": [
        "pip install pyarrow"
      ]
    },
    {
      "cell_type": "code",
      "execution_count": 2,
      "metadata": {
        "id": "tW29y4b2yrHO",
        "colab": {
          "base_uri": "https://localhost:8080/",
          "height": 380
        },
        "outputId": "9c9bbae8-7333-45e8-985b-065d6c39a6e4"
      },
      "outputs": [
        {
          "output_type": "error",
          "ename": "FileNotFoundError",
          "evalue": "ignored",
          "traceback": [
            "\u001b[0;31m---------------------------------------------------------------------------\u001b[0m",
            "\u001b[0;31mFileNotFoundError\u001b[0m                         Traceback (most recent call last)",
            "\u001b[0;32m<ipython-input-2-129bff7e3dfa>\u001b[0m in \u001b[0;36m<cell line: 3>\u001b[0;34m()\u001b[0m\n\u001b[1;32m      1\u001b[0m \u001b[0;32mimport\u001b[0m \u001b[0mpyarrow\u001b[0m\u001b[0;34m.\u001b[0m\u001b[0mparquet\u001b[0m \u001b[0;32mas\u001b[0m \u001b[0mpq\u001b[0m\u001b[0;34m\u001b[0m\u001b[0;34m\u001b[0m\u001b[0m\n\u001b[1;32m      2\u001b[0m \u001b[0;34m\u001b[0m\u001b[0m\n\u001b[0;32m----> 3\u001b[0;31m \u001b[0mtable\u001b[0m \u001b[0;34m=\u001b[0m \u001b[0mpq\u001b[0m\u001b[0;34m.\u001b[0m\u001b[0mread_table\u001b[0m\u001b[0;34m(\u001b[0m\u001b[0;34m'yellow_tripdata_2023-03.parquet'\u001b[0m\u001b[0;34m)\u001b[0m\u001b[0;34m\u001b[0m\u001b[0;34m\u001b[0m\u001b[0m\n\u001b[0m\u001b[1;32m      4\u001b[0m \u001b[0mdf\u001b[0m\u001b[0;34m=\u001b[0m\u001b[0mtable\u001b[0m\u001b[0;34m.\u001b[0m\u001b[0mto_pandas\u001b[0m\u001b[0;34m(\u001b[0m\u001b[0;34m)\u001b[0m\u001b[0;34m\u001b[0m\u001b[0;34m\u001b[0m\u001b[0m\n\u001b[1;32m      5\u001b[0m \u001b[0mdf\u001b[0m\u001b[0;34m.\u001b[0m\u001b[0mhead\u001b[0m\u001b[0;34m(\u001b[0m\u001b[0;34m)\u001b[0m\u001b[0;34m\u001b[0m\u001b[0;34m\u001b[0m\u001b[0m\n",
            "\u001b[0;32m/usr/local/lib/python3.10/dist-packages/pyarrow/parquet/__init__.py\u001b[0m in \u001b[0;36mread_table\u001b[0;34m(source, columns, use_threads, metadata, schema, use_pandas_metadata, memory_map, read_dictionary, filesystem, filters, buffer_size, partitioning, use_legacy_dataset, ignore_prefixes, pre_buffer, coerce_int96_timestamp_unit, decryption_properties, thrift_string_size_limit, thrift_container_size_limit)\u001b[0m\n\u001b[1;32m   2778\u001b[0m             )\n\u001b[1;32m   2779\u001b[0m         \u001b[0;32mtry\u001b[0m\u001b[0;34m:\u001b[0m\u001b[0;34m\u001b[0m\u001b[0;34m\u001b[0m\u001b[0m\n\u001b[0;32m-> 2780\u001b[0;31m             dataset = _ParquetDatasetV2(\n\u001b[0m\u001b[1;32m   2781\u001b[0m                 \u001b[0msource\u001b[0m\u001b[0;34m,\u001b[0m\u001b[0;34m\u001b[0m\u001b[0;34m\u001b[0m\u001b[0m\n\u001b[1;32m   2782\u001b[0m                 \u001b[0mschema\u001b[0m\u001b[0;34m=\u001b[0m\u001b[0mschema\u001b[0m\u001b[0;34m,\u001b[0m\u001b[0;34m\u001b[0m\u001b[0;34m\u001b[0m\u001b[0m\n",
            "\u001b[0;32m/usr/local/lib/python3.10/dist-packages/pyarrow/parquet/__init__.py\u001b[0m in \u001b[0;36m__init__\u001b[0;34m(self, path_or_paths, filesystem, filters, partitioning, read_dictionary, buffer_size, memory_map, ignore_prefixes, pre_buffer, coerce_int96_timestamp_unit, schema, decryption_properties, thrift_string_size_limit, thrift_container_size_limit, **kwargs)\u001b[0m\n\u001b[1;32m   2377\u001b[0m                 infer_dictionary=True)\n\u001b[1;32m   2378\u001b[0m \u001b[0;34m\u001b[0m\u001b[0m\n\u001b[0;32m-> 2379\u001b[0;31m         self._dataset = ds.dataset(path_or_paths, filesystem=filesystem,\n\u001b[0m\u001b[1;32m   2380\u001b[0m                                    \u001b[0mschema\u001b[0m\u001b[0;34m=\u001b[0m\u001b[0mschema\u001b[0m\u001b[0;34m,\u001b[0m \u001b[0mformat\u001b[0m\u001b[0;34m=\u001b[0m\u001b[0mparquet_format\u001b[0m\u001b[0;34m,\u001b[0m\u001b[0;34m\u001b[0m\u001b[0;34m\u001b[0m\u001b[0m\n\u001b[1;32m   2381\u001b[0m                                    \u001b[0mpartitioning\u001b[0m\u001b[0;34m=\u001b[0m\u001b[0mpartitioning\u001b[0m\u001b[0;34m,\u001b[0m\u001b[0;34m\u001b[0m\u001b[0;34m\u001b[0m\u001b[0m\n",
            "\u001b[0;32m/usr/local/lib/python3.10/dist-packages/pyarrow/dataset.py\u001b[0m in \u001b[0;36mdataset\u001b[0;34m(source, schema, format, filesystem, partitioning, partition_base_dir, exclude_invalid_files, ignore_prefixes)\u001b[0m\n\u001b[1;32m    747\u001b[0m \u001b[0;34m\u001b[0m\u001b[0m\n\u001b[1;32m    748\u001b[0m     \u001b[0;32mif\u001b[0m \u001b[0m_is_path_like\u001b[0m\u001b[0;34m(\u001b[0m\u001b[0msource\u001b[0m\u001b[0;34m)\u001b[0m\u001b[0;34m:\u001b[0m\u001b[0;34m\u001b[0m\u001b[0;34m\u001b[0m\u001b[0m\n\u001b[0;32m--> 749\u001b[0;31m         \u001b[0;32mreturn\u001b[0m \u001b[0m_filesystem_dataset\u001b[0m\u001b[0;34m(\u001b[0m\u001b[0msource\u001b[0m\u001b[0;34m,\u001b[0m \u001b[0;34m**\u001b[0m\u001b[0mkwargs\u001b[0m\u001b[0;34m)\u001b[0m\u001b[0;34m\u001b[0m\u001b[0;34m\u001b[0m\u001b[0m\n\u001b[0m\u001b[1;32m    750\u001b[0m     \u001b[0;32melif\u001b[0m \u001b[0misinstance\u001b[0m\u001b[0;34m(\u001b[0m\u001b[0msource\u001b[0m\u001b[0;34m,\u001b[0m \u001b[0;34m(\u001b[0m\u001b[0mtuple\u001b[0m\u001b[0;34m,\u001b[0m \u001b[0mlist\u001b[0m\u001b[0;34m)\u001b[0m\u001b[0;34m)\u001b[0m\u001b[0;34m:\u001b[0m\u001b[0;34m\u001b[0m\u001b[0;34m\u001b[0m\u001b[0m\n\u001b[1;32m    751\u001b[0m         \u001b[0;32mif\u001b[0m \u001b[0mall\u001b[0m\u001b[0;34m(\u001b[0m\u001b[0m_is_path_like\u001b[0m\u001b[0;34m(\u001b[0m\u001b[0melem\u001b[0m\u001b[0;34m)\u001b[0m \u001b[0;32mfor\u001b[0m \u001b[0melem\u001b[0m \u001b[0;32min\u001b[0m \u001b[0msource\u001b[0m\u001b[0;34m)\u001b[0m\u001b[0;34m:\u001b[0m\u001b[0;34m\u001b[0m\u001b[0;34m\u001b[0m\u001b[0m\n",
            "\u001b[0;32m/usr/local/lib/python3.10/dist-packages/pyarrow/dataset.py\u001b[0m in \u001b[0;36m_filesystem_dataset\u001b[0;34m(source, schema, filesystem, partitioning, format, partition_base_dir, exclude_invalid_files, selector_ignore_prefixes)\u001b[0m\n\u001b[1;32m    439\u001b[0m         \u001b[0mfs\u001b[0m\u001b[0;34m,\u001b[0m \u001b[0mpaths_or_selector\u001b[0m \u001b[0;34m=\u001b[0m \u001b[0m_ensure_multiple_sources\u001b[0m\u001b[0;34m(\u001b[0m\u001b[0msource\u001b[0m\u001b[0;34m,\u001b[0m \u001b[0mfilesystem\u001b[0m\u001b[0;34m)\u001b[0m\u001b[0;34m\u001b[0m\u001b[0;34m\u001b[0m\u001b[0m\n\u001b[1;32m    440\u001b[0m     \u001b[0;32melse\u001b[0m\u001b[0;34m:\u001b[0m\u001b[0;34m\u001b[0m\u001b[0;34m\u001b[0m\u001b[0m\n\u001b[0;32m--> 441\u001b[0;31m         \u001b[0mfs\u001b[0m\u001b[0;34m,\u001b[0m \u001b[0mpaths_or_selector\u001b[0m \u001b[0;34m=\u001b[0m \u001b[0m_ensure_single_source\u001b[0m\u001b[0;34m(\u001b[0m\u001b[0msource\u001b[0m\u001b[0;34m,\u001b[0m \u001b[0mfilesystem\u001b[0m\u001b[0;34m)\u001b[0m\u001b[0;34m\u001b[0m\u001b[0;34m\u001b[0m\u001b[0m\n\u001b[0m\u001b[1;32m    442\u001b[0m \u001b[0;34m\u001b[0m\u001b[0m\n\u001b[1;32m    443\u001b[0m     options = FileSystemFactoryOptions(\n",
            "\u001b[0;32m/usr/local/lib/python3.10/dist-packages/pyarrow/dataset.py\u001b[0m in \u001b[0;36m_ensure_single_source\u001b[0;34m(path, filesystem)\u001b[0m\n\u001b[1;32m    415\u001b[0m         \u001b[0mpaths_or_selector\u001b[0m \u001b[0;34m=\u001b[0m \u001b[0;34m[\u001b[0m\u001b[0mpath\u001b[0m\u001b[0;34m]\u001b[0m\u001b[0;34m\u001b[0m\u001b[0;34m\u001b[0m\u001b[0m\n\u001b[1;32m    416\u001b[0m     \u001b[0;32melse\u001b[0m\u001b[0;34m:\u001b[0m\u001b[0;34m\u001b[0m\u001b[0;34m\u001b[0m\u001b[0m\n\u001b[0;32m--> 417\u001b[0;31m         \u001b[0;32mraise\u001b[0m \u001b[0mFileNotFoundError\u001b[0m\u001b[0;34m(\u001b[0m\u001b[0mpath\u001b[0m\u001b[0;34m)\u001b[0m\u001b[0;34m\u001b[0m\u001b[0;34m\u001b[0m\u001b[0m\n\u001b[0m\u001b[1;32m    418\u001b[0m \u001b[0;34m\u001b[0m\u001b[0m\n\u001b[1;32m    419\u001b[0m     \u001b[0;32mreturn\u001b[0m \u001b[0mfilesystem\u001b[0m\u001b[0;34m,\u001b[0m \u001b[0mpaths_or_selector\u001b[0m\u001b[0;34m\u001b[0m\u001b[0;34m\u001b[0m\u001b[0m\n",
            "\u001b[0;31mFileNotFoundError\u001b[0m: yellow_tripdata_2023-03.parquet"
          ]
        }
      ],
      "source": [
        "import pyarrow.parquet as pq\n",
        "\n",
        "table = pq.read_table('yellow_tripdata_2023-03.parquet')\n",
        "df=table.to_pandas()\n",
        "df.head()"
      ]
    },
    {
      "cell_type": "code",
      "execution_count": null,
      "metadata": {
        "colab": {
          "base_uri": "https://localhost:8080/"
        },
        "id": "WOE5R12uyrg2",
        "outputId": "5b9d64a3-8975-41e2-ddea-8779da589393"
      },
      "outputs": [
        {
          "output_type": "stream",
          "name": "stdout",
          "text": [
            "Nombre de lignes :  3403766\n",
            "Nombre de variables :  19\n"
          ]
        }
      ],
      "source": [
        "print(\"Nombre de lignes : \" , df.shape[0])\n",
        "print(\"Nombre de variables : \",df.shape[1])"
      ]
    },
    {
      "cell_type": "code",
      "execution_count": null,
      "metadata": {
        "colab": {
          "base_uri": "https://localhost:8080/"
        },
        "id": "It9GvL4XyrjE",
        "outputId": "eca91727-1274-4431-889f-224cd68838fe",
        "scrolled": true
      },
      "outputs": [
        {
          "output_type": "execute_result",
          "data": {
            "text/plain": [
              "Index(['VendorID', 'tpep_pickup_datetime', 'tpep_dropoff_datetime',\n",
              "       'passenger_count', 'trip_distance', 'RatecodeID', 'store_and_fwd_flag',\n",
              "       'PULocationID', 'DOLocationID', 'payment_type', 'fare_amount', 'extra',\n",
              "       'mta_tax', 'tip_amount', 'tolls_amount', 'improvement_surcharge',\n",
              "       'total_amount', 'congestion_surcharge', 'Airport_fee'],\n",
              "      dtype='object')"
            ]
          },
          "metadata": {},
          "execution_count": 4
        }
      ],
      "source": [
        "df.columns"
      ]
    },
    {
      "cell_type": "code",
      "execution_count": null,
      "metadata": {
        "id": "8XNvUCtO70Ms"
      },
      "outputs": [],
      "source": [
        "df = df.drop(['fare_amount','extra','mta_tax','tip_amount','tolls_amount','congestion_surcharge','Airport_fee','improvement_surcharge','RatecodeID','store_and_fwd_flag','VendorID'],axis=1)"
      ]
    },
    {
      "cell_type": "code",
      "execution_count": null,
      "metadata": {
        "scrolled": true,
        "colab": {
          "base_uri": "https://localhost:8080/"
        },
        "id": "jXQUgErV0Nbk",
        "outputId": "7d3f073c-b815-4f0f-c46b-addb11a4ddab"
      },
      "outputs": [
        {
          "output_type": "stream",
          "name": "stdout",
          "text": [
            "Nombre de valeurs manquantes :\n",
            "\ttpep_pickup_datetime: 0\n",
            "\ttpep_dropoff_datetime: 0\n",
            "\tpassenger_count: 87619\n",
            "\ttrip_distance: 0\n",
            "\tPULocationID: 0\n",
            "\tDOLocationID: 0\n",
            "\tpayment_type: 0\n",
            "\ttotal_amount: 0\n"
          ]
        }
      ],
      "source": [
        "print('Nombre de valeurs manquantes :')\n",
        "for col in df.columns:\n",
        "    print('\\t%s: %d' % (col,df[col].isna().sum()))"
      ]
    },
    {
      "cell_type": "markdown",
      "metadata": {
        "id": "ImVYyOTl0Nbl"
      },
      "source": [
        "#### Il y'a 87619 lignes qui contiennent des valeurs manquantes dans la colonne passenger_count et store_and_flag nous allons donc les supprimer vu qu'ils representent que 2,57% des données "
      ]
    },
    {
      "cell_type": "code",
      "execution_count": null,
      "metadata": {
        "colab": {
          "base_uri": "https://localhost:8080/"
        },
        "id": "ArJ0rIA40Nbl",
        "outputId": "88375211-20e9-49fc-830f-e77177defed1"
      },
      "outputs": [
        {
          "output_type": "execute_result",
          "data": {
            "text/plain": [
              "(3316147, 8)"
            ]
          },
          "metadata": {},
          "execution_count": 7
        }
      ],
      "source": [
        "df.dropna(inplace=True)\n",
        "df.shape"
      ]
    },
    {
      "cell_type": "markdown",
      "metadata": {
        "id": "hYf4WY_r0Nbl"
      },
      "source": [
        "## Les valeurs aberrantes"
      ]
    },
    {
      "cell_type": "code",
      "execution_count": null,
      "metadata": {
        "colab": {
          "base_uri": "https://localhost:8080/"
        },
        "id": "58N6XUkF0Nbl",
        "outputId": "db619b4c-d32d-48ea-9331-ea00a627dea1"
      },
      "outputs": [
        {
          "output_type": "execute_result",
          "data": {
            "text/plain": [
              "tpep_pickup_datetime     datetime64[ns]\n",
              "tpep_dropoff_datetime    datetime64[ns]\n",
              "passenger_count                 float64\n",
              "trip_distance                   float64\n",
              "PULocationID                      int32\n",
              "DOLocationID                      int32\n",
              "payment_type                      int64\n",
              "total_amount                    float64\n",
              "dtype: object"
            ]
          },
          "metadata": {},
          "execution_count": 8
        }
      ],
      "source": [
        "# Types du jeu de données \n",
        "df.dtypes"
      ]
    },
    {
      "cell_type": "code",
      "execution_count": null,
      "metadata": {
        "colab": {
          "base_uri": "https://localhost:8080/",
          "height": 453
        },
        "id": "gZ5SSDa70Nbm",
        "outputId": "c84f0dc1-5a19-48c2-d699-43b50bbe050a"
      },
      "outputs": [
        {
          "output_type": "execute_result",
          "data": {
            "text/plain": [
              "<Axes: >"
            ]
          },
          "metadata": {},
          "execution_count": 10
        },
        {
          "output_type": "display_data",
          "data": {
            "text/plain": [
              "<Figure size 2000x1000 with 1 Axes>"
            ],
            "image/png": "[encoded data removed]"
          },
          "metadata": {}
        }
      ],
      "source": [
        "# On va convertir certaines valeurs en numérique\n",
        "col = ['passenger_count','trip_distance','PULocationID','DOLocationID','payment_type','total_amount']\n",
        "df[col].boxplot(figsize=(20,10))"
      ]
    },
    {
      "cell_type": "markdown",
      "metadata": {
        "id": "df_TFwhA0Nbm"
      },
      "source": [
        "#### On constate qu'il y a des valeurs aberrantes pour trip distance et total_amount"
      ]
    },
    {
      "cell_type": "code",
      "execution_count": null,
      "metadata": {
        "colab": {
          "base_uri": "https://localhost:8080/",
          "height": 483
        },
        "id": "7KBxotkZA8NY",
        "outputId": "cc7f3cb8-f0d6-4a72-d689-e16c3f98f703"
      },
      "outputs": [
        {
          "output_type": "stream",
          "name": "stdout",
          "text": [
            "Prix maximum : 2100.0\n",
            "Prix minimum : -982.95\n"
          ]
        },
        {
          "output_type": "display_data",
          "data": {
            "text/plain": [
              "<Figure size 640x480 with 1 Axes>"
            ],
            "image/png": "[encoded data removed]"
          },
          "metadata": {}
        }
      ],
      "source": [
        "# 'total_amount'\n",
        "\n",
        "df['total_amount'].plot()\n",
        "#données aberrantes\n",
        "print('Prix maximum : '+str(df['total_amount'].max()))\n",
        "print('Prix minimum : '+str(df['total_amount'].min()))"
      ]
    },
    {
      "cell_type": "markdown",
      "metadata": {
        "id": "YkS4nfuq0Nbm"
      },
      "source": [
        "#### En visualisant total amount on constate qu'il y a des montants négatifs et des montants qui dépassent 2000. Nous allons commencer par supprimer les lignes sur lesquels le montant est négatif "
      ]
    },
    {
      "cell_type": "markdown",
      "metadata": {
        "id": "dDAU_nTd0Nbn"
      },
      "source": [
        "#### D'aprés le site www.new-york.fr le tarif minimum d'un taxi est de 3 dollars, nous allons donc supprimer tout les tarifs < à cette valeurs "
      ]
    },
    {
      "cell_type": "code",
      "execution_count": null,
      "metadata": {
        "id": "y79oP8-1Crcj"
      },
      "outputs": [],
      "source": [
        "#Suppression des lignes avec prix inférieur à 0$ : seulement 0.9% du fichier\n",
        "df=df[df['total_amount']>=3]"
      ]
    },
    {
      "cell_type": "code",
      "execution_count": null,
      "metadata": {
        "colab": {
          "base_uri": "https://localhost:8080/",
          "height": 483
        },
        "id": "iZAHwpVx0Nbn",
        "outputId": "919c8290-f175-43f3-829d-0a7bb605b490"
      },
      "outputs": [
        {
          "output_type": "stream",
          "name": "stdout",
          "text": [
            "Prix maximum : 2100.0\n",
            "Prix minimum : 3.0\n"
          ]
        },
        {
          "output_type": "display_data",
          "data": {
            "text/plain": [
              "<Figure size 640x480 with 1 Axes>"
            ],
            "image/png": "[encoded data removed]"
          },
          "metadata": {}
        }
      ],
      "source": [
        "# 'total_amount'\n",
        "\n",
        "df['total_amount'].plot()\n",
        "#données aberrantes\n",
        "print('Prix maximum : '+str(df['total_amount'].max()))\n",
        "print('Prix minimum : '+str(df['total_amount'].min()))"
      ]
    },
    {
      "cell_type": "code",
      "execution_count": null,
      "metadata": {
        "colab": {
          "base_uri": "https://localhost:8080/",
          "height": 239
        },
        "id": "19lmzfq1A4Tz",
        "outputId": "21affda8-3433-4f96-89c3-0235afc8653f"
      },
      "outputs": [
        {
          "output_type": "execute_result",
          "data": {
            "text/plain": [
              "        tpep_pickup_datetime tpep_dropoff_datetime  passenger_count  \\\n",
              "361044   2023-03-04 09:30:52   2023-03-04 09:42:20              1.0   \n",
              "539814   2023-03-05 21:55:13   2023-03-06 15:22:22              1.0   \n",
              "745928   2023-03-07 23:03:14   2023-03-08 02:10:29              1.0   \n",
              "1342230  2023-03-13 14:51:52   2023-03-13 14:51:52              0.0   \n",
              "\n",
              "         trip_distance  PULocationID  DOLocationID  payment_type  total_amount  \n",
              "361044            2.30           226            83             1       1000.00  \n",
              "539814           13.00           265             3             2        809.10  \n",
              "745928          144.96           132           265             4        982.95  \n",
              "1342230           0.00           264           264             1       2100.00  "
            ],
            "text/html": [
              "\n",
              "  <div id=\"df-b2afc3ee-f9cc-4262-9bee-a424347403d2\">\n",
              "    <div class=\"colab-df-container\">\n",
              "      <div>\n",
              "<style scoped>\n",
              "    .dataframe tbody tr th:only-of-type {\n",
              "        vertical-align: middle;\n",
              "    }\n",
              "\n",
              "    .dataframe tbody tr th {\n",
              "        vertical-align: top;\n",
              "    }\n",
              "\n",
              "    .dataframe thead th {\n",
              "        text-align: right;\n",
              "    }\n",
              "</style>\n",
              "<table border=\"1\" class=\"dataframe\">\n",
              "  <thead>\n",
              "    <tr style=\"text-align: right;\">\n",
              "      <th></th>\n",
              "      <th>tpep_pickup_datetime</th>\n",
              "      <th>tpep_dropoff_datetime</th>\n",
              "      <th>passenger_count</th>\n",
              "      <th>trip_distance</th>\n",
              "      <th>PULocationID</th>\n",
              "      <th>DOLocationID</th>\n",
              "      <th>payment_type</th>\n",
              "      <th>total_amount</th>\n",
              "    </tr>\n",
              "  </thead>\n",
              "  <tbody>\n",
              "    <tr>\n",
              "      <th>361044</th>\n",
              "      <td>2023-03-04 09:30:52</td>\n",
              "      <td>2023-03-04 09:42:20</td>\n",
              "      <td>1.0</td>\n",
              "      <td>2.30</td>\n",
              "      <td>226</td>\n",
              "      <td>83</td>\n",
              "      <td>1</td>\n",
              "      <td>1000.00</td>\n",
              "    </tr>\n",
              "    <tr>\n",
              "      <th>539814</th>\n",
              "      <td>2023-03-05 21:55:13</td>\n",
              "      <td>2023-03-06 15:22:22</td>\n",
              "      <td>1.0</td>\n",
              "      <td>13.00</td>\n",
              "      <td>265</td>\n",
              "      <td>3</td>\n",
              "      <td>2</td>\n",
              "      <td>809.10</td>\n",
              "    </tr>\n",
              "    <tr>\n",
              "      <th>745928</th>\n",
              "      <td>2023-03-07 23:03:14</td>\n",
              "      <td>2023-03-08 02:10:29</td>\n",
              "      <td>1.0</td>\n",
              "      <td>144.96</td>\n",
              "      <td>132</td>\n",
              "      <td>265</td>\n",
              "      <td>4</td>\n",
              "      <td>982.95</td>\n",
              "    </tr>\n",
              "    <tr>\n",
              "      <th>1342230</th>\n",
              "      <td>2023-03-13 14:51:52</td>\n",
              "      <td>2023-03-13 14:51:52</td>\n",
              "      <td>0.0</td>\n",
              "      <td>0.00</td>\n",
              "      <td>264</td>\n",
              "      <td>264</td>\n",
              "      <td>1</td>\n",
              "      <td>2100.00</td>\n",
              "    </tr>\n",
              "  </tbody>\n",
              "</table>\n",
              "</div>\n",
              "      <button class=\"colab-df-convert\" onclick=\"convertToInteractive('df-b2afc3ee-f9cc-4262-9bee-a424347403d2')\"\n",
              "              title=\"Convert this dataframe to an interactive table.\"\n",
              "              style=\"display:none;\">\n",
              "        \n",
              "  <svg xmlns=\"http://www.w3.org/2000/svg\" height=\"24px\"viewBox=\"0 0 24 24\"\n",
              "       width=\"24px\">\n",
              "    <path d=\"M0 0h24v24H0V0z\" fill=\"none\"/>\n",
              "    <path d=\"M18.56 5.44l.94 2.06.94-2.06 2.06-.94-2.06-.94-.94-2.06-.94 2.06-2.06.94zm-11 1L8.5 8.5l.94-2.06 2.06-.94-2.06-.94L8.5 2.5l-.94 2.06-2.06.94zm10 10l.94 2.06.94-2.06 2.06-.94-2.06-.94-.94-2.06-.94 2.06-2.06.94z\"/><path d=\"M17.41 7.96l-1.37-1.37c-.4-.4-.92-.59-1.43-.59-.52 0-1.04.2-1.43.59L10.3 9.45l-7.72 7.72c-.78.78-.78 2.05 0 2.83L4 21.41c.39.39.9.59 1.41.59.51 0 1.02-.2 1.41-.59l7.78-7.78 2.81-2.81c.8-.78.8-2.07 0-2.86zM5.41 20L4 18.59l7.72-7.72 1.47 1.35L5.41 20z\"/>\n",
              "  </svg>\n",
              "      </button>\n",
              "      \n",
              "  <style>\n",
              "    .colab-df-container {\n",
              "      display:flex;\n",
              "      flex-wrap:wrap;\n",
              "      gap: 12px;\n",
              "    }\n",
              "\n",
              "    .colab-df-convert {\n",
              "      background-color: #E8F0FE;\n",
              "      border: none;\n",
              "      border-radius: 50%;\n",
              "      cursor: pointer;\n",
              "      display: none;\n",
              "      fill: #1967D2;\n",
              "      height: 32px;\n",
              "      padding: 0 0 0 0;\n",
              "      width: 32px;\n",
              "    }\n",
              "\n",
              "    .colab-df-convert:hover {\n",
              "      background-color: #E2EBFA;\n",
              "      box-shadow: 0px 1px 2px rgba(60, 64, 67, 0.3), 0px 1px 3px 1px rgba(60, 64, 67, 0.15);\n",
              "      fill: #174EA6;\n",
              "    }\n",
              "\n",
              "    [theme=dark] .colab-df-convert {\n",
              "      background-color: #3B4455;\n",
              "      fill: #D2E3FC;\n",
              "    }\n",
              "\n",
              "    [theme=dark] .colab-df-convert:hover {\n",
              "      background-color: #434B5C;\n",
              "      box-shadow: 0px 1px 3px 1px rgba(0, 0, 0, 0.15);\n",
              "      filter: drop-shadow(0px 1px 2px rgba(0, 0, 0, 0.3));\n",
              "      fill: #FFFFFF;\n",
              "    }\n",
              "  </style>\n",
              "\n",
              "      <script>\n",
              "        const buttonEl =\n",
              "          document.querySelector('#df-b2afc3ee-f9cc-4262-9bee-a424347403d2 button.colab-df-convert');\n",
              "        buttonEl.style.display =\n",
              "          google.colab.kernel.accessAllowed ? 'block' : 'none';\n",
              "\n",
              "        async function convertToInteractive(key) {\n",
              "          const element = document.querySelector('#df-b2afc3ee-f9cc-4262-9bee-a424347403d2');\n",
              "          const dataTable =\n",
              "            await google.colab.kernel.invokeFunction('convertToInteractive',\n",
              "                                                     [key], {});\n",
              "          if (!dataTable) return;\n",
              "\n",
              "          const docLinkHtml = 'Like what you see? Visit the ' +\n",
              "            '<a target=\"_blank\" href=https://colab.research.google.com/notebooks/data_table.ipynb>data table notebook</a>'\n",
              "            + ' to learn more about interactive tables.';\n",
              "          element.innerHTML = '';\n",
              "          dataTable['output_type'] = 'display_data';\n",
              "          await google.colab.output.renderOutput(dataTable, element);\n",
              "          const docLink = document.createElement('div');\n",
              "          docLink.innerHTML = docLinkHtml;\n",
              "          element.appendChild(docLink);\n",
              "        }\n",
              "      </script>\n",
              "    </div>\n",
              "  </div>\n",
              "  "
            ]
          },
          "metadata": {},
          "execution_count": 14
        }
      ],
      "source": [
        "df[df['total_amount']>=800]"
      ]
    },
    {
      "cell_type": "markdown",
      "metadata": {
        "id": "OByr74r30Nbn"
      },
      "source": [
        "#### Au vue de ce tableau ci dessus certaines données ayant des valeurs abbérantes au niveau du payement sont correcte et d'autres non"
      ]
    },
    {
      "cell_type": "code",
      "execution_count": null,
      "metadata": {
        "colab": {
          "base_uri": "https://localhost:8080/",
          "height": 483
        },
        "id": "iSkZDNKl0Nbo",
        "outputId": "751a8204-65ec-47b7-bc26-535398a0cd2f"
      },
      "outputs": [
        {
          "output_type": "stream",
          "name": "stdout",
          "text": [
            "Prix maximum : 982.95\n",
            "Prix minimum : 3.0\n"
          ]
        },
        {
          "output_type": "display_data",
          "data": {
            "text/plain": [
              "<Figure size 640x480 with 1 Axes>"
            ],
            "image/png": "[encoded data removed]"
          },
          "metadata": {}
        }
      ],
      "source": [
        "df = df[df['total_amount'] < 1000]\n",
        "\n",
        "df['total_amount'].plot()\n",
        "#données aberrantes\n",
        "print('Prix maximum : '+str(df['total_amount'].max()))\n",
        "print('Prix minimum : '+str(df['total_amount'].min()))           \n"
      ]
    },
    {
      "cell_type": "code",
      "execution_count": null,
      "metadata": {
        "colab": {
          "base_uri": "https://localhost:8080/",
          "height": 1000
        },
        "id": "Sn0-pYjN0Nbo",
        "outputId": "cc367a4b-208e-4a8d-c006-a05aa78ef773"
      },
      "outputs": [
        {
          "output_type": "execute_result",
          "data": {
            "text/plain": [
              "        tpep_pickup_datetime tpep_dropoff_datetime  passenger_count  \\\n",
              "402144   2023-03-04 16:20:55   2023-03-04 16:21:01              3.0   \n",
              "403196   2023-03-04 16:35:22   2023-03-04 16:35:34              1.0   \n",
              "440681   2023-03-04 22:29:26   2023-03-05 10:58:06              1.0   \n",
              "441039   2023-03-04 22:32:38   2023-03-04 22:34:35              1.0   \n",
              "539814   2023-03-05 21:55:13   2023-03-06 15:22:22              1.0   \n",
              "614997   2023-03-06 19:36:10   2023-03-07 09:30:37              1.0   \n",
              "644013   2023-03-07 07:01:07   2023-03-07 08:54:21              1.0   \n",
              "708132   2023-03-07 17:45:07   2023-03-07 17:45:19              1.0   \n",
              "708133   2023-03-07 17:48:14   2023-03-07 17:48:23              1.0   \n",
              "745928   2023-03-07 23:03:14   2023-03-08 02:10:29              1.0   \n",
              "797154   2023-03-08 14:42:09   2023-03-08 19:03:45              1.0   \n",
              "1120440  2023-03-11 09:37:04   2023-03-11 13:27:28              2.0   \n",
              "1277222  2023-03-12 17:17:42   2023-03-12 18:51:57              1.0   \n",
              "1277602  2023-03-12 17:42:05   2023-03-12 19:39:25              1.0   \n",
              "1304944  2023-03-13 02:02:17   2023-03-13 02:15:00              1.0   \n",
              "1381251  2023-03-13 19:20:18   2023-03-13 22:23:38              1.0   \n",
              "1397039  2023-03-13 22:19:39   2023-03-14 00:08:02              6.0   \n",
              "1496740  2023-03-14 22:50:34   2023-03-15 08:09:22              1.0   \n",
              "1518584  2023-03-15 08:29:24   2023-03-15 10:19:31              1.0   \n",
              "1519692  2023-03-15 08:17:20   2023-03-15 10:45:22              1.0   \n",
              "1600859  2023-03-15 20:58:46   2023-03-15 22:55:52              1.0   \n",
              "1689238  2023-03-16 16:34:17   2023-03-16 19:50:26              1.0   \n",
              "1744750  2023-03-17 00:01:47   2023-03-17 02:12:56              1.0   \n",
              "1903016  2023-03-18 14:58:58   2023-03-18 15:06:37              1.0   \n",
              "2061713  2023-03-19 21:21:18   2023-03-19 22:52:16              1.0   \n",
              "2067648  2023-03-19 23:02:08   2023-03-19 23:02:31              1.0   \n",
              "2067650  2023-03-19 23:07:37   2023-03-19 23:07:43              1.0   \n",
              "2067651  2023-03-19 23:12:29   2023-03-19 23:12:35              1.0   \n",
              "2135717  2023-03-20 19:48:53   2023-03-20 21:29:22              1.0   \n",
              "2144143  2023-03-20 20:35:33   2023-03-20 22:07:52              1.0   \n",
              "2315961  2023-03-22 17:59:30   2023-03-22 19:57:33              4.0   \n",
              "2632357  2023-03-25 14:01:21   2023-03-25 16:07:01              1.0   \n",
              "2646718  2023-03-25 16:08:23   2023-03-25 16:08:41              4.0   \n",
              "2646725  2023-03-25 16:19:44   2023-03-25 17:13:24              1.0   \n",
              "2699247  2023-03-26 01:51:06   2023-03-26 17:50:00              1.0   \n",
              "3005375  2023-03-29 11:31:30   2023-03-29 15:13:28              2.0   \n",
              "3124443  2023-03-30 12:37:15   2023-03-30 15:27:13              1.0   \n",
              "3138010  2023-03-30 14:12:37   2023-03-30 16:44:19              2.0   \n",
              "3183554  2023-03-30 20:18:51   2023-03-30 22:23:06              1.0   \n",
              "3210156  2023-03-31 03:22:00   2023-03-31 03:22:12              1.0   \n",
              "3211813  2023-03-31 06:43:25   2023-03-31 08:29:57              1.0   \n",
              "3265993  2023-03-31 16:56:04   2023-03-31 16:57:02              1.0   \n",
              "\n",
              "         trip_distance  PULocationID  DOLocationID  payment_type  total_amount  \n",
              "402144            0.00           265           265             2        517.35  \n",
              "403196            0.00           265           100             2        501.00  \n",
              "440681            2.46            70            70             2        540.95  \n",
              "441039            0.00           265           265             1        556.00  \n",
              "539814           13.00           265             3             2        809.10  \n",
              "614997           45.34            10            10             2        701.65  \n",
              "644013           80.40           132           265             1        581.75  \n",
              "708132            0.00             1             1             2        501.00  \n",
              "708133            0.00             1             1             2        500.00  \n",
              "745928          144.96           132           265             4        982.95  \n",
              "797154           58.60            75            43             1        519.10  \n",
              "1120440         179.86           237           265             2        703.50  \n",
              "1277222          86.45           132           265             2        532.70  \n",
              "1277602         122.68           124           265             2        762.30  \n",
              "1304944           0.00           265           265             2        549.00  \n",
              "1381251         176.90           138           265             1        660.95  \n",
              "1397039          73.07           138           265             2        506.55  \n",
              "1496740         100.52           132           140             2        652.80  \n",
              "1518584          83.68           246           265             2        536.20  \n",
              "1519692          70.80           132           265             1        502.80  \n",
              "1600859         101.31           132           265             4        669.95  \n",
              "1689238         168.53           132           265             2        602.25  \n",
              "1744750         113.05           132           265             2        521.55  \n",
              "1903016           0.00           265           265             2        526.00  \n",
              "2061713          86.45           132           265             2        534.80  \n",
              "2067648           0.00           265           265             2        535.00  \n",
              "2067650           0.00           265           265             2        534.00  \n",
              "2067651           0.00           265           265             2        534.00  \n",
              "2135717          83.51           100           265             2        612.75  \n",
              "2144143          78.80           186           265             1        561.00  \n",
              "2315961          95.19           138           265             3        652.25  \n",
              "2632357          94.02           138           265             2        653.85  \n",
              "2646718           0.00           265           265             2        654.00  \n",
              "2646725           0.00           265           265             2        655.00  \n",
              "2699247          29.97           264           138             4        745.80  \n",
              "3005375         198.07           124           265             2        717.85  \n",
              "3124443         127.30           132           265             3        758.80  \n",
              "3138010          81.03           132           265             2        530.06  \n",
              "3183554          98.00           132           265             3        624.40  \n",
              "3210156           0.00            85            85             2        501.00  \n",
              "3211813          84.77           132           265             2        517.05  \n",
              "3265993           0.00           181           181             4        501.00  "
            ],
            "text/html": [
              "\n",
              "  <div id=\"df-2e6ff3a2-e832-48d0-b8d2-36d8827d967c\">\n",
              "    <div class=\"colab-df-container\">\n",
              "      <div>\n",
              "<style scoped>\n",
              "    .dataframe tbody tr th:only-of-type {\n",
              "        vertical-align: middle;\n",
              "    }\n",
              "\n",
              "    .dataframe tbody tr th {\n",
              "        vertical-align: top;\n",
              "    }\n",
              "\n",
              "    .dataframe thead th {\n",
              "        text-align: right;\n",
              "    }\n",
              "</style>\n",
              "<table border=\"1\" class=\"dataframe\">\n",
              "  <thead>\n",
              "    <tr style=\"text-align: right;\">\n",
              "      <th></th>\n",
              "      <th>tpep_pickup_datetime</th>\n",
              "      <th>tpep_dropoff_datetime</th>\n",
              "      <th>passenger_count</th>\n",
              "      <th>trip_distance</th>\n",
              "      <th>PULocationID</th>\n",
              "      <th>DOLocationID</th>\n",
              "      <th>payment_type</th>\n",
              "      <th>total_amount</th>\n",
              "    </tr>\n",
              "  </thead>\n",
              "  <tbody>\n",
              "    <tr>\n",
              "      <th>402144</th>\n",
              "      <td>2023-03-04 16:20:55</td>\n",
              "      <td>2023-03-04 16:21:01</td>\n",
              "      <td>3.0</td>\n",
              "      <td>0.00</td>\n",
              "      <td>265</td>\n",
              "      <td>265</td>\n",
              "      <td>2</td>\n",
              "      <td>517.35</td>\n",
              "    </tr>\n",
              "    <tr>\n",
              "      <th>403196</th>\n",
              "      <td>2023-03-04 16:35:22</td>\n",
              "      <td>2023-03-04 16:35:34</td>\n",
              "      <td>1.0</td>\n",
              "      <td>0.00</td>\n",
              "      <td>265</td>\n",
              "      <td>100</td>\n",
              "      <td>2</td>\n",
              "      <td>501.00</td>\n",
              "    </tr>\n",
              "    <tr>\n",
              "      <th>440681</th>\n",
              "      <td>2023-03-04 22:29:26</td>\n",
              "      <td>2023-03-05 10:58:06</td>\n",
              "      <td>1.0</td>\n",
              "      <td>2.46</td>\n",
              "      <td>70</td>\n",
              "      <td>70</td>\n",
              "      <td>2</td>\n",
              "      <td>540.95</td>\n",
              "    </tr>\n",
              "    <tr>\n",
              "      <th>441039</th>\n",
              "      <td>2023-03-04 22:32:38</td>\n",
              "      <td>2023-03-04 22:34:35</td>\n",
              "      <td>1.0</td>\n",
              "      <td>0.00</td>\n",
              "      <td>265</td>\n",
              "      <td>265</td>\n",
              "      <td>1</td>\n",
              "      <td>556.00</td>\n",
              "    </tr>\n",
              "    <tr>\n",
              "      <th>539814</th>\n",
              "      <td>2023-03-05 21:55:13</td>\n",
              "      <td>2023-03-06 15:22:22</td>\n",
              "      <td>1.0</td>\n",
              "      <td>13.00</td>\n",
              "      <td>265</td>\n",
              "      <td>3</td>\n",
              "      <td>2</td>\n",
              "      <td>809.10</td>\n",
              "    </tr>\n",
              "    <tr>\n",
              "      <th>614997</th>\n",
              "      <td>2023-03-06 19:36:10</td>\n",
              "      <td>2023-03-07 09:30:37</td>\n",
              "      <td>1.0</td>\n",
              "      <td>45.34</td>\n",
              "      <td>10</td>\n",
              "      <td>10</td>\n",
              "      <td>2</td>\n",
              "      <td>701.65</td>\n",
              "    </tr>\n",
              "    <tr>\n",
              "      <th>644013</th>\n",
              "      <td>2023-03-07 07:01:07</td>\n",
              "      <td>2023-03-07 08:54:21</td>\n",
              "      <td>1.0</td>\n",
              "      <td>80.40</td>\n",
              "      <td>132</td>\n",
              "      <td>265</td>\n",
              "      <td>1</td>\n",
              "      <td>581.75</td>\n",
              "    </tr>\n",
              "    <tr>\n",
              "      <th>708132</th>\n",
              "      <td>2023-03-07 17:45:07</td>\n",
              "      <td>2023-03-07 17:45:19</td>\n",
              "      <td>1.0</td>\n",
              "      <td>0.00</td>\n",
              "      <td>1</td>\n",
              "      <td>1</td>\n",
              "      <td>2</td>\n",
              "      <td>501.00</td>\n",
              "    </tr>\n",
              "    <tr>\n",
              "      <th>708133</th>\n",
              "      <td>2023-03-07 17:48:14</td>\n",
              "      <td>2023-03-07 17:48:23</td>\n",
              "      <td>1.0</td>\n",
              "      <td>0.00</td>\n",
              "      <td>1</td>\n",
              "      <td>1</td>\n",
              "      <td>2</td>\n",
              "      <td>500.00</td>\n",
              "    </tr>\n",
              "    <tr>\n",
              "      <th>745928</th>\n",
              "      <td>2023-03-07 23:03:14</td>\n",
              "      <td>2023-03-08 02:10:29</td>\n",
              "      <td>1.0</td>\n",
              "      <td>144.96</td>\n",
              "      <td>132</td>\n",
              "      <td>265</td>\n",
              "      <td>4</td>\n",
              "      <td>982.95</td>\n",
              "    </tr>\n",
              "    <tr>\n",
              "      <th>797154</th>\n",
              "      <td>2023-03-08 14:42:09</td>\n",
              "      <td>2023-03-08 19:03:45</td>\n",
              "      <td>1.0</td>\n",
              "      <td>58.60</td>\n",
              "      <td>75</td>\n",
              "      <td>43</td>\n",
              "      <td>1</td>\n",
              "      <td>519.10</td>\n",
              "    </tr>\n",
              "    <tr>\n",
              "      <th>1120440</th>\n",
              "      <td>2023-03-11 09:37:04</td>\n",
              "      <td>2023-03-11 13:27:28</td>\n",
              "      <td>2.0</td>\n",
              "      <td>179.86</td>\n",
              "      <td>237</td>\n",
              "      <td>265</td>\n",
              "      <td>2</td>\n",
              "      <td>703.50</td>\n",
              "    </tr>\n",
              "    <tr>\n",
              "      <th>1277222</th>\n",
              "      <td>2023-03-12 17:17:42</td>\n",
              "      <td>2023-03-12 18:51:57</td>\n",
              "      <td>1.0</td>\n",
              "      <td>86.45</td>\n",
              "      <td>132</td>\n",
              "      <td>265</td>\n",
              "      <td>2</td>\n",
              "      <td>532.70</td>\n",
              "    </tr>\n",
              "    <tr>\n",
              "      <th>1277602</th>\n",
              "      <td>2023-03-12 17:42:05</td>\n",
              "      <td>2023-03-12 19:39:25</td>\n",
              "      <td>1.0</td>\n",
              "      <td>122.68</td>\n",
              "      <td>124</td>\n",
              "      <td>265</td>\n",
              "      <td>2</td>\n",
              "      <td>762.30</td>\n",
              "    </tr>\n",
              "    <tr>\n",
              "      <th>1304944</th>\n",
              "      <td>2023-03-13 02:02:17</td>\n",
              "      <td>2023-03-13 02:15:00</td>\n",
              "      <td>1.0</td>\n",
              "      <td>0.00</td>\n",
              "      <td>265</td>\n",
              "      <td>265</td>\n",
              "      <td>2</td>\n",
              "      <td>549.00</td>\n",
              "    </tr>\n",
              "    <tr>\n",
              "      <th>1381251</th>\n",
              "      <td>2023-03-13 19:20:18</td>\n",
              "      <td>2023-03-13 22:23:38</td>\n",
              "      <td>1.0</td>\n",
              "      <td>176.90</td>\n",
              "      <td>138</td>\n",
              "      <td>265</td>\n",
              "      <td>1</td>\n",
              "      <td>660.95</td>\n",
              "    </tr>\n",
              "    <tr>\n",
              "      <th>1397039</th>\n",
              "      <td>2023-03-13 22:19:39</td>\n",
              "      <td>2023-03-14 00:08:02</td>\n",
              "      <td>6.0</td>\n",
              "      <td>73.07</td>\n",
              "      <td>138</td>\n",
              "      <td>265</td>\n",
              "      <td>2</td>\n",
              "      <td>506.55</td>\n",
              "    </tr>\n",
              "    <tr>\n",
              "      <th>1496740</th>\n",
              "      <td>2023-03-14 22:50:34</td>\n",
              "      <td>2023-03-15 08:09:22</td>\n",
              "      <td>1.0</td>\n",
              "      <td>100.52</td>\n",
              "      <td>132</td>\n",
              "      <td>140</td>\n",
              "      <td>2</td>\n",
              "      <td>652.80</td>\n",
              "    </tr>\n",
              "    <tr>\n",
              "      <th>1518584</th>\n",
              "      <td>2023-03-15 08:29:24</td>\n",
              "      <td>2023-03-15 10:19:31</td>\n",
              "      <td>1.0</td>\n",
              "      <td>83.68</td>\n",
              "      <td>246</td>\n",
              "      <td>265</td>\n",
              "      <td>2</td>\n",
              "      <td>536.20</td>\n",
              "    </tr>\n",
              "    <tr>\n",
              "      <th>1519692</th>\n",
              "      <td>2023-03-15 08:17:20</td>\n",
              "      <td>2023-03-15 10:45:22</td>\n",
              "      <td>1.0</td>\n",
              "      <td>70.80</td>\n",
              "      <td>132</td>\n",
              "      <td>265</td>\n",
              "      <td>1</td>\n",
              "      <td>502.80</td>\n",
              "    </tr>\n",
              "    <tr>\n",
              "      <th>1600859</th>\n",
              "      <td>2023-03-15 20:58:46</td>\n",
              "      <td>2023-03-15 22:55:52</td>\n",
              "      <td>1.0</td>\n",
              "      <td>101.31</td>\n",
              "      <td>132</td>\n",
              "      <td>265</td>\n",
              "      <td>4</td>\n",
              "      <td>669.95</td>\n",
              "    </tr>\n",
              "    <tr>\n",
              "      <th>1689238</th>\n",
              "      <td>2023-03-16 16:34:17</td>\n",
              "      <td>2023-03-16 19:50:26</td>\n",
              "      <td>1.0</td>\n",
              "      <td>168.53</td>\n",
              "      <td>132</td>\n",
              "      <td>265</td>\n",
              "      <td>2</td>\n",
              "      <td>602.25</td>\n",
              "    </tr>\n",
              "    <tr>\n",
              "      <th>1744750</th>\n",
              "      <td>2023-03-17 00:01:47</td>\n",
              "      <td>2023-03-17 02:12:56</td>\n",
              "      <td>1.0</td>\n",
              "      <td>113.05</td>\n",
              "      <td>132</td>\n",
              "      <td>265</td>\n",
              "      <td>2</td>\n",
              "      <td>521.55</td>\n",
              "    </tr>\n",
              "    <tr>\n",
              "      <th>1903016</th>\n",
              "      <td>2023-03-18 14:58:58</td>\n",
              "      <td>2023-03-18 15:06:37</td>\n",
              "      <td>1.0</td>\n",
              "      <td>0.00</td>\n",
              "      <td>265</td>\n",
              "      <td>265</td>\n",
              "      <td>2</td>\n",
              "      <td>526.00</td>\n",
              "    </tr>\n",
              "    <tr>\n",
              "      <th>2061713</th>\n",
              "      <td>2023-03-19 21:21:18</td>\n",
              "      <td>2023-03-19 22:52:16</td>\n",
              "      <td>1.0</td>\n",
              "      <td>86.45</td>\n",
              "      <td>132</td>\n",
              "      <td>265</td>\n",
              "      <td>2</td>\n",
              "      <td>534.80</td>\n",
              "    </tr>\n",
              "    <tr>\n",
              "      <th>2067648</th>\n",
              "      <td>2023-03-19 23:02:08</td>\n",
              "      <td>2023-03-19 23:02:31</td>\n",
              "      <td>1.0</td>\n",
              "      <td>0.00</td>\n",
              "      <td>265</td>\n",
              "      <td>265</td>\n",
              "      <td>2</td>\n",
              "      <td>535.00</td>\n",
              "    </tr>\n",
              "    <tr>\n",
              "      <th>2067650</th>\n",
              "      <td>2023-03-19 23:07:37</td>\n",
              "      <td>2023-03-19 23:07:43</td>\n",
              "      <td>1.0</td>\n",
              "      <td>0.00</td>\n",
              "      <td>265</td>\n",
              "      <td>265</td>\n",
              "      <td>2</td>\n",
              "      <td>534.00</td>\n",
              "    </tr>\n",
              "    <tr>\n",
              "      <th>2067651</th>\n",
              "      <td>2023-03-19 23:12:29</td>\n",
              "      <td>2023-03-19 23:12:35</td>\n",
              "      <td>1.0</td>\n",
              "      <td>0.00</td>\n",
              "      <td>265</td>\n",
              "      <td>265</td>\n",
              "      <td>2</td>\n",
              "      <td>534.00</td>\n",
              "    </tr>\n",
              "    <tr>\n",
              "      <th>2135717</th>\n",
              "      <td>2023-03-20 19:48:53</td>\n",
              "      <td>2023-03-20 21:29:22</td>\n",
              "      <td>1.0</td>\n",
              "      <td>83.51</td>\n",
              "      <td>100</td>\n",
              "      <td>265</td>\n",
              "      <td>2</td>\n",
              "      <td>612.75</td>\n",
              "    </tr>\n",
              "    <tr>\n",
              "      <th>2144143</th>\n",
              "      <td>2023-03-20 20:35:33</td>\n",
              "      <td>2023-03-20 22:07:52</td>\n",
              "      <td>1.0</td>\n",
              "      <td>78.80</td>\n",
              "      <td>186</td>\n",
              "      <td>265</td>\n",
              "      <td>1</td>\n",
              "      <td>561.00</td>\n",
              "    </tr>\n",
              "    <tr>\n",
              "      <th>2315961</th>\n",
              "      <td>2023-03-22 17:59:30</td>\n",
              "      <td>2023-03-22 19:57:33</td>\n",
              "      <td>4.0</td>\n",
              "      <td>95.19</td>\n",
              "      <td>138</td>\n",
              "      <td>265</td>\n",
              "      <td>3</td>\n",
              "      <td>652.25</td>\n",
              "    </tr>\n",
              "    <tr>\n",
              "      <th>2632357</th>\n",
              "      <td>2023-03-25 14:01:21</td>\n",
              "      <td>2023-03-25 16:07:01</td>\n",
              "      <td>1.0</td>\n",
              "      <td>94.02</td>\n",
              "      <td>138</td>\n",
              "      <td>265</td>\n",
              "      <td>2</td>\n",
              "      <td>653.85</td>\n",
              "    </tr>\n",
              "    <tr>\n",
              "      <th>2646718</th>\n",
              "      <td>2023-03-25 16:08:23</td>\n",
              "      <td>2023-03-25 16:08:41</td>\n",
              "      <td>4.0</td>\n",
              "      <td>0.00</td>\n",
              "      <td>265</td>\n",
              "      <td>265</td>\n",
              "      <td>2</td>\n",
              "      <td>654.00</td>\n",
              "    </tr>\n",
              "    <tr>\n",
              "      <th>2646725</th>\n",
              "      <td>2023-03-25 16:19:44</td>\n",
              "      <td>2023-03-25 17:13:24</td>\n",
              "      <td>1.0</td>\n",
              "      <td>0.00</td>\n",
              "      <td>265</td>\n",
              "      <td>265</td>\n",
              "      <td>2</td>\n",
              "      <td>655.00</td>\n",
              "    </tr>\n",
              "    <tr>\n",
              "      <th>2699247</th>\n",
              "      <td>2023-03-26 01:51:06</td>\n",
              "      <td>2023-03-26 17:50:00</td>\n",
              "      <td>1.0</td>\n",
              "      <td>29.97</td>\n",
              "      <td>264</td>\n",
              "      <td>138</td>\n",
              "      <td>4</td>\n",
              "      <td>745.80</td>\n",
              "    </tr>\n",
              "    <tr>\n",
              "      <th>3005375</th>\n",
              "      <td>2023-03-29 11:31:30</td>\n",
              "      <td>2023-03-29 15:13:28</td>\n",
              "      <td>2.0</td>\n",
              "      <td>198.07</td>\n",
              "      <td>124</td>\n",
              "      <td>265</td>\n",
              "      <td>2</td>\n",
              "      <td>717.85</td>\n",
              "    </tr>\n",
              "    <tr>\n",
              "      <th>3124443</th>\n",
              "      <td>2023-03-30 12:37:15</td>\n",
              "      <td>2023-03-30 15:27:13</td>\n",
              "      <td>1.0</td>\n",
              "      <td>127.30</td>\n",
              "      <td>132</td>\n",
              "      <td>265</td>\n",
              "      <td>3</td>\n",
              "      <td>758.80</td>\n",
              "    </tr>\n",
              "    <tr>\n",
              "      <th>3138010</th>\n",
              "      <td>2023-03-30 14:12:37</td>\n",
              "      <td>2023-03-30 16:44:19</td>\n",
              "      <td>2.0</td>\n",
              "      <td>81.03</td>\n",
              "      <td>132</td>\n",
              "      <td>265</td>\n",
              "      <td>2</td>\n",
              "      <td>530.06</td>\n",
              "    </tr>\n",
              "    <tr>\n",
              "      <th>3183554</th>\n",
              "      <td>2023-03-30 20:18:51</td>\n",
              "      <td>2023-03-30 22:23:06</td>\n",
              "      <td>1.0</td>\n",
              "      <td>98.00</td>\n",
              "      <td>132</td>\n",
              "      <td>265</td>\n",
              "      <td>3</td>\n",
              "      <td>624.40</td>\n",
              "    </tr>\n",
              "    <tr>\n",
              "      <th>3210156</th>\n",
              "      <td>2023-03-31 03:22:00</td>\n",
              "      <td>2023-03-31 03:22:12</td>\n",
              "      <td>1.0</td>\n",
              "      <td>0.00</td>\n",
              "      <td>85</td>\n",
              "      <td>85</td>\n",
              "      <td>2</td>\n",
              "      <td>501.00</td>\n",
              "    </tr>\n",
              "    <tr>\n",
              "      <th>3211813</th>\n",
              "      <td>2023-03-31 06:43:25</td>\n",
              "      <td>2023-03-31 08:29:57</td>\n",
              "      <td>1.0</td>\n",
              "      <td>84.77</td>\n",
              "      <td>132</td>\n",
              "      <td>265</td>\n",
              "      <td>2</td>\n",
              "      <td>517.05</td>\n",
              "    </tr>\n",
              "    <tr>\n",
              "      <th>3265993</th>\n",
              "      <td>2023-03-31 16:56:04</td>\n",
              "      <td>2023-03-31 16:57:02</td>\n",
              "      <td>1.0</td>\n",
              "      <td>0.00</td>\n",
              "      <td>181</td>\n",
              "      <td>181</td>\n",
              "      <td>4</td>\n",
              "      <td>501.00</td>\n",
              "    </tr>\n",
              "  </tbody>\n",
              "</table>\n",
              "</div>\n",
              "      <button class=\"colab-df-convert\" onclick=\"convertToInteractive('df-2e6ff3a2-e832-48d0-b8d2-36d8827d967c')\"\n",
              "              title=\"Convert this dataframe to an interactive table.\"\n",
              "              style=\"display:none;\">\n",
              "        \n",
              "  <svg xmlns=\"http://www.w3.org/2000/svg\" height=\"24px\"viewBox=\"0 0 24 24\"\n",
              "       width=\"24px\">\n",
              "    <path d=\"M0 0h24v24H0V0z\" fill=\"none\"/>\n",
              "    <path d=\"M18.56 5.44l.94 2.06.94-2.06 2.06-.94-2.06-.94-.94-2.06-.94 2.06-2.06.94zm-11 1L8.5 8.5l.94-2.06 2.06-.94-2.06-.94L8.5 2.5l-.94 2.06-2.06.94zm10 10l.94 2.06.94-2.06 2.06-.94-2.06-.94-.94-2.06-.94 2.06-2.06.94z\"/><path d=\"M17.41 7.96l-1.37-1.37c-.4-.4-.92-.59-1.43-.59-.52 0-1.04.2-1.43.59L10.3 9.45l-7.72 7.72c-.78.78-.78 2.05 0 2.83L4 21.41c.39.39.9.59 1.41.59.51 0 1.02-.2 1.41-.59l7.78-7.78 2.81-2.81c.8-.78.8-2.07 0-2.86zM5.41 20L4 18.59l7.72-7.72 1.47 1.35L5.41 20z\"/>\n",
              "  </svg>\n",
              "      </button>\n",
              "      \n",
              "  <style>\n",
              "    .colab-df-container {\n",
              "      display:flex;\n",
              "      flex-wrap:wrap;\n",
              "      gap: 12px;\n",
              "    }\n",
              "\n",
              "    .colab-df-convert {\n",
              "      background-color: #E8F0FE;\n",
              "      border: none;\n",
              "      border-radius: 50%;\n",
              "      cursor: pointer;\n",
              "      display: none;\n",
              "      fill: #1967D2;\n",
              "      height: 32px;\n",
              "      padding: 0 0 0 0;\n",
              "      width: 32px;\n",
              "    }\n",
              "\n",
              "    .colab-df-convert:hover {\n",
              "      background-color: #E2EBFA;\n",
              "      box-shadow: 0px 1px 2px rgba(60, 64, 67, 0.3), 0px 1px 3px 1px rgba(60, 64, 67, 0.15);\n",
              "      fill: #174EA6;\n",
              "    }\n",
              "\n",
              "    [theme=dark] .colab-df-convert {\n",
              "      background-color: #3B4455;\n",
              "      fill: #D2E3FC;\n",
              "    }\n",
              "\n",
              "    [theme=dark] .colab-df-convert:hover {\n",
              "      background-color: #434B5C;\n",
              "      box-shadow: 0px 1px 3px 1px rgba(0, 0, 0, 0.15);\n",
              "      filter: drop-shadow(0px 1px 2px rgba(0, 0, 0, 0.3));\n",
              "      fill: #FFFFFF;\n",
              "    }\n",
              "  </style>\n",
              "\n",
              "      <script>\n",
              "        const buttonEl =\n",
              "          document.querySelector('#df-2e6ff3a2-e832-48d0-b8d2-36d8827d967c button.colab-df-convert');\n",
              "        buttonEl.style.display =\n",
              "          google.colab.kernel.accessAllowed ? 'block' : 'none';\n",
              "\n",
              "        async function convertToInteractive(key) {\n",
              "          const element = document.querySelector('#df-2e6ff3a2-e832-48d0-b8d2-36d8827d967c');\n",
              "          const dataTable =\n",
              "            await google.colab.kernel.invokeFunction('convertToInteractive',\n",
              "                                                     [key], {});\n",
              "          if (!dataTable) return;\n",
              "\n",
              "          const docLinkHtml = 'Like what you see? Visit the ' +\n",
              "            '<a target=\"_blank\" href=https://colab.research.google.com/notebooks/data_table.ipynb>data table notebook</a>'\n",
              "            + ' to learn more about interactive tables.';\n",
              "          element.innerHTML = '';\n",
              "          dataTable['output_type'] = 'display_data';\n",
              "          await google.colab.output.renderOutput(dataTable, element);\n",
              "          const docLink = document.createElement('div');\n",
              "          docLink.innerHTML = docLinkHtml;\n",
              "          element.appendChild(docLink);\n",
              "        }\n",
              "      </script>\n",
              "    </div>\n",
              "  </div>\n",
              "  "
            ]
          },
          "metadata": {},
          "execution_count": 16
        }
      ],
      "source": [
        "df[df['total_amount']>=500]"
      ]
    },
    {
      "cell_type": "markdown",
      "metadata": {
        "id": "JiuSRSS70Nbo"
      },
      "source": [
        "#### Nous pouvons constater que la variable Trip distance contient des valeurs = 0 sachant que le total amounts est > 0"
      ]
    },
    {
      "cell_type": "code",
      "execution_count": null,
      "metadata": {
        "id": "aVSpAB9c0Nbo"
      },
      "outputs": [],
      "source": [
        "df=df[df['trip_distance']>0]"
      ]
    },
    {
      "cell_type": "code",
      "execution_count": null,
      "metadata": {
        "colab": {
          "base_uri": "https://localhost:8080/",
          "height": 483
        },
        "id": "I5PA0Eb40Nbo",
        "outputId": "bac21214-271e-47f1-f2d3-0cb83b10d0e9"
      },
      "outputs": [
        {
          "output_type": "stream",
          "name": "stdout",
          "text": [
            "distance maximum : 14257.91\n",
            "distance minimum : 0.01\n"
          ]
        },
        {
          "output_type": "display_data",
          "data": {
            "text/plain": [
              "<Figure size 640x480 with 1 Axes>"
            ],
            "image/png": "[encoded data removed]"
          },
          "metadata": {}
        }
      ],
      "source": [
        "# Trip_Distance\n",
        "\n",
        "df['trip_distance'].plot()\n",
        "#données aberrantes\n",
        "print('distance maximum : '+str(df['trip_distance'].max()))\n",
        "print('distance minimum : '+str(df['trip_distance'].min()))           \n"
      ]
    },
    {
      "cell_type": "code",
      "execution_count": null,
      "metadata": {
        "colab": {
          "base_uri": "https://localhost:8080/",
          "height": 1000
        },
        "id": "fO-808IU0Nbo",
        "outputId": "3eff8664-9e92-4867-e035-1346c03328aa"
      },
      "outputs": [
        {
          "output_type": "execute_result",
          "data": {
            "text/plain": [
              "        tpep_pickup_datetime tpep_dropoff_datetime  passenger_count  \\\n",
              "165836   2023-03-02 15:45:34   2023-03-02 16:00:45              1.0   \n",
              "236005   2023-03-03 06:04:19   2023-03-03 06:19:43              1.0   \n",
              "262282   2023-03-03 12:01:53   2023-03-03 12:12:38              1.0   \n",
              "279590   2023-03-03 15:39:12   2023-03-03 16:00:02              1.0   \n",
              "752920   2023-03-08 06:41:30   2023-03-08 07:24:04              1.0   \n",
              "753670   2023-03-08 06:33:33   2023-03-08 07:03:31              1.0   \n",
              "806684   2023-03-08 15:49:52   2023-03-08 16:00:20              1.0   \n",
              "817410   2023-03-08 17:33:44   2023-03-08 18:01:40              1.0   \n",
              "1070240  2023-03-10 19:12:22   2023-03-10 19:18:55              1.0   \n",
              "1073514  2023-03-10 19:48:23   2023-03-10 20:02:28              1.0   \n",
              "1483409  2023-03-14 19:43:22   2023-03-14 20:10:15              1.0   \n",
              "1563282  2023-03-15 15:46:09   2023-03-15 16:03:11              1.0   \n",
              "1698476  2023-03-16 18:30:52   2023-03-16 19:32:04              1.0   \n",
              "1783520  2023-03-17 14:35:36   2023-03-17 16:06:27              1.0   \n",
              "1822448  2023-03-17 19:50:15   2023-03-17 20:00:51              1.0   \n",
              "1824681  2023-03-17 19:47:07   2023-03-17 20:22:06              1.0   \n",
              "2234070  2023-03-21 19:38:54   2023-03-21 20:11:14              1.0   \n",
              "2520445  2023-03-24 15:49:49   2023-03-24 16:01:32              1.0   \n",
              "2525189  2023-03-24 15:53:50   2023-03-24 16:02:49              1.0   \n",
              "2526257  2023-03-24 15:49:24   2023-03-24 16:03:50              1.0   \n",
              "2551921  2023-03-24 19:56:47   2023-03-24 20:01:11              1.0   \n",
              "2564450  2023-03-24 21:16:32   2023-03-24 21:23:42              1.0   \n",
              "2797851  2023-03-27 09:57:18   2023-03-27 10:11:48              1.0   \n",
              "2855999  2023-03-27 19:52:48   2023-03-27 20:03:22              2.0   \n",
              "3028576  2023-03-29 15:41:55   2023-03-29 16:05:34              1.0   \n",
              "3122659  2023-03-30 12:29:50   2023-03-30 13:10:26              1.0   \n",
              "3167790  2023-03-30 18:28:12   2023-03-30 18:42:13              1.0   \n",
              "3207753  2023-03-31 01:02:34   2023-03-31 01:25:16              1.0   \n",
              "3260063  2023-03-31 16:50:59   2023-03-31 16:53:11              2.0   \n",
              "\n",
              "         trip_distance  PULocationID  DOLocationID  payment_type  total_amount  \n",
              "165836         9674.01           161            68             1         20.20  \n",
              "236005        13032.40            75           142             1         18.76  \n",
              "262282         7571.55           162           163             1         18.48  \n",
              "279590         9676.40            87           112             1         33.60  \n",
              "752920        10011.29           132            61             1         66.29  \n",
              "753670        14257.91            82            75             1         35.17  \n",
              "806684         9675.23           138           260             1         24.65  \n",
              "817410         2335.96           161           255             1         46.63  \n",
              "1070240       10961.43           140           263             2         15.10  \n",
              "1073514        9673.99           161           229             1         23.16  \n",
              "1483409        9678.48           138           162             1         76.00  \n",
              "1563282        9674.62           246           161             1         22.20  \n",
              "1698476        9681.04           264            89             1         87.50  \n",
              "1783520        9672.96           186           263             1         69.34  \n",
              "1822448        9673.71            48           161             1         20.64  \n",
              "1824681        9679.21            70           142             1         63.65  \n",
              "2234070        9683.28           132           217             1         73.55  \n",
              "2520445        9673.79           170            90             1         19.32  \n",
              "2525189        9673.59           233           170             1         15.96  \n",
              "2526257        9673.76           162           230             1         21.00  \n",
              "2551921        9673.52           263           236             1         15.60  \n",
              "2564450        9771.65            79           137             2         14.30  \n",
              "2797851        1005.90           236           170             1         24.36  \n",
              "2855999        9673.48           230           163             1         20.64  \n",
              "3028576        9677.44           166           186             2         34.30  \n",
              "3122659         290.59            68           262             1         46.20  \n",
              "3167790        9672.96           161           161             1         23.16  \n",
              "3207753        5006.88           161            88             2         36.00  \n",
              "3260063        9673.06           236           236             3         10.90  "
            ],
            "text/html": [
              "\n",
              "  <div id=\"df-2c420a39-3173-42ec-9dfc-1a13e69ce71d\">\n",
              "    <div class=\"colab-df-container\">\n",
              "      <div>\n",
              "<style scoped>\n",
              "    .dataframe tbody tr th:only-of-type {\n",
              "        vertical-align: middle;\n",
              "    }\n",
              "\n",
              "    .dataframe tbody tr th {\n",
              "        vertical-align: top;\n",
              "    }\n",
              "\n",
              "    .dataframe thead th {\n",
              "        text-align: right;\n",
              "    }\n",
              "</style>\n",
              "<table border=\"1\" class=\"dataframe\">\n",
              "  <thead>\n",
              "    <tr style=\"text-align: right;\">\n",
              "      <th></th>\n",
              "      <th>tpep_pickup_datetime</th>\n",
              "      <th>tpep_dropoff_datetime</th>\n",
              "      <th>passenger_count</th>\n",
              "      <th>trip_distance</th>\n",
              "      <th>PULocationID</th>\n",
              "      <th>DOLocationID</th>\n",
              "      <th>payment_type</th>\n",
              "      <th>total_amount</th>\n",
              "    </tr>\n",
              "  </thead>\n",
              "  <tbody>\n",
              "    <tr>\n",
              "      <th>165836</th>\n",
              "      <td>2023-03-02 15:45:34</td>\n",
              "      <td>2023-03-02 16:00:45</td>\n",
              "      <td>1.0</td>\n",
              "      <td>9674.01</td>\n",
              "      <td>161</td>\n",
              "      <td>68</td>\n",
              "      <td>1</td>\n",
              "      <td>20.20</td>\n",
              "    </tr>\n",
              "    <tr>\n",
              "      <th>236005</th>\n",
              "      <td>2023-03-03 06:04:19</td>\n",
              "      <td>2023-03-03 06:19:43</td>\n",
              "      <td>1.0</td>\n",
              "      <td>13032.40</td>\n",
              "      <td>75</td>\n",
              "      <td>142</td>\n",
              "      <td>1</td>\n",
              "      <td>18.76</td>\n",
              "    </tr>\n",
              "    <tr>\n",
              "      <th>262282</th>\n",
              "      <td>2023-03-03 12:01:53</td>\n",
              "      <td>2023-03-03 12:12:38</td>\n",
              "      <td>1.0</td>\n",
              "      <td>7571.55</td>\n",
              "      <td>162</td>\n",
              "      <td>163</td>\n",
              "      <td>1</td>\n",
              "      <td>18.48</td>\n",
              "    </tr>\n",
              "    <tr>\n",
              "      <th>279590</th>\n",
              "      <td>2023-03-03 15:39:12</td>\n",
              "      <td>2023-03-03 16:00:02</td>\n",
              "      <td>1.0</td>\n",
              "      <td>9676.40</td>\n",
              "      <td>87</td>\n",
              "      <td>112</td>\n",
              "      <td>1</td>\n",
              "      <td>33.60</td>\n",
              "    </tr>\n",
              "    <tr>\n",
              "      <th>752920</th>\n",
              "      <td>2023-03-08 06:41:30</td>\n",
              "      <td>2023-03-08 07:24:04</td>\n",
              "      <td>1.0</td>\n",
              "      <td>10011.29</td>\n",
              "      <td>132</td>\n",
              "      <td>61</td>\n",
              "      <td>1</td>\n",
              "      <td>66.29</td>\n",
              "    </tr>\n",
              "    <tr>\n",
              "      <th>753670</th>\n",
              "      <td>2023-03-08 06:33:33</td>\n",
              "      <td>2023-03-08 07:03:31</td>\n",
              "      <td>1.0</td>\n",
              "      <td>14257.91</td>\n",
              "      <td>82</td>\n",
              "      <td>75</td>\n",
              "      <td>1</td>\n",
              "      <td>35.17</td>\n",
              "    </tr>\n",
              "    <tr>\n",
              "      <th>806684</th>\n",
              "      <td>2023-03-08 15:49:52</td>\n",
              "      <td>2023-03-08 16:00:20</td>\n",
              "      <td>1.0</td>\n",
              "      <td>9675.23</td>\n",
              "      <td>138</td>\n",
              "      <td>260</td>\n",
              "      <td>1</td>\n",
              "      <td>24.65</td>\n",
              "    </tr>\n",
              "    <tr>\n",
              "      <th>817410</th>\n",
              "      <td>2023-03-08 17:33:44</td>\n",
              "      <td>2023-03-08 18:01:40</td>\n",
              "      <td>1.0</td>\n",
              "      <td>2335.96</td>\n",
              "      <td>161</td>\n",
              "      <td>255</td>\n",
              "      <td>1</td>\n",
              "      <td>46.63</td>\n",
              "    </tr>\n",
              "    <tr>\n",
              "      <th>1070240</th>\n",
              "      <td>2023-03-10 19:12:22</td>\n",
              "      <td>2023-03-10 19:18:55</td>\n",
              "      <td>1.0</td>\n",
              "      <td>10961.43</td>\n",
              "      <td>140</td>\n",
              "      <td>263</td>\n",
              "      <td>2</td>\n",
              "      <td>15.10</td>\n",
              "    </tr>\n",
              "    <tr>\n",
              "      <th>1073514</th>\n",
              "      <td>2023-03-10 19:48:23</td>\n",
              "      <td>2023-03-10 20:02:28</td>\n",
              "      <td>1.0</td>\n",
              "      <td>9673.99</td>\n",
              "      <td>161</td>\n",
              "      <td>229</td>\n",
              "      <td>1</td>\n",
              "      <td>23.16</td>\n",
              "    </tr>\n",
              "    <tr>\n",
              "      <th>1483409</th>\n",
              "      <td>2023-03-14 19:43:22</td>\n",
              "      <td>2023-03-14 20:10:15</td>\n",
              "      <td>1.0</td>\n",
              "      <td>9678.48</td>\n",
              "      <td>138</td>\n",
              "      <td>162</td>\n",
              "      <td>1</td>\n",
              "      <td>76.00</td>\n",
              "    </tr>\n",
              "    <tr>\n",
              "      <th>1563282</th>\n",
              "      <td>2023-03-15 15:46:09</td>\n",
              "      <td>2023-03-15 16:03:11</td>\n",
              "      <td>1.0</td>\n",
              "      <td>9674.62</td>\n",
              "      <td>246</td>\n",
              "      <td>161</td>\n",
              "      <td>1</td>\n",
              "      <td>22.20</td>\n",
              "    </tr>\n",
              "    <tr>\n",
              "      <th>1698476</th>\n",
              "      <td>2023-03-16 18:30:52</td>\n",
              "      <td>2023-03-16 19:32:04</td>\n",
              "      <td>1.0</td>\n",
              "      <td>9681.04</td>\n",
              "      <td>264</td>\n",
              "      <td>89</td>\n",
              "      <td>1</td>\n",
              "      <td>87.50</td>\n",
              "    </tr>\n",
              "    <tr>\n",
              "      <th>1783520</th>\n",
              "      <td>2023-03-17 14:35:36</td>\n",
              "      <td>2023-03-17 16:06:27</td>\n",
              "      <td>1.0</td>\n",
              "      <td>9672.96</td>\n",
              "      <td>186</td>\n",
              "      <td>263</td>\n",
              "      <td>1</td>\n",
              "      <td>69.34</td>\n",
              "    </tr>\n",
              "    <tr>\n",
              "      <th>1822448</th>\n",
              "      <td>2023-03-17 19:50:15</td>\n",
              "      <td>2023-03-17 20:00:51</td>\n",
              "      <td>1.0</td>\n",
              "      <td>9673.71</td>\n",
              "      <td>48</td>\n",
              "      <td>161</td>\n",
              "      <td>1</td>\n",
              "      <td>20.64</td>\n",
              "    </tr>\n",
              "    <tr>\n",
              "      <th>1824681</th>\n",
              "      <td>2023-03-17 19:47:07</td>\n",
              "      <td>2023-03-17 20:22:06</td>\n",
              "      <td>1.0</td>\n",
              "      <td>9679.21</td>\n",
              "      <td>70</td>\n",
              "      <td>142</td>\n",
              "      <td>1</td>\n",
              "      <td>63.65</td>\n",
              "    </tr>\n",
              "    <tr>\n",
              "      <th>2234070</th>\n",
              "      <td>2023-03-21 19:38:54</td>\n",
              "      <td>2023-03-21 20:11:14</td>\n",
              "      <td>1.0</td>\n",
              "      <td>9683.28</td>\n",
              "      <td>132</td>\n",
              "      <td>217</td>\n",
              "      <td>1</td>\n",
              "      <td>73.55</td>\n",
              "    </tr>\n",
              "    <tr>\n",
              "      <th>2520445</th>\n",
              "      <td>2023-03-24 15:49:49</td>\n",
              "      <td>2023-03-24 16:01:32</td>\n",
              "      <td>1.0</td>\n",
              "      <td>9673.79</td>\n",
              "      <td>170</td>\n",
              "      <td>90</td>\n",
              "      <td>1</td>\n",
              "      <td>19.32</td>\n",
              "    </tr>\n",
              "    <tr>\n",
              "      <th>2525189</th>\n",
              "      <td>2023-03-24 15:53:50</td>\n",
              "      <td>2023-03-24 16:02:49</td>\n",
              "      <td>1.0</td>\n",
              "      <td>9673.59</td>\n",
              "      <td>233</td>\n",
              "      <td>170</td>\n",
              "      <td>1</td>\n",
              "      <td>15.96</td>\n",
              "    </tr>\n",
              "    <tr>\n",
              "      <th>2526257</th>\n",
              "      <td>2023-03-24 15:49:24</td>\n",
              "      <td>2023-03-24 16:03:50</td>\n",
              "      <td>1.0</td>\n",
              "      <td>9673.76</td>\n",
              "      <td>162</td>\n",
              "      <td>230</td>\n",
              "      <td>1</td>\n",
              "      <td>21.00</td>\n",
              "    </tr>\n",
              "    <tr>\n",
              "      <th>2551921</th>\n",
              "      <td>2023-03-24 19:56:47</td>\n",
              "      <td>2023-03-24 20:01:11</td>\n",
              "      <td>1.0</td>\n",
              "      <td>9673.52</td>\n",
              "      <td>263</td>\n",
              "      <td>236</td>\n",
              "      <td>1</td>\n",
              "      <td>15.60</td>\n",
              "    </tr>\n",
              "    <tr>\n",
              "      <th>2564450</th>\n",
              "      <td>2023-03-24 21:16:32</td>\n",
              "      <td>2023-03-24 21:23:42</td>\n",
              "      <td>1.0</td>\n",
              "      <td>9771.65</td>\n",
              "      <td>79</td>\n",
              "      <td>137</td>\n",
              "      <td>2</td>\n",
              "      <td>14.30</td>\n",
              "    </tr>\n",
              "    <tr>\n",
              "      <th>2797851</th>\n",
              "      <td>2023-03-27 09:57:18</td>\n",
              "      <td>2023-03-27 10:11:48</td>\n",
              "      <td>1.0</td>\n",
              "      <td>1005.90</td>\n",
              "      <td>236</td>\n",
              "      <td>170</td>\n",
              "      <td>1</td>\n",
              "      <td>24.36</td>\n",
              "    </tr>\n",
              "    <tr>\n",
              "      <th>2855999</th>\n",
              "      <td>2023-03-27 19:52:48</td>\n",
              "      <td>2023-03-27 20:03:22</td>\n",
              "      <td>2.0</td>\n",
              "      <td>9673.48</td>\n",
              "      <td>230</td>\n",
              "      <td>163</td>\n",
              "      <td>1</td>\n",
              "      <td>20.64</td>\n",
              "    </tr>\n",
              "    <tr>\n",
              "      <th>3028576</th>\n",
              "      <td>2023-03-29 15:41:55</td>\n",
              "      <td>2023-03-29 16:05:34</td>\n",
              "      <td>1.0</td>\n",
              "      <td>9677.44</td>\n",
              "      <td>166</td>\n",
              "      <td>186</td>\n",
              "      <td>2</td>\n",
              "      <td>34.30</td>\n",
              "    </tr>\n",
              "    <tr>\n",
              "      <th>3122659</th>\n",
              "      <td>2023-03-30 12:29:50</td>\n",
              "      <td>2023-03-30 13:10:26</td>\n",
              "      <td>1.0</td>\n",
              "      <td>290.59</td>\n",
              "      <td>68</td>\n",
              "      <td>262</td>\n",
              "      <td>1</td>\n",
              "      <td>46.20</td>\n",
              "    </tr>\n",
              "    <tr>\n",
              "      <th>3167790</th>\n",
              "      <td>2023-03-30 18:28:12</td>\n",
              "      <td>2023-03-30 18:42:13</td>\n",
              "      <td>1.0</td>\n",
              "      <td>9672.96</td>\n",
              "      <td>161</td>\n",
              "      <td>161</td>\n",
              "      <td>1</td>\n",
              "      <td>23.16</td>\n",
              "    </tr>\n",
              "    <tr>\n",
              "      <th>3207753</th>\n",
              "      <td>2023-03-31 01:02:34</td>\n",
              "      <td>2023-03-31 01:25:16</td>\n",
              "      <td>1.0</td>\n",
              "      <td>5006.88</td>\n",
              "      <td>161</td>\n",
              "      <td>88</td>\n",
              "      <td>2</td>\n",
              "      <td>36.00</td>\n",
              "    </tr>\n",
              "    <tr>\n",
              "      <th>3260063</th>\n",
              "      <td>2023-03-31 16:50:59</td>\n",
              "      <td>2023-03-31 16:53:11</td>\n",
              "      <td>2.0</td>\n",
              "      <td>9673.06</td>\n",
              "      <td>236</td>\n",
              "      <td>236</td>\n",
              "      <td>3</td>\n",
              "      <td>10.90</td>\n",
              "    </tr>\n",
              "  </tbody>\n",
              "</table>\n",
              "</div>\n",
              "      <button class=\"colab-df-convert\" onclick=\"convertToInteractive('df-2c420a39-3173-42ec-9dfc-1a13e69ce71d')\"\n",
              "              title=\"Convert this dataframe to an interactive table.\"\n",
              "              style=\"display:none;\">\n",
              "        \n",
              "  <svg xmlns=\"http://www.w3.org/2000/svg\" height=\"24px\"viewBox=\"0 0 24 24\"\n",
              "       width=\"24px\">\n",
              "    <path d=\"M0 0h24v24H0V0z\" fill=\"none\"/>\n",
              "    <path d=\"M18.56 5.44l.94 2.06.94-2.06 2.06-.94-2.06-.94-.94-2.06-.94 2.06-2.06.94zm-11 1L8.5 8.5l.94-2.06 2.06-.94-2.06-.94L8.5 2.5l-.94 2.06-2.06.94zm10 10l.94 2.06.94-2.06 2.06-.94-2.06-.94-.94-2.06-.94 2.06-2.06.94z\"/><path d=\"M17.41 7.96l-1.37-1.37c-.4-.4-.92-.59-1.43-.59-.52 0-1.04.2-1.43.59L10.3 9.45l-7.72 7.72c-.78.78-.78 2.05 0 2.83L4 21.41c.39.39.9.59 1.41.59.51 0 1.02-.2 1.41-.59l7.78-7.78 2.81-2.81c.8-.78.8-2.07 0-2.86zM5.41 20L4 18.59l7.72-7.72 1.47 1.35L5.41 20z\"/>\n",
              "  </svg>\n",
              "      </button>\n",
              "      \n",
              "  <style>\n",
              "    .colab-df-container {\n",
              "      display:flex;\n",
              "      flex-wrap:wrap;\n",
              "      gap: 12px;\n",
              "    }\n",
              "\n",
              "    .colab-df-convert {\n",
              "      background-color: #E8F0FE;\n",
              "      border: none;\n",
              "      border-radius: 50%;\n",
              "      cursor: pointer;\n",
              "      display: none;\n",
              "      fill: #1967D2;\n",
              "      height: 32px;\n",
              "      padding: 0 0 0 0;\n",
              "      width: 32px;\n",
              "    }\n",
              "\n",
              "    .colab-df-convert:hover {\n",
              "      background-color: #E2EBFA;\n",
              "      box-shadow: 0px 1px 2px rgba(60, 64, 67, 0.3), 0px 1px 3px 1px rgba(60, 64, 67, 0.15);\n",
              "      fill: #174EA6;\n",
              "    }\n",
              "\n",
              "    [theme=dark] .colab-df-convert {\n",
              "      background-color: #3B4455;\n",
              "      fill: #D2E3FC;\n",
              "    }\n",
              "\n",
              "    [theme=dark] .colab-df-convert:hover {\n",
              "      background-color: #434B5C;\n",
              "      box-shadow: 0px 1px 3px 1px rgba(0, 0, 0, 0.15);\n",
              "      filter: drop-shadow(0px 1px 2px rgba(0, 0, 0, 0.3));\n",
              "      fill: #FFFFFF;\n",
              "    }\n",
              "  </style>\n",
              "\n",
              "      <script>\n",
              "        const buttonEl =\n",
              "          document.querySelector('#df-2c420a39-3173-42ec-9dfc-1a13e69ce71d button.colab-df-convert');\n",
              "        buttonEl.style.display =\n",
              "          google.colab.kernel.accessAllowed ? 'block' : 'none';\n",
              "\n",
              "        async function convertToInteractive(key) {\n",
              "          const element = document.querySelector('#df-2c420a39-3173-42ec-9dfc-1a13e69ce71d');\n",
              "          const dataTable =\n",
              "            await google.colab.kernel.invokeFunction('convertToInteractive',\n",
              "                                                     [key], {});\n",
              "          if (!dataTable) return;\n",
              "\n",
              "          const docLinkHtml = 'Like what you see? Visit the ' +\n",
              "            '<a target=\"_blank\" href=https://colab.research.google.com/notebooks/data_table.ipynb>data table notebook</a>'\n",
              "            + ' to learn more about interactive tables.';\n",
              "          element.innerHTML = '';\n",
              "          dataTable['output_type'] = 'display_data';\n",
              "          await google.colab.output.renderOutput(dataTable, element);\n",
              "          const docLink = document.createElement('div');\n",
              "          docLink.innerHTML = docLinkHtml;\n",
              "          element.appendChild(docLink);\n",
              "        }\n",
              "      </script>\n",
              "    </div>\n",
              "  </div>\n",
              "  "
            ]
          },
          "metadata": {},
          "execution_count": 19
        }
      ],
      "source": [
        "df[df['trip_distance']>240]"
      ]
    },
    {
      "cell_type": "markdown",
      "metadata": {
        "id": "5qw4P0gn0Nbp"
      },
      "source": [
        "#### En général un taxi roule entre 120 et 240 Km par jour Nous allons dans un premier temps supprimer tous les trajets supérieur à 240 km et  inférieur à 0,32 km (le minimum)"
      ]
    },
    {
      "cell_type": "code",
      "execution_count": null,
      "metadata": {
        "id": "5oaBqERGCLB6"
      },
      "outputs": [],
      "source": [
        "df= df[df['trip_distance']<240]\n"
      ]
    },
    {
      "cell_type": "code",
      "execution_count": null,
      "metadata": {
        "id": "U8UGgPNS0Nbp"
      },
      "outputs": [],
      "source": [
        "df= df[df['trip_distance']>0.32]"
      ]
    },
    {
      "cell_type": "code",
      "execution_count": null,
      "metadata": {
        "colab": {
          "base_uri": "https://localhost:8080/",
          "height": 483
        },
        "id": "JonH-dte0Nbp",
        "outputId": "ccfb5558-2370-444d-9da1-e3207abaebf5"
      },
      "outputs": [
        {
          "output_type": "stream",
          "name": "stdout",
          "text": [
            "distance maximum : 198.07\n",
            "distance minimum : 0.33\n"
          ]
        },
        {
          "output_type": "display_data",
          "data": {
            "text/plain": [
              "<Figure size 640x480 with 1 Axes>"
            ],
            "image/png": "[encoded data removed]"
          },
          "metadata": {}
        }
      ],
      "source": [
        "# Trip_Distance\n",
        "\n",
        "df['trip_distance'].plot()\n",
        "#données aberrantes\n",
        "print('distance maximum : '+str(df['trip_distance'].max()))\n",
        "print('distance minimum : '+str(df['trip_distance'].min()))  "
      ]
    },
    {
      "cell_type": "code",
      "execution_count": null,
      "metadata": {
        "colab": {
          "base_uri": "https://localhost:8080/"
        },
        "id": "ZMULbta2BpbC",
        "outputId": "c401143c-233b-4eb6-b51e-a0d4f2884fdd"
      },
      "outputs": [
        {
          "output_type": "execute_result",
          "data": {
            "text/plain": [
              "(3207236, 8)"
            ]
          },
          "metadata": {},
          "execution_count": 23
        }
      ],
      "source": [
        "# Dimmension \n",
        "df.shape"
      ]
    },
    {
      "cell_type": "code",
      "execution_count": null,
      "metadata": {
        "colab": {
          "base_uri": "https://localhost:8080/",
          "height": 465
        },
        "id": "5hJt65XIB1A7",
        "outputId": "6756ba3a-a725-4589-f8b3-ad1eaff8d069"
      },
      "outputs": [
        {
          "output_type": "execute_result",
          "data": {
            "text/plain": [
              "<Axes: >"
            ]
          },
          "metadata": {},
          "execution_count": 24
        },
        {
          "output_type": "display_data",
          "data": {
            "text/plain": [
              "<Figure size 640x480 with 1 Axes>"
            ],
            "image/png": "[encoded data removed]"
          },
          "metadata": {}
        }
      ],
      "source": [
        "df['total_amount'].plot()"
      ]
    },
    {
      "cell_type": "code",
      "execution_count": null,
      "metadata": {
        "colab": {
          "base_uri": "https://localhost:8080/"
        },
        "id": "-29pzskeDG7C",
        "outputId": "275497e5-bd28-43b7-b0a0-82240eea33a7"
      },
      "outputs": [
        {
          "output_type": "execute_result",
          "data": {
            "text/plain": [
              "False    3207234\n",
              "True           2\n",
              "Name: total_amount, dtype: int64"
            ]
          },
          "metadata": {},
          "execution_count": 25
        }
      ],
      "source": [
        "#(df['total_amount']>800).value_counts()"
      ]
    },
    {
      "cell_type": "code",
      "execution_count": null,
      "metadata": {
        "id": "O4tpZkDKDS1y"
      },
      "outputs": [],
      "source": [
        "#Suppression de la ligne avec prix égal à 2100$ : valeur aberrante\n",
        "#df=df[df['total_amount']<=800]"
      ]
    },
    {
      "cell_type": "code",
      "execution_count": null,
      "metadata": {
        "colab": {
          "base_uri": "https://localhost:8080/",
          "height": 465
        },
        "id": "DeApKRTlDfAC",
        "outputId": "c0e04e69-a1da-430e-9d31-851d73b88e44"
      },
      "outputs": [
        {
          "output_type": "execute_result",
          "data": {
            "text/plain": [
              "<Axes: >"
            ]
          },
          "metadata": {},
          "execution_count": 26
        },
        {
          "output_type": "display_data",
          "data": {
            "text/plain": [
              "<Figure size 640x480 with 1 Axes>"
            ],
            "image/png": "[encoded data removed]"
          },
          "metadata": {}
        }
      ],
      "source": [
        "df['total_amount'].plot()"
      ]
    },
    {
      "cell_type": "code",
      "execution_count": null,
      "metadata": {
        "id": "VkxCfRRYF9eT",
        "colab": {
          "base_uri": "https://localhost:8080/",
          "height": 357
        },
        "outputId": "d79cf128-8eb2-45e5-b70f-906c86b196e6"
      },
      "outputs": [
        {
          "output_type": "execute_result",
          "data": {
            "text/plain": [
              "  tpep_pickup_datetime tpep_dropoff_datetime  passenger_count  trip_distance  \\\n",
              "1  2023-03-01 00:08:25   2023-03-01 00:39:30              2.0          12.40   \n",
              "2  2023-03-01 00:15:04   2023-03-01 00:29:26              0.0           3.30   \n",
              "3  2023-03-01 00:49:37   2023-03-01 01:01:05              1.0           2.90   \n",
              "4  2023-03-01 00:08:04   2023-03-01 00:11:06              1.0           1.23   \n",
              "5  2023-03-01 00:09:09   2023-03-01 00:17:34              1.0           1.20   \n",
              "\n",
              "   PULocationID  DOLocationID  payment_type  total_amount           durée  \n",
              "1           138           231             1         76.49 0 days 00:31:05  \n",
              "2           140           186             1         28.05 0 days 00:14:22  \n",
              "3           140            43             1         24.70 0 days 00:11:28  \n",
              "4            79           137             1         14.64 0 days 00:03:02  \n",
              "5           162           137             1         18.00 0 days 00:08:25  "
            ],
            "text/html": [
              "\n",
              "  <div id=\"df-b795b8e3-2390-4604-9e7a-dc2c64b3d087\">\n",
              "    <div class=\"colab-df-container\">\n",
              "      <div>\n",
              "<style scoped>\n",
              "    .dataframe tbody tr th:only-of-type {\n",
              "        vertical-align: middle;\n",
              "    }\n",
              "\n",
              "    .dataframe tbody tr th {\n",
              "        vertical-align: top;\n",
              "    }\n",
              "\n",
              "    .dataframe thead th {\n",
              "        text-align: right;\n",
              "    }\n",
              "</style>\n",
              "<table border=\"1\" class=\"dataframe\">\n",
              "  <thead>\n",
              "    <tr style=\"text-align: right;\">\n",
              "      <th></th>\n",
              "      <th>tpep_pickup_datetime</th>\n",
              "      <th>tpep_dropoff_datetime</th>\n",
              "      <th>passenger_count</th>\n",
              "      <th>trip_distance</th>\n",
              "      <th>PULocationID</th>\n",
              "      <th>DOLocationID</th>\n",
              "      <th>payment_type</th>\n",
              "      <th>total_amount</th>\n",
              "      <th>durée</th>\n",
              "    </tr>\n",
              "  </thead>\n",
              "  <tbody>\n",
              "    <tr>\n",
              "      <th>1</th>\n",
              "      <td>2023-03-01 00:08:25</td>\n",
              "      <td>2023-03-01 00:39:30</td>\n",
              "      <td>2.0</td>\n",
              "      <td>12.40</td>\n",
              "      <td>138</td>\n",
              "      <td>231</td>\n",
              "      <td>1</td>\n",
              "      <td>76.49</td>\n",
              "      <td>0 days 00:31:05</td>\n",
              "    </tr>\n",
              "    <tr>\n",
              "      <th>2</th>\n",
              "      <td>2023-03-01 00:15:04</td>\n",
              "      <td>2023-03-01 00:29:26</td>\n",
              "      <td>0.0</td>\n",
              "      <td>3.30</td>\n",
              "      <td>140</td>\n",
              "      <td>186</td>\n",
              "      <td>1</td>\n",
              "      <td>28.05</td>\n",
              "      <td>0 days 00:14:22</td>\n",
              "    </tr>\n",
              "    <tr>\n",
              "      <th>3</th>\n",
              "      <td>2023-03-01 00:49:37</td>\n",
              "      <td>2023-03-01 01:01:05</td>\n",
              "      <td>1.0</td>\n",
              "      <td>2.90</td>\n",
              "      <td>140</td>\n",
              "      <td>43</td>\n",
              "      <td>1</td>\n",
              "      <td>24.70</td>\n",
              "      <td>0 days 00:11:28</td>\n",
              "    </tr>\n",
              "    <tr>\n",
              "      <th>4</th>\n",
              "      <td>2023-03-01 00:08:04</td>\n",
              "      <td>2023-03-01 00:11:06</td>\n",
              "      <td>1.0</td>\n",
              "      <td>1.23</td>\n",
              "      <td>79</td>\n",
              "      <td>137</td>\n",
              "      <td>1</td>\n",
              "      <td>14.64</td>\n",
              "      <td>0 days 00:03:02</td>\n",
              "    </tr>\n",
              "    <tr>\n",
              "      <th>5</th>\n",
              "      <td>2023-03-01 00:09:09</td>\n",
              "      <td>2023-03-01 00:17:34</td>\n",
              "      <td>1.0</td>\n",
              "      <td>1.20</td>\n",
              "      <td>162</td>\n",
              "      <td>137</td>\n",
              "      <td>1</td>\n",
              "      <td>18.00</td>\n",
              "      <td>0 days 00:08:25</td>\n",
              "    </tr>\n",
              "  </tbody>\n",
              "</table>\n",
              "</div>\n",
              "      <button class=\"colab-df-convert\" onclick=\"convertToInteractive('df-b795b8e3-2390-4604-9e7a-dc2c64b3d087')\"\n",
              "              title=\"Convert this dataframe to an interactive table.\"\n",
              "              style=\"display:none;\">\n",
              "        \n",
              "  <svg xmlns=\"http://www.w3.org/2000/svg\" height=\"24px\"viewBox=\"0 0 24 24\"\n",
              "       width=\"24px\">\n",
              "    <path d=\"M0 0h24v24H0V0z\" fill=\"none\"/>\n",
              "    <path d=\"M18.56 5.44l.94 2.06.94-2.06 2.06-.94-2.06-.94-.94-2.06-.94 2.06-2.06.94zm-11 1L8.5 8.5l.94-2.06 2.06-.94-2.06-.94L8.5 2.5l-.94 2.06-2.06.94zm10 10l.94 2.06.94-2.06 2.06-.94-2.06-.94-.94-2.06-.94 2.06-2.06.94z\"/><path d=\"M17.41 7.96l-1.37-1.37c-.4-.4-.92-.59-1.43-.59-.52 0-1.04.2-1.43.59L10.3 9.45l-7.72 7.72c-.78.78-.78 2.05 0 2.83L4 21.41c.39.39.9.59 1.41.59.51 0 1.02-.2 1.41-.59l7.78-7.78 2.81-2.81c.8-.78.8-2.07 0-2.86zM5.41 20L4 18.59l7.72-7.72 1.47 1.35L5.41 20z\"/>\n",
              "  </svg>\n",
              "      </button>\n",
              "      \n",
              "  <style>\n",
              "    .colab-df-container {\n",
              "      display:flex;\n",
              "      flex-wrap:wrap;\n",
              "      gap: 12px;\n",
              "    }\n",
              "\n",
              "    .colab-df-convert {\n",
              "      background-color: #E8F0FE;\n",
              "      border: none;\n",
              "      border-radius: 50%;\n",
              "      cursor: pointer;\n",
              "      display: none;\n",
              "      fill: #1967D2;\n",
              "      height: 32px;\n",
              "      padding: 0 0 0 0;\n",
              "      width: 32px;\n",
              "    }\n",
              "\n",
              "    .colab-df-convert:hover {\n",
              "      background-color: #E2EBFA;\n",
              "      box-shadow: 0px 1px 2px rgba(60, 64, 67, 0.3), 0px 1px 3px 1px rgba(60, 64, 67, 0.15);\n",
              "      fill: #174EA6;\n",
              "    }\n",
              "\n",
              "    [theme=dark] .colab-df-convert {\n",
              "      background-color: #3B4455;\n",
              "      fill: #D2E3FC;\n",
              "    }\n",
              "\n",
              "    [theme=dark] .colab-df-convert:hover {\n",
              "      background-color: #434B5C;\n",
              "      box-shadow: 0px 1px 3px 1px rgba(0, 0, 0, 0.15);\n",
              "      filter: drop-shadow(0px 1px 2px rgba(0, 0, 0, 0.3));\n",
              "      fill: #FFFFFF;\n",
              "    }\n",
              "  </style>\n",
              "\n",
              "      <script>\n",
              "        const buttonEl =\n",
              "          document.querySelector('#df-b795b8e3-2390-4604-9e7a-dc2c64b3d087 button.colab-df-convert');\n",
              "        buttonEl.style.display =\n",
              "          google.colab.kernel.accessAllowed ? 'block' : 'none';\n",
              "\n",
              "        async function convertToInteractive(key) {\n",
              "          const element = document.querySelector('#df-b795b8e3-2390-4604-9e7a-dc2c64b3d087');\n",
              "          const dataTable =\n",
              "            await google.colab.kernel.invokeFunction('convertToInteractive',\n",
              "                                                     [key], {});\n",
              "          if (!dataTable) return;\n",
              "\n",
              "          const docLinkHtml = 'Like what you see? Visit the ' +\n",
              "            '<a target=\"_blank\" href=https://colab.research.google.com/notebooks/data_table.ipynb>data table notebook</a>'\n",
              "            + ' to learn more about interactive tables.';\n",
              "          element.innerHTML = '';\n",
              "          dataTable['output_type'] = 'display_data';\n",
              "          await google.colab.output.renderOutput(dataTable, element);\n",
              "          const docLink = document.createElement('div');\n",
              "          docLink.innerHTML = docLinkHtml;\n",
              "          element.appendChild(docLink);\n",
              "        }\n",
              "      </script>\n",
              "    </div>\n",
              "  </div>\n",
              "  "
            ]
          },
          "metadata": {},
          "execution_count": 27
        }
      ],
      "source": [
        "df['durée']=df['tpep_dropoff_datetime']-df['tpep_pickup_datetime']\n",
        "df.head()"
      ]
    },
    {
      "cell_type": "code",
      "execution_count": null,
      "metadata": {
        "id": "RpBmD0hlGOPB"
      },
      "outputs": [],
      "source": [
        "#b=df['durée'].dt.total_seconds()/3600\n",
        "#b"
      ]
    },
    {
      "cell_type": "code",
      "execution_count": null,
      "metadata": {
        "id": "zOMqLz7QG4Ge"
      },
      "outputs": [],
      "source": [
        "df['mois'] = df.tpep_pickup_datetime.dt.month\n",
        "df['jour'] = df.tpep_pickup_datetime.dt.day\n",
        "df['jour_semaine'] = df.tpep_pickup_datetime.dt.weekday\n",
        "df['annee'] = df.tpep_pickup_datetime.dt.year\n",
        "df['heure'] = df.tpep_pickup_datetime.dt.hour\n",
        "df['minute'] = df.tpep_pickup_datetime.dt.minute\n",
        "\n",
        "# à lancer"
      ]
    },
    {
      "cell_type": "code",
      "source": [
        "df['duree_minute'] = df.durée.dt.total_seconds()/60\n",
        "df"
      ],
      "metadata": {
        "colab": {
          "base_uri": "https://localhost:8080/",
          "height": 661
        },
        "id": "9Evv0J22O5BJ",
        "outputId": "b11be244-df08-4a31-9384-17719aea96c5"
      },
      "execution_count": null,
      "outputs": [
        {
          "output_type": "execute_result",
          "data": {
            "text/plain": [
              "        tpep_pickup_datetime tpep_dropoff_datetime  passenger_count  \\\n",
              "1        2023-03-01 00:08:25   2023-03-01 00:39:30              2.0   \n",
              "2        2023-03-01 00:15:04   2023-03-01 00:29:26              0.0   \n",
              "3        2023-03-01 00:49:37   2023-03-01 01:01:05              1.0   \n",
              "4        2023-03-01 00:08:04   2023-03-01 00:11:06              1.0   \n",
              "5        2023-03-01 00:09:09   2023-03-01 00:17:34              1.0   \n",
              "...                      ...                   ...              ...   \n",
              "3316142  2023-03-31 23:56:39   2023-04-01 00:04:40              1.0   \n",
              "3316143  2023-03-31 23:03:04   2023-03-31 23:05:49              1.0   \n",
              "3316144  2023-03-31 23:18:13   2023-03-31 23:35:07              3.0   \n",
              "3316145  2023-03-31 23:36:02   2023-03-31 23:44:47              1.0   \n",
              "3316146  2023-03-31 23:40:16   2023-03-31 23:56:02              1.0   \n",
              "\n",
              "         trip_distance  PULocationID  DOLocationID  payment_type  \\\n",
              "1                12.40           138           231             1   \n",
              "2                 3.30           140           186             1   \n",
              "3                 2.90           140            43             1   \n",
              "4                 1.23            79           137             1   \n",
              "5                 1.20           162           137             1   \n",
              "...                ...           ...           ...           ...   \n",
              "3316142           2.01           236           142             1   \n",
              "3316143           0.36            48            48             1   \n",
              "3316144           1.68            68           114             1   \n",
              "3316145           1.50           114           137             1   \n",
              "3316146           2.90           142            75             1   \n",
              "\n",
              "         total_amount           durée  mois  jour  jour_semaine  annee  heure  \\\n",
              "1               76.49 0 days 00:31:05     3     1             2   2023      0   \n",
              "2               28.05 0 days 00:14:22     3     1             2   2023      0   \n",
              "3               24.70 0 days 00:11:28     3     1             2   2023      0   \n",
              "4               14.64 0 days 00:03:02     3     1             2   2023      0   \n",
              "5               18.00 0 days 00:08:25     3     1             2   2023      0   \n",
              "...               ...             ...   ...   ...           ...    ...    ...   \n",
              "3316142         19.68 0 days 00:08:01     3    31             4   2023     23   \n",
              "3316143         12.12 0 days 00:02:45     3    31             4   2023     23   \n",
              "3316144         24.72 0 days 00:16:54     3    31             4   2023     23   \n",
              "3316145         17.70 0 days 00:08:45     3    31             4   2023     23   \n",
              "3316146         25.55 0 days 00:15:46     3    31             4   2023     23   \n",
              "\n",
              "         minute    durée2  duree_minute  \n",
              "1             8  00:31:05     31.083333  \n",
              "2            15  00:14:22     14.366667  \n",
              "3            49  00:11:28     11.466667  \n",
              "4             8  00:03:02      3.033333  \n",
              "5             9  00:08:25      8.416667  \n",
              "...         ...       ...           ...  \n",
              "3316142      56  00:08:01      8.016667  \n",
              "3316143       3  00:02:45      2.750000  \n",
              "3316144      18  00:16:54     16.900000  \n",
              "3316145      36  00:08:45      8.750000  \n",
              "3316146      40  00:15:46     15.766667  \n",
              "\n",
              "[3207236 rows x 17 columns]"
            ],
            "text/html": [
              "\n",
              "  <div id=\"df-7d24c21d-4068-457a-ba62-2fe7f966446b\">\n",
              "    <div class=\"colab-df-container\">\n",
              "      <div>\n",
              "<style scoped>\n",
              "    .dataframe tbody tr th:only-of-type {\n",
              "        vertical-align: middle;\n",
              "    }\n",
              "\n",
              "    .dataframe tbody tr th {\n",
              "        vertical-align: top;\n",
              "    }\n",
              "\n",
              "    .dataframe thead th {\n",
              "        text-align: right;\n",
              "    }\n",
              "</style>\n",
              "<table border=\"1\" class=\"dataframe\">\n",
              "  <thead>\n",
              "    <tr style=\"text-align: right;\">\n",
              "      <th></th>\n",
              "      <th>tpep_pickup_datetime</th>\n",
              "      <th>tpep_dropoff_datetime</th>\n",
              "      <th>passenger_count</th>\n",
              "      <th>trip_distance</th>\n",
              "      <th>PULocationID</th>\n",
              "      <th>DOLocationID</th>\n",
              "      <th>payment_type</th>\n",
              "      <th>total_amount</th>\n",
              "      <th>durée</th>\n",
              "      <th>mois</th>\n",
              "      <th>jour</th>\n",
              "      <th>jour_semaine</th>\n",
              "      <th>annee</th>\n",
              "      <th>heure</th>\n",
              "      <th>minute</th>\n",
              "      <th>durée2</th>\n",
              "      <th>duree_minute</th>\n",
              "    </tr>\n",
              "  </thead>\n",
              "  <tbody>\n",
              "    <tr>\n",
              "      <th>1</th>\n",
              "      <td>2023-03-01 00:08:25</td>\n",
              "      <td>2023-03-01 00:39:30</td>\n",
              "      <td>2.0</td>\n",
              "      <td>12.40</td>\n",
              "      <td>138</td>\n",
              "      <td>231</td>\n",
              "      <td>1</td>\n",
              "      <td>76.49</td>\n",
              "      <td>0 days 00:31:05</td>\n",
              "      <td>3</td>\n",
              "      <td>1</td>\n",
              "      <td>2</td>\n",
              "      <td>2023</td>\n",
              "      <td>0</td>\n",
              "      <td>8</td>\n",
              "      <td>00:31:05</td>\n",
              "      <td>31.083333</td>\n",
              "    </tr>\n",
              "    <tr>\n",
              "      <th>2</th>\n",
              "      <td>2023-03-01 00:15:04</td>\n",
              "      <td>2023-03-01 00:29:26</td>\n",
              "      <td>0.0</td>\n",
              "      <td>3.30</td>\n",
              "      <td>140</td>\n",
              "      <td>186</td>\n",
              "      <td>1</td>\n",
              "      <td>28.05</td>\n",
              "      <td>0 days 00:14:22</td>\n",
              "      <td>3</td>\n",
              "      <td>1</td>\n",
              "      <td>2</td>\n",
              "      <td>2023</td>\n",
              "      <td>0</td>\n",
              "      <td>15</td>\n",
              "      <td>00:14:22</td>\n",
              "      <td>14.366667</td>\n",
              "    </tr>\n",
              "    <tr>\n",
              "      <th>3</th>\n",
              "      <td>2023-03-01 00:49:37</td>\n",
              "      <td>2023-03-01 01:01:05</td>\n",
              "      <td>1.0</td>\n",
              "      <td>2.90</td>\n",
              "      <td>140</td>\n",
              "      <td>43</td>\n",
              "      <td>1</td>\n",
              "      <td>24.70</td>\n",
              "      <td>0 days 00:11:28</td>\n",
              "      <td>3</td>\n",
              "      <td>1</td>\n",
              "      <td>2</td>\n",
              "      <td>2023</td>\n",
              "      <td>0</td>\n",
              "      <td>49</td>\n",
              "      <td>00:11:28</td>\n",
              "      <td>11.466667</td>\n",
              "    </tr>\n",
              "    <tr>\n",
              "      <th>4</th>\n",
              "      <td>2023-03-01 00:08:04</td>\n",
              "      <td>2023-03-01 00:11:06</td>\n",
              "      <td>1.0</td>\n",
              "      <td>1.23</td>\n",
              "      <td>79</td>\n",
              "      <td>137</td>\n",
              "      <td>1</td>\n",
              "      <td>14.64</td>\n",
              "      <td>0 days 00:03:02</td>\n",
              "      <td>3</td>\n",
              "      <td>1</td>\n",
              "      <td>2</td>\n",
              "      <td>2023</td>\n",
              "      <td>0</td>\n",
              "      <td>8</td>\n",
              "      <td>00:03:02</td>\n",
              "      <td>3.033333</td>\n",
              "    </tr>\n",
              "    <tr>\n",
              "      <th>5</th>\n",
              "      <td>2023-03-01 00:09:09</td>\n",
              "      <td>2023-03-01 00:17:34</td>\n",
              "      <td>1.0</td>\n",
              "      <td>1.20</td>\n",
              "      <td>162</td>\n",
              "      <td>137</td>\n",
              "      <td>1</td>\n",
              "      <td>18.00</td>\n",
              "      <td>0 days 00:08:25</td>\n",
              "      <td>3</td>\n",
              "      <td>1</td>\n",
              "      <td>2</td>\n",
              "      <td>2023</td>\n",
              "      <td>0</td>\n",
              "      <td>9</td>\n",
              "      <td>00:08:25</td>\n",
              "      <td>8.416667</td>\n",
              "    </tr>\n",
              "    <tr>\n",
              "      <th>...</th>\n",
              "      <td>...</td>\n",
              "      <td>...</td>\n",
              "      <td>...</td>\n",
              "      <td>...</td>\n",
              "      <td>...</td>\n",
              "      <td>...</td>\n",
              "      <td>...</td>\n",
              "      <td>...</td>\n",
              "      <td>...</td>\n",
              "      <td>...</td>\n",
              "      <td>...</td>\n",
              "      <td>...</td>\n",
              "      <td>...</td>\n",
              "      <td>...</td>\n",
              "      <td>...</td>\n",
              "      <td>...</td>\n",
              "      <td>...</td>\n",
              "    </tr>\n",
              "    <tr>\n",
              "      <th>3316142</th>\n",
              "      <td>2023-03-31 23:56:39</td>\n",
              "      <td>2023-04-01 00:04:40</td>\n",
              "      <td>1.0</td>\n",
              "      <td>2.01</td>\n",
              "      <td>236</td>\n",
              "      <td>142</td>\n",
              "      <td>1</td>\n",
              "      <td>19.68</td>\n",
              "      <td>0 days 00:08:01</td>\n",
              "      <td>3</td>\n",
              "      <td>31</td>\n",
              "      <td>4</td>\n",
              "      <td>2023</td>\n",
              "      <td>23</td>\n",
              "      <td>56</td>\n",
              "      <td>00:08:01</td>\n",
              "      <td>8.016667</td>\n",
              "    </tr>\n",
              "    <tr>\n",
              "      <th>3316143</th>\n",
              "      <td>2023-03-31 23:03:04</td>\n",
              "      <td>2023-03-31 23:05:49</td>\n",
              "      <td>1.0</td>\n",
              "      <td>0.36</td>\n",
              "      <td>48</td>\n",
              "      <td>48</td>\n",
              "      <td>1</td>\n",
              "      <td>12.12</td>\n",
              "      <td>0 days 00:02:45</td>\n",
              "      <td>3</td>\n",
              "      <td>31</td>\n",
              "      <td>4</td>\n",
              "      <td>2023</td>\n",
              "      <td>23</td>\n",
              "      <td>3</td>\n",
              "      <td>00:02:45</td>\n",
              "      <td>2.750000</td>\n",
              "    </tr>\n",
              "    <tr>\n",
              "      <th>3316144</th>\n",
              "      <td>2023-03-31 23:18:13</td>\n",
              "      <td>2023-03-31 23:35:07</td>\n",
              "      <td>3.0</td>\n",
              "      <td>1.68</td>\n",
              "      <td>68</td>\n",
              "      <td>114</td>\n",
              "      <td>1</td>\n",
              "      <td>24.72</td>\n",
              "      <td>0 days 00:16:54</td>\n",
              "      <td>3</td>\n",
              "      <td>31</td>\n",
              "      <td>4</td>\n",
              "      <td>2023</td>\n",
              "      <td>23</td>\n",
              "      <td>18</td>\n",
              "      <td>00:16:54</td>\n",
              "      <td>16.900000</td>\n",
              "    </tr>\n",
              "    <tr>\n",
              "      <th>3316145</th>\n",
              "      <td>2023-03-31 23:36:02</td>\n",
              "      <td>2023-03-31 23:44:47</td>\n",
              "      <td>1.0</td>\n",
              "      <td>1.50</td>\n",
              "      <td>114</td>\n",
              "      <td>137</td>\n",
              "      <td>1</td>\n",
              "      <td>17.70</td>\n",
              "      <td>0 days 00:08:45</td>\n",
              "      <td>3</td>\n",
              "      <td>31</td>\n",
              "      <td>4</td>\n",
              "      <td>2023</td>\n",
              "      <td>23</td>\n",
              "      <td>36</td>\n",
              "      <td>00:08:45</td>\n",
              "      <td>8.750000</td>\n",
              "    </tr>\n",
              "    <tr>\n",
              "      <th>3316146</th>\n",
              "      <td>2023-03-31 23:40:16</td>\n",
              "      <td>2023-03-31 23:56:02</td>\n",
              "      <td>1.0</td>\n",
              "      <td>2.90</td>\n",
              "      <td>142</td>\n",
              "      <td>75</td>\n",
              "      <td>1</td>\n",
              "      <td>25.55</td>\n",
              "      <td>0 days 00:15:46</td>\n",
              "      <td>3</td>\n",
              "      <td>31</td>\n",
              "      <td>4</td>\n",
              "      <td>2023</td>\n",
              "      <td>23</td>\n",
              "      <td>40</td>\n",
              "      <td>00:15:46</td>\n",
              "      <td>15.766667</td>\n",
              "    </tr>\n",
              "  </tbody>\n",
              "</table>\n",
              "<p>3207236 rows × 17 columns</p>\n",
              "</div>\n",
              "      <button class=\"colab-df-convert\" onclick=\"convertToInteractive('df-7d24c21d-4068-457a-ba62-2fe7f966446b')\"\n",
              "              title=\"Convert this dataframe to an interactive table.\"\n",
              "              style=\"display:none;\">\n",
              "        \n",
              "  <svg xmlns=\"http://www.w3.org/2000/svg\" height=\"24px\"viewBox=\"0 0 24 24\"\n",
              "       width=\"24px\">\n",
              "    <path d=\"M0 0h24v24H0V0z\" fill=\"none\"/>\n",
              "    <path d=\"M18.56 5.44l.94 2.06.94-2.06 2.06-.94-2.06-.94-.94-2.06-.94 2.06-2.06.94zm-11 1L8.5 8.5l.94-2.06 2.06-.94-2.06-.94L8.5 2.5l-.94 2.06-2.06.94zm10 10l.94 2.06.94-2.06 2.06-.94-2.06-.94-.94-2.06-.94 2.06-2.06.94z\"/><path d=\"M17.41 7.96l-1.37-1.37c-.4-.4-.92-.59-1.43-.59-.52 0-1.04.2-1.43.59L10.3 9.45l-7.72 7.72c-.78.78-.78 2.05 0 2.83L4 21.41c.39.39.9.59 1.41.59.51 0 1.02-.2 1.41-.59l7.78-7.78 2.81-2.81c.8-.78.8-2.07 0-2.86zM5.41 20L4 18.59l7.72-7.72 1.47 1.35L5.41 20z\"/>\n",
              "  </svg>\n",
              "      </button>\n",
              "      \n",
              "  <style>\n",
              "    .colab-df-container {\n",
              "      display:flex;\n",
              "      flex-wrap:wrap;\n",
              "      gap: 12px;\n",
              "    }\n",
              "\n",
              "    .colab-df-convert {\n",
              "      background-color: #E8F0FE;\n",
              "      border: none;\n",
              "      border-radius: 50%;\n",
              "      cursor: pointer;\n",
              "      display: none;\n",
              "      fill: #1967D2;\n",
              "      height: 32px;\n",
              "      padding: 0 0 0 0;\n",
              "      width: 32px;\n",
              "    }\n",
              "\n",
              "    .colab-df-convert:hover {\n",
              "      background-color: #E2EBFA;\n",
              "      box-shadow: 0px 1px 2px rgba(60, 64, 67, 0.3), 0px 1px 3px 1px rgba(60, 64, 67, 0.15);\n",
              "      fill: #174EA6;\n",
              "    }\n",
              "\n",
              "    [theme=dark] .colab-df-convert {\n",
              "      background-color: #3B4455;\n",
              "      fill: #D2E3FC;\n",
              "    }\n",
              "\n",
              "    [theme=dark] .colab-df-convert:hover {\n",
              "      background-color: #434B5C;\n",
              "      box-shadow: 0px 1px 3px 1px rgba(0, 0, 0, 0.15);\n",
              "      filter: drop-shadow(0px 1px 2px rgba(0, 0, 0, 0.3));\n",
              "      fill: #FFFFFF;\n",
              "    }\n",
              "  </style>\n",
              "\n",
              "      <script>\n",
              "        const buttonEl =\n",
              "          document.querySelector('#df-7d24c21d-4068-457a-ba62-2fe7f966446b button.colab-df-convert');\n",
              "        buttonEl.style.display =\n",
              "          google.colab.kernel.accessAllowed ? 'block' : 'none';\n",
              "\n",
              "        async function convertToInteractive(key) {\n",
              "          const element = document.querySelector('#df-7d24c21d-4068-457a-ba62-2fe7f966446b');\n",
              "          const dataTable =\n",
              "            await google.colab.kernel.invokeFunction('convertToInteractive',\n",
              "                                                     [key], {});\n",
              "          if (!dataTable) return;\n",
              "\n",
              "          const docLinkHtml = 'Like what you see? Visit the ' +\n",
              "            '<a target=\"_blank\" href=https://colab.research.google.com/notebooks/data_table.ipynb>data table notebook</a>'\n",
              "            + ' to learn more about interactive tables.';\n",
              "          element.innerHTML = '';\n",
              "          dataTable['output_type'] = 'display_data';\n",
              "          await google.colab.output.renderOutput(dataTable, element);\n",
              "          const docLink = document.createElement('div');\n",
              "          docLink.innerHTML = docLinkHtml;\n",
              "          element.appendChild(docLink);\n",
              "        }\n",
              "      </script>\n",
              "    </div>\n",
              "  </div>\n",
              "  "
            ]
          },
          "metadata": {},
          "execution_count": 76
        }
      ]
    },
    {
      "cell_type": "code",
      "source": [
        "def format_duree_trajet(row):\n",
        "    heures = row['durée'].seconds // 3600\n",
        "    minutes = (row['durée'].seconds % 3600) // 60\n",
        "    secondes = row['durée'].seconds % 60\n",
        "    return f\"{heures:02d}:{minutes:02d}:{secondes:02d}\"\n",
        "\n",
        "df['durée2'] = df.apply(format_duree_trajet, axis=1)\n"
      ],
      "metadata": {
        "id": "QFErruY4IzWG"
      },
      "execution_count": null,
      "outputs": []
    },
    {
      "cell_type": "code",
      "source": [
        "df['durée2']=df['durée2'].astype(int)"
      ],
      "metadata": {
        "colab": {
          "base_uri": "https://localhost:8080/",
          "height": 328
        },
        "id": "UAx4CkOTOJfS",
        "outputId": "f85eb366-d73f-466a-870a-21fee720ade1"
      },
      "execution_count": null,
      "outputs": [
        {
          "output_type": "error",
          "ename": "ValueError",
          "evalue": "ignored",
          "traceback": [
            "\u001b[0;31m---------------------------------------------------------------------------\u001b[0m",
            "\u001b[0;31mValueError\u001b[0m                                Traceback (most recent call last)",
            "\u001b[0;32m<ipython-input-69-8d83fcf3b49d>\u001b[0m in \u001b[0;36m<cell line: 1>\u001b[0;34m()\u001b[0m\n\u001b[0;32m----> 1\u001b[0;31m \u001b[0mdf\u001b[0m\u001b[0;34m[\u001b[0m\u001b[0;34m'durée2'\u001b[0m\u001b[0;34m]\u001b[0m\u001b[0;34m=\u001b[0m\u001b[0mdf\u001b[0m\u001b[0;34m[\u001b[0m\u001b[0;34m'durée2'\u001b[0m\u001b[0;34m]\u001b[0m\u001b[0;34m.\u001b[0m\u001b[0mastype\u001b[0m\u001b[0;34m(\u001b[0m\u001b[0mint\u001b[0m\u001b[0;34m)\u001b[0m\u001b[0;34m\u001b[0m\u001b[0;34m\u001b[0m\u001b[0m\n\u001b[0m",
            "\u001b[0;32m/usr/local/lib/python3.10/dist-packages/pandas/core/generic.py\u001b[0m in \u001b[0;36mastype\u001b[0;34m(self, dtype, copy, errors)\u001b[0m\n\u001b[1;32m   6238\u001b[0m         \u001b[0;32melse\u001b[0m\u001b[0;34m:\u001b[0m\u001b[0;34m\u001b[0m\u001b[0;34m\u001b[0m\u001b[0m\n\u001b[1;32m   6239\u001b[0m             \u001b[0;31m# else, only a single dtype is given\u001b[0m\u001b[0;34m\u001b[0m\u001b[0;34m\u001b[0m\u001b[0m\n\u001b[0;32m-> 6240\u001b[0;31m             \u001b[0mnew_data\u001b[0m \u001b[0;34m=\u001b[0m \u001b[0mself\u001b[0m\u001b[0;34m.\u001b[0m\u001b[0m_mgr\u001b[0m\u001b[0;34m.\u001b[0m\u001b[0mastype\u001b[0m\u001b[0;34m(\u001b[0m\u001b[0mdtype\u001b[0m\u001b[0;34m=\u001b[0m\u001b[0mdtype\u001b[0m\u001b[0;34m,\u001b[0m \u001b[0mcopy\u001b[0m\u001b[0;34m=\u001b[0m\u001b[0mcopy\u001b[0m\u001b[0;34m,\u001b[0m \u001b[0merrors\u001b[0m\u001b[0;34m=\u001b[0m\u001b[0merrors\u001b[0m\u001b[0;34m)\u001b[0m\u001b[0;34m\u001b[0m\u001b[0;34m\u001b[0m\u001b[0m\n\u001b[0m\u001b[1;32m   6241\u001b[0m             \u001b[0;32mreturn\u001b[0m \u001b[0mself\u001b[0m\u001b[0;34m.\u001b[0m\u001b[0m_constructor\u001b[0m\u001b[0;34m(\u001b[0m\u001b[0mnew_data\u001b[0m\u001b[0;34m)\u001b[0m\u001b[0;34m.\u001b[0m\u001b[0m__finalize__\u001b[0m\u001b[0;34m(\u001b[0m\u001b[0mself\u001b[0m\u001b[0;34m,\u001b[0m \u001b[0mmethod\u001b[0m\u001b[0;34m=\u001b[0m\u001b[0;34m\"astype\"\u001b[0m\u001b[0;34m)\u001b[0m\u001b[0;34m\u001b[0m\u001b[0;34m\u001b[0m\u001b[0m\n\u001b[1;32m   6242\u001b[0m \u001b[0;34m\u001b[0m\u001b[0m\n",
            "\u001b[0;32m/usr/local/lib/python3.10/dist-packages/pandas/core/internals/managers.py\u001b[0m in \u001b[0;36mastype\u001b[0;34m(self, dtype, copy, errors)\u001b[0m\n\u001b[1;32m    446\u001b[0m \u001b[0;34m\u001b[0m\u001b[0m\n\u001b[1;32m    447\u001b[0m     \u001b[0;32mdef\u001b[0m \u001b[0mastype\u001b[0m\u001b[0;34m(\u001b[0m\u001b[0mself\u001b[0m\u001b[0;34m:\u001b[0m \u001b[0mT\u001b[0m\u001b[0;34m,\u001b[0m \u001b[0mdtype\u001b[0m\u001b[0;34m,\u001b[0m \u001b[0mcopy\u001b[0m\u001b[0;34m:\u001b[0m \u001b[0mbool\u001b[0m \u001b[0;34m=\u001b[0m \u001b[0;32mFalse\u001b[0m\u001b[0;34m,\u001b[0m \u001b[0merrors\u001b[0m\u001b[0;34m:\u001b[0m \u001b[0mstr\u001b[0m \u001b[0;34m=\u001b[0m \u001b[0;34m\"raise\"\u001b[0m\u001b[0;34m)\u001b[0m \u001b[0;34m->\u001b[0m \u001b[0mT\u001b[0m\u001b[0;34m:\u001b[0m\u001b[0;34m\u001b[0m\u001b[0;34m\u001b[0m\u001b[0m\n\u001b[0;32m--> 448\u001b[0;31m         \u001b[0;32mreturn\u001b[0m \u001b[0mself\u001b[0m\u001b[0;34m.\u001b[0m\u001b[0mapply\u001b[0m\u001b[0;34m(\u001b[0m\u001b[0;34m\"astype\"\u001b[0m\u001b[0;34m,\u001b[0m \u001b[0mdtype\u001b[0m\u001b[0;34m=\u001b[0m\u001b[0mdtype\u001b[0m\u001b[0;34m,\u001b[0m \u001b[0mcopy\u001b[0m\u001b[0;34m=\u001b[0m\u001b[0mcopy\u001b[0m\u001b[0;34m,\u001b[0m \u001b[0merrors\u001b[0m\u001b[0;34m=\u001b[0m\u001b[0merrors\u001b[0m\u001b[0;34m)\u001b[0m\u001b[0;34m\u001b[0m\u001b[0;34m\u001b[0m\u001b[0m\n\u001b[0m\u001b[1;32m    449\u001b[0m \u001b[0;34m\u001b[0m\u001b[0m\n\u001b[1;32m    450\u001b[0m     def convert(\n",
            "\u001b[0;32m/usr/local/lib/python3.10/dist-packages/pandas/core/internals/managers.py\u001b[0m in \u001b[0;36mapply\u001b[0;34m(self, f, align_keys, ignore_failures, **kwargs)\u001b[0m\n\u001b[1;32m    350\u001b[0m                     \u001b[0mapplied\u001b[0m \u001b[0;34m=\u001b[0m \u001b[0mb\u001b[0m\u001b[0;34m.\u001b[0m\u001b[0mapply\u001b[0m\u001b[0;34m(\u001b[0m\u001b[0mf\u001b[0m\u001b[0;34m,\u001b[0m \u001b[0;34m**\u001b[0m\u001b[0mkwargs\u001b[0m\u001b[0;34m)\u001b[0m\u001b[0;34m\u001b[0m\u001b[0;34m\u001b[0m\u001b[0m\n\u001b[1;32m    351\u001b[0m                 \u001b[0;32melse\u001b[0m\u001b[0;34m:\u001b[0m\u001b[0;34m\u001b[0m\u001b[0;34m\u001b[0m\u001b[0m\n\u001b[0;32m--> 352\u001b[0;31m                     \u001b[0mapplied\u001b[0m \u001b[0;34m=\u001b[0m \u001b[0mgetattr\u001b[0m\u001b[0;34m(\u001b[0m\u001b[0mb\u001b[0m\u001b[0;34m,\u001b[0m \u001b[0mf\u001b[0m\u001b[0;34m)\u001b[0m\u001b[0;34m(\u001b[0m\u001b[0;34m**\u001b[0m\u001b[0mkwargs\u001b[0m\u001b[0;34m)\u001b[0m\u001b[0;34m\u001b[0m\u001b[0;34m\u001b[0m\u001b[0m\n\u001b[0m\u001b[1;32m    353\u001b[0m             \u001b[0;32mexcept\u001b[0m \u001b[0;34m(\u001b[0m\u001b[0mTypeError\u001b[0m\u001b[0;34m,\u001b[0m \u001b[0mNotImplementedError\u001b[0m\u001b[0;34m)\u001b[0m\u001b[0;34m:\u001b[0m\u001b[0;34m\u001b[0m\u001b[0;34m\u001b[0m\u001b[0m\n\u001b[1;32m    354\u001b[0m                 \u001b[0;32mif\u001b[0m \u001b[0;32mnot\u001b[0m \u001b[0mignore_failures\u001b[0m\u001b[0;34m:\u001b[0m\u001b[0;34m\u001b[0m\u001b[0;34m\u001b[0m\u001b[0m\n",
            "\u001b[0;32m/usr/local/lib/python3.10/dist-packages/pandas/core/internals/blocks.py\u001b[0m in \u001b[0;36mastype\u001b[0;34m(self, dtype, copy, errors)\u001b[0m\n\u001b[1;32m    524\u001b[0m         \u001b[0mvalues\u001b[0m \u001b[0;34m=\u001b[0m \u001b[0mself\u001b[0m\u001b[0;34m.\u001b[0m\u001b[0mvalues\u001b[0m\u001b[0;34m\u001b[0m\u001b[0;34m\u001b[0m\u001b[0m\n\u001b[1;32m    525\u001b[0m \u001b[0;34m\u001b[0m\u001b[0m\n\u001b[0;32m--> 526\u001b[0;31m         \u001b[0mnew_values\u001b[0m \u001b[0;34m=\u001b[0m \u001b[0mastype_array_safe\u001b[0m\u001b[0;34m(\u001b[0m\u001b[0mvalues\u001b[0m\u001b[0;34m,\u001b[0m \u001b[0mdtype\u001b[0m\u001b[0;34m,\u001b[0m \u001b[0mcopy\u001b[0m\u001b[0;34m=\u001b[0m\u001b[0mcopy\u001b[0m\u001b[0;34m,\u001b[0m \u001b[0merrors\u001b[0m\u001b[0;34m=\u001b[0m\u001b[0merrors\u001b[0m\u001b[0;34m)\u001b[0m\u001b[0;34m\u001b[0m\u001b[0;34m\u001b[0m\u001b[0m\n\u001b[0m\u001b[1;32m    527\u001b[0m \u001b[0;34m\u001b[0m\u001b[0m\n\u001b[1;32m    528\u001b[0m         \u001b[0mnew_values\u001b[0m \u001b[0;34m=\u001b[0m \u001b[0mmaybe_coerce_values\u001b[0m\u001b[0;34m(\u001b[0m\u001b[0mnew_values\u001b[0m\u001b[0;34m)\u001b[0m\u001b[0;34m\u001b[0m\u001b[0;34m\u001b[0m\u001b[0m\n",
            "\u001b[0;32m/usr/local/lib/python3.10/dist-packages/pandas/core/dtypes/astype.py\u001b[0m in \u001b[0;36mastype_array_safe\u001b[0;34m(values, dtype, copy, errors)\u001b[0m\n\u001b[1;32m    297\u001b[0m \u001b[0;34m\u001b[0m\u001b[0m\n\u001b[1;32m    298\u001b[0m     \u001b[0;32mtry\u001b[0m\u001b[0;34m:\u001b[0m\u001b[0;34m\u001b[0m\u001b[0;34m\u001b[0m\u001b[0m\n\u001b[0;32m--> 299\u001b[0;31m         \u001b[0mnew_values\u001b[0m \u001b[0;34m=\u001b[0m \u001b[0mastype_array\u001b[0m\u001b[0;34m(\u001b[0m\u001b[0mvalues\u001b[0m\u001b[0;34m,\u001b[0m \u001b[0mdtype\u001b[0m\u001b[0;34m,\u001b[0m \u001b[0mcopy\u001b[0m\u001b[0;34m=\u001b[0m\u001b[0mcopy\u001b[0m\u001b[0;34m)\u001b[0m\u001b[0;34m\u001b[0m\u001b[0;34m\u001b[0m\u001b[0m\n\u001b[0m\u001b[1;32m    300\u001b[0m     \u001b[0;32mexcept\u001b[0m \u001b[0;34m(\u001b[0m\u001b[0mValueError\u001b[0m\u001b[0;34m,\u001b[0m \u001b[0mTypeError\u001b[0m\u001b[0;34m)\u001b[0m\u001b[0;34m:\u001b[0m\u001b[0;34m\u001b[0m\u001b[0;34m\u001b[0m\u001b[0m\n\u001b[1;32m    301\u001b[0m         \u001b[0;31m# e.g. astype_nansafe can fail on object-dtype of strings\u001b[0m\u001b[0;34m\u001b[0m\u001b[0;34m\u001b[0m\u001b[0m\n",
            "\u001b[0;32m/usr/local/lib/python3.10/dist-packages/pandas/core/dtypes/astype.py\u001b[0m in \u001b[0;36mastype_array\u001b[0;34m(values, dtype, copy)\u001b[0m\n\u001b[1;32m    228\u001b[0m \u001b[0;34m\u001b[0m\u001b[0m\n\u001b[1;32m    229\u001b[0m     \u001b[0;32melse\u001b[0m\u001b[0;34m:\u001b[0m\u001b[0;34m\u001b[0m\u001b[0;34m\u001b[0m\u001b[0m\n\u001b[0;32m--> 230\u001b[0;31m         \u001b[0mvalues\u001b[0m \u001b[0;34m=\u001b[0m \u001b[0mastype_nansafe\u001b[0m\u001b[0;34m(\u001b[0m\u001b[0mvalues\u001b[0m\u001b[0;34m,\u001b[0m \u001b[0mdtype\u001b[0m\u001b[0;34m,\u001b[0m \u001b[0mcopy\u001b[0m\u001b[0;34m=\u001b[0m\u001b[0mcopy\u001b[0m\u001b[0;34m)\u001b[0m\u001b[0;34m\u001b[0m\u001b[0;34m\u001b[0m\u001b[0m\n\u001b[0m\u001b[1;32m    231\u001b[0m \u001b[0;34m\u001b[0m\u001b[0m\n\u001b[1;32m    232\u001b[0m     \u001b[0;31m# in pandas we don't store numpy str dtypes, so convert to object\u001b[0m\u001b[0;34m\u001b[0m\u001b[0;34m\u001b[0m\u001b[0m\n",
            "\u001b[0;32m/usr/local/lib/python3.10/dist-packages/pandas/core/dtypes/astype.py\u001b[0m in \u001b[0;36mastype_nansafe\u001b[0;34m(arr, dtype, copy, skipna)\u001b[0m\n\u001b[1;32m    168\u001b[0m     \u001b[0;32mif\u001b[0m \u001b[0mcopy\u001b[0m \u001b[0;32mor\u001b[0m \u001b[0mis_object_dtype\u001b[0m\u001b[0;34m(\u001b[0m\u001b[0marr\u001b[0m\u001b[0;34m.\u001b[0m\u001b[0mdtype\u001b[0m\u001b[0;34m)\u001b[0m \u001b[0;32mor\u001b[0m \u001b[0mis_object_dtype\u001b[0m\u001b[0;34m(\u001b[0m\u001b[0mdtype\u001b[0m\u001b[0;34m)\u001b[0m\u001b[0;34m:\u001b[0m\u001b[0;34m\u001b[0m\u001b[0;34m\u001b[0m\u001b[0m\n\u001b[1;32m    169\u001b[0m         \u001b[0;31m# Explicit copy, or required since NumPy can't view from / to object.\u001b[0m\u001b[0;34m\u001b[0m\u001b[0;34m\u001b[0m\u001b[0m\n\u001b[0;32m--> 170\u001b[0;31m         \u001b[0;32mreturn\u001b[0m \u001b[0marr\u001b[0m\u001b[0;34m.\u001b[0m\u001b[0mastype\u001b[0m\u001b[0;34m(\u001b[0m\u001b[0mdtype\u001b[0m\u001b[0;34m,\u001b[0m \u001b[0mcopy\u001b[0m\u001b[0;34m=\u001b[0m\u001b[0;32mTrue\u001b[0m\u001b[0;34m)\u001b[0m\u001b[0;34m\u001b[0m\u001b[0;34m\u001b[0m\u001b[0m\n\u001b[0m\u001b[1;32m    171\u001b[0m \u001b[0;34m\u001b[0m\u001b[0m\n\u001b[1;32m    172\u001b[0m     \u001b[0;32mreturn\u001b[0m \u001b[0marr\u001b[0m\u001b[0;34m.\u001b[0m\u001b[0mastype\u001b[0m\u001b[0;34m(\u001b[0m\u001b[0mdtype\u001b[0m\u001b[0;34m,\u001b[0m \u001b[0mcopy\u001b[0m\u001b[0;34m=\u001b[0m\u001b[0mcopy\u001b[0m\u001b[0;34m)\u001b[0m\u001b[0;34m\u001b[0m\u001b[0;34m\u001b[0m\u001b[0m\n",
            "\u001b[0;31mValueError\u001b[0m: invalid literal for int() with base 10: '00:31:05'"
          ]
        }
      ]
    },
    {
      "cell_type": "code",
      "source": [
        "sns.countplot(x='jour_semaine', data=df)\n",
        "#sns.countplot(x='jour_semaine',hue='Vendor_ID', data=df)\n",
        "plt.xlabel('Jour de la semaine')\n",
        "plt.ylabel('Nombre de trajets')\n",
        "plt.title('Nombre de trajets par jour')\n",
        "plt.xticks(rotation=0)\n",
        "plt.show()\n"
      ],
      "metadata": {
        "colab": {
          "base_uri": "https://localhost:8080/",
          "height": 472
        },
        "id": "WnIuhHd7IsBG",
        "outputId": "b3a5a111-815e-446b-9611-3d3ce3f6a4e3"
      },
      "execution_count": null,
      "outputs": [
        {
          "output_type": "display_data",
          "data": {
            "text/plain": [
              "<Figure size 640x480 with 1 Axes>"
            ],
            "image/png": "[encoded data removed]"
          },
          "metadata": {}
        }
      ]
    },
    {
      "cell_type": "code",
      "execution_count": null,
      "metadata": {
        "colab": {
          "base_uri": "https://localhost:8080/",
          "height": 357
        },
        "id": "ROI3SeaSG4Il",
        "outputId": "7211a7dd-ff2f-4f6b-f6ef-11214089479c"
      },
      "outputs": [
        {
          "output_type": "execute_result",
          "data": {
            "text/plain": [
              "  tpep_pickup_datetime tpep_dropoff_datetime  passenger_count  trip_distance  \\\n",
              "1  2023-03-01 00:08:25   2023-03-01 00:39:30              2.0          12.40   \n",
              "2  2023-03-01 00:15:04   2023-03-01 00:29:26              0.0           3.30   \n",
              "3  2023-03-01 00:49:37   2023-03-01 01:01:05              1.0           2.90   \n",
              "4  2023-03-01 00:08:04   2023-03-01 00:11:06              1.0           1.23   \n",
              "5  2023-03-01 00:09:09   2023-03-01 00:17:34              1.0           1.20   \n",
              "\n",
              "   PULocationID  DOLocationID  payment_type  total_amount           durée  \\\n",
              "1           138           231             1         76.49 0 days 00:31:05   \n",
              "2           140           186             1         28.05 0 days 00:14:22   \n",
              "3           140            43             1         24.70 0 days 00:11:28   \n",
              "4            79           137             1         14.64 0 days 00:03:02   \n",
              "5           162           137             1         18.00 0 days 00:08:25   \n",
              "\n",
              "   mois  jour  jour_semaine  annee  heure  minute    durée2  \n",
              "1     3     1             2   2023      0       8  00:31:05  \n",
              "2     3     1             2   2023      0      15  00:14:22  \n",
              "3     3     1             2   2023      0      49  00:11:28  \n",
              "4     3     1             2   2023      0       8  00:03:02  \n",
              "5     3     1             2   2023      0       9  00:08:25  "
            ],
            "text/html": [
              "\n",
              "  <div id=\"df-752fc6b4-eea3-4202-9132-b88b934bd440\">\n",
              "    <div class=\"colab-df-container\">\n",
              "      <div>\n",
              "<style scoped>\n",
              "    .dataframe tbody tr th:only-of-type {\n",
              "        vertical-align: middle;\n",
              "    }\n",
              "\n",
              "    .dataframe tbody tr th {\n",
              "        vertical-align: top;\n",
              "    }\n",
              "\n",
              "    .dataframe thead th {\n",
              "        text-align: right;\n",
              "    }\n",
              "</style>\n",
              "<table border=\"1\" class=\"dataframe\">\n",
              "  <thead>\n",
              "    <tr style=\"text-align: right;\">\n",
              "      <th></th>\n",
              "      <th>tpep_pickup_datetime</th>\n",
              "      <th>tpep_dropoff_datetime</th>\n",
              "      <th>passenger_count</th>\n",
              "      <th>trip_distance</th>\n",
              "      <th>PULocationID</th>\n",
              "      <th>DOLocationID</th>\n",
              "      <th>payment_type</th>\n",
              "      <th>total_amount</th>\n",
              "      <th>durée</th>\n",
              "      <th>mois</th>\n",
              "      <th>jour</th>\n",
              "      <th>jour_semaine</th>\n",
              "      <th>annee</th>\n",
              "      <th>heure</th>\n",
              "      <th>minute</th>\n",
              "      <th>durée2</th>\n",
              "    </tr>\n",
              "  </thead>\n",
              "  <tbody>\n",
              "    <tr>\n",
              "      <th>1</th>\n",
              "      <td>2023-03-01 00:08:25</td>\n",
              "      <td>2023-03-01 00:39:30</td>\n",
              "      <td>2.0</td>\n",
              "      <td>12.40</td>\n",
              "      <td>138</td>\n",
              "      <td>231</td>\n",
              "      <td>1</td>\n",
              "      <td>76.49</td>\n",
              "      <td>0 days 00:31:05</td>\n",
              "      <td>3</td>\n",
              "      <td>1</td>\n",
              "      <td>2</td>\n",
              "      <td>2023</td>\n",
              "      <td>0</td>\n",
              "      <td>8</td>\n",
              "      <td>00:31:05</td>\n",
              "    </tr>\n",
              "    <tr>\n",
              "      <th>2</th>\n",
              "      <td>2023-03-01 00:15:04</td>\n",
              "      <td>2023-03-01 00:29:26</td>\n",
              "      <td>0.0</td>\n",
              "      <td>3.30</td>\n",
              "      <td>140</td>\n",
              "      <td>186</td>\n",
              "      <td>1</td>\n",
              "      <td>28.05</td>\n",
              "      <td>0 days 00:14:22</td>\n",
              "      <td>3</td>\n",
              "      <td>1</td>\n",
              "      <td>2</td>\n",
              "      <td>2023</td>\n",
              "      <td>0</td>\n",
              "      <td>15</td>\n",
              "      <td>00:14:22</td>\n",
              "    </tr>\n",
              "    <tr>\n",
              "      <th>3</th>\n",
              "      <td>2023-03-01 00:49:37</td>\n",
              "      <td>2023-03-01 01:01:05</td>\n",
              "      <td>1.0</td>\n",
              "      <td>2.90</td>\n",
              "      <td>140</td>\n",
              "      <td>43</td>\n",
              "      <td>1</td>\n",
              "      <td>24.70</td>\n",
              "      <td>0 days 00:11:28</td>\n",
              "      <td>3</td>\n",
              "      <td>1</td>\n",
              "      <td>2</td>\n",
              "      <td>2023</td>\n",
              "      <td>0</td>\n",
              "      <td>49</td>\n",
              "      <td>00:11:28</td>\n",
              "    </tr>\n",
              "    <tr>\n",
              "      <th>4</th>\n",
              "      <td>2023-03-01 00:08:04</td>\n",
              "      <td>2023-03-01 00:11:06</td>\n",
              "      <td>1.0</td>\n",
              "      <td>1.23</td>\n",
              "      <td>79</td>\n",
              "      <td>137</td>\n",
              "      <td>1</td>\n",
              "      <td>14.64</td>\n",
              "      <td>0 days 00:03:02</td>\n",
              "      <td>3</td>\n",
              "      <td>1</td>\n",
              "      <td>2</td>\n",
              "      <td>2023</td>\n",
              "      <td>0</td>\n",
              "      <td>8</td>\n",
              "      <td>00:03:02</td>\n",
              "    </tr>\n",
              "    <tr>\n",
              "      <th>5</th>\n",
              "      <td>2023-03-01 00:09:09</td>\n",
              "      <td>2023-03-01 00:17:34</td>\n",
              "      <td>1.0</td>\n",
              "      <td>1.20</td>\n",
              "      <td>162</td>\n",
              "      <td>137</td>\n",
              "      <td>1</td>\n",
              "      <td>18.00</td>\n",
              "      <td>0 days 00:08:25</td>\n",
              "      <td>3</td>\n",
              "      <td>1</td>\n",
              "      <td>2</td>\n",
              "      <td>2023</td>\n",
              "      <td>0</td>\n",
              "      <td>9</td>\n",
              "      <td>00:08:25</td>\n",
              "    </tr>\n",
              "  </tbody>\n",
              "</table>\n",
              "</div>\n",
              "      <button class=\"colab-df-convert\" onclick=\"convertToInteractive('df-752fc6b4-eea3-4202-9132-b88b934bd440')\"\n",
              "              title=\"Convert this dataframe to an interactive table.\"\n",
              "              style=\"display:none;\">\n",
              "        \n",
              "  <svg xmlns=\"http://www.w3.org/2000/svg\" height=\"24px\"viewBox=\"0 0 24 24\"\n",
              "       width=\"24px\">\n",
              "    <path d=\"M0 0h24v24H0V0z\" fill=\"none\"/>\n",
              "    <path d=\"M18.56 5.44l.94 2.06.94-2.06 2.06-.94-2.06-.94-.94-2.06-.94 2.06-2.06.94zm-11 1L8.5 8.5l.94-2.06 2.06-.94-2.06-.94L8.5 2.5l-.94 2.06-2.06.94zm10 10l.94 2.06.94-2.06 2.06-.94-2.06-.94-.94-2.06-.94 2.06-2.06.94z\"/><path d=\"M17.41 7.96l-1.37-1.37c-.4-.4-.92-.59-1.43-.59-.52 0-1.04.2-1.43.59L10.3 9.45l-7.72 7.72c-.78.78-.78 2.05 0 2.83L4 21.41c.39.39.9.59 1.41.59.51 0 1.02-.2 1.41-.59l7.78-7.78 2.81-2.81c.8-.78.8-2.07 0-2.86zM5.41 20L4 18.59l7.72-7.72 1.47 1.35L5.41 20z\"/>\n",
              "  </svg>\n",
              "      </button>\n",
              "      \n",
              "  <style>\n",
              "    .colab-df-container {\n",
              "      display:flex;\n",
              "      flex-wrap:wrap;\n",
              "      gap: 12px;\n",
              "    }\n",
              "\n",
              "    .colab-df-convert {\n",
              "      background-color: #E8F0FE;\n",
              "      border: none;\n",
              "      border-radius: 50%;\n",
              "      cursor: pointer;\n",
              "      display: none;\n",
              "      fill: #1967D2;\n",
              "      height: 32px;\n",
              "      padding: 0 0 0 0;\n",
              "      width: 32px;\n",
              "    }\n",
              "\n",
              "    .colab-df-convert:hover {\n",
              "      background-color: #E2EBFA;\n",
              "      box-shadow: 0px 1px 2px rgba(60, 64, 67, 0.3), 0px 1px 3px 1px rgba(60, 64, 67, 0.15);\n",
              "      fill: #174EA6;\n",
              "    }\n",
              "\n",
              "    [theme=dark] .colab-df-convert {\n",
              "      background-color: #3B4455;\n",
              "      fill: #D2E3FC;\n",
              "    }\n",
              "\n",
              "    [theme=dark] .colab-df-convert:hover {\n",
              "      background-color: #434B5C;\n",
              "      box-shadow: 0px 1px 3px 1px rgba(0, 0, 0, 0.15);\n",
              "      filter: drop-shadow(0px 1px 2px rgba(0, 0, 0, 0.3));\n",
              "      fill: #FFFFFF;\n",
              "    }\n",
              "  </style>\n",
              "\n",
              "      <script>\n",
              "        const buttonEl =\n",
              "          document.querySelector('#df-752fc6b4-eea3-4202-9132-b88b934bd440 button.colab-df-convert');\n",
              "        buttonEl.style.display =\n",
              "          google.colab.kernel.accessAllowed ? 'block' : 'none';\n",
              "\n",
              "        async function convertToInteractive(key) {\n",
              "          const element = document.querySelector('#df-752fc6b4-eea3-4202-9132-b88b934bd440');\n",
              "          const dataTable =\n",
              "            await google.colab.kernel.invokeFunction('convertToInteractive',\n",
              "                                                     [key], {});\n",
              "          if (!dataTable) return;\n",
              "\n",
              "          const docLinkHtml = 'Like what you see? Visit the ' +\n",
              "            '<a target=\"_blank\" href=https://colab.research.google.com/notebooks/data_table.ipynb>data table notebook</a>'\n",
              "            + ' to learn more about interactive tables.';\n",
              "          element.innerHTML = '';\n",
              "          dataTable['output_type'] = 'display_data';\n",
              "          await google.colab.output.renderOutput(dataTable, element);\n",
              "          const docLink = document.createElement('div');\n",
              "          docLink.innerHTML = docLinkHtml;\n",
              "          element.appendChild(docLink);\n",
              "        }\n",
              "      </script>\n",
              "    </div>\n",
              "  </div>\n",
              "  "
            ]
          },
          "metadata": {},
          "execution_count": 57
        }
      ],
      "source": [
        "df.head()"
      ]
    },
    {
      "cell_type": "code",
      "execution_count": null,
      "metadata": {
        "colab": {
          "base_uri": "https://localhost:8080/",
          "height": 480
        },
        "id": "Ztsz8P-kIhja",
        "outputId": "cc591584-9acf-4bb7-e752-a2934717e2e4"
      },
      "outputs": [
        {
          "output_type": "execute_result",
          "data": {
            "text/plain": [
              "<Axes: >"
            ]
          },
          "metadata": {},
          "execution_count": 60
        },
        {
          "output_type": "display_data",
          "data": {
            "text/plain": [
              "<Figure size 640x480 with 1 Axes>"
            ],
            "image/png": "[encoded data removed]"
          },
          "metadata": {}
        }
      ],
      "source": [
        "import pandas as pd\n",
        "#df['durée_course']=pd.to_datetime(df['durée'].astype('datetime64[D]'),format='%H:%M:%S')\n",
        "#df['DateTime'] = df.Date.dt.strftime('%Y-%m-%d %S:%M:%H')\n",
        "\n",
        "df['durée'].plot()"
      ]
    },
    {
      "cell_type": "markdown",
      "source": [
        "XGBoost"
      ],
      "metadata": {
        "id": "YDwsuvBU9wtp"
      }
    },
    {
      "cell_type": "code",
      "source": [
        "df.head()"
      ],
      "metadata": {
        "colab": {
          "base_uri": "https://localhost:8080/",
          "height": 357
        },
        "id": "rSIMcZPh--qE",
        "outputId": "7a037adf-13a5-4971-e73e-519bbe2e616b"
      },
      "execution_count": null,
      "outputs": [
        {
          "output_type": "execute_result",
          "data": {
            "text/plain": [
              "  tpep_pickup_datetime tpep_dropoff_datetime  passenger_count  trip_distance  \\\n",
              "1  2023-03-01 00:08:25   2023-03-01 00:39:30              2.0          12.40   \n",
              "2  2023-03-01 00:15:04   2023-03-01 00:29:26              0.0           3.30   \n",
              "3  2023-03-01 00:49:37   2023-03-01 01:01:05              1.0           2.90   \n",
              "4  2023-03-01 00:08:04   2023-03-01 00:11:06              1.0           1.23   \n",
              "5  2023-03-01 00:09:09   2023-03-01 00:17:34              1.0           1.20   \n",
              "\n",
              "   PULocationID  DOLocationID  payment_type  total_amount           durée  \\\n",
              "1           138           231             1         76.49 0 days 00:31:05   \n",
              "2           140           186             1         28.05 0 days 00:14:22   \n",
              "3           140            43             1         24.70 0 days 00:11:28   \n",
              "4            79           137             1         14.64 0 days 00:03:02   \n",
              "5           162           137             1         18.00 0 days 00:08:25   \n",
              "\n",
              "   mois  jour  jour_semaine  annee  heure  minute    durée2  \n",
              "1     3     1             2   2023      0       8  00:31:05  \n",
              "2     3     1             2   2023      0      15  00:14:22  \n",
              "3     3     1             2   2023      0      49  00:11:28  \n",
              "4     3     1             2   2023      0       8  00:03:02  \n",
              "5     3     1             2   2023      0       9  00:08:25  "
            ],
            "text/html": [
              "\n",
              "  <div id=\"df-91cc7d41-4c29-44fd-8075-e6a119f82e59\">\n",
              "    <div class=\"colab-df-container\">\n",
              "      <div>\n",
              "<style scoped>\n",
              "    .dataframe tbody tr th:only-of-type {\n",
              "        vertical-align: middle;\n",
              "    }\n",
              "\n",
              "    .dataframe tbody tr th {\n",
              "        vertical-align: top;\n",
              "    }\n",
              "\n",
              "    .dataframe thead th {\n",
              "        text-align: right;\n",
              "    }\n",
              "</style>\n",
              "<table border=\"1\" class=\"dataframe\">\n",
              "  <thead>\n",
              "    <tr style=\"text-align: right;\">\n",
              "      <th></th>\n",
              "      <th>tpep_pickup_datetime</th>\n",
              "      <th>tpep_dropoff_datetime</th>\n",
              "      <th>passenger_count</th>\n",
              "      <th>trip_distance</th>\n",
              "      <th>PULocationID</th>\n",
              "      <th>DOLocationID</th>\n",
              "      <th>payment_type</th>\n",
              "      <th>total_amount</th>\n",
              "      <th>durée</th>\n",
              "      <th>mois</th>\n",
              "      <th>jour</th>\n",
              "      <th>jour_semaine</th>\n",
              "      <th>annee</th>\n",
              "      <th>heure</th>\n",
              "      <th>minute</th>\n",
              "      <th>durée2</th>\n",
              "    </tr>\n",
              "  </thead>\n",
              "  <tbody>\n",
              "    <tr>\n",
              "      <th>1</th>\n",
              "      <td>2023-03-01 00:08:25</td>\n",
              "      <td>2023-03-01 00:39:30</td>\n",
              "      <td>2.0</td>\n",
              "      <td>12.40</td>\n",
              "      <td>138</td>\n",
              "      <td>231</td>\n",
              "      <td>1</td>\n",
              "      <td>76.49</td>\n",
              "      <td>0 days 00:31:05</td>\n",
              "      <td>3</td>\n",
              "      <td>1</td>\n",
              "      <td>2</td>\n",
              "      <td>2023</td>\n",
              "      <td>0</td>\n",
              "      <td>8</td>\n",
              "      <td>00:31:05</td>\n",
              "    </tr>\n",
              "    <tr>\n",
              "      <th>2</th>\n",
              "      <td>2023-03-01 00:15:04</td>\n",
              "      <td>2023-03-01 00:29:26</td>\n",
              "      <td>0.0</td>\n",
              "      <td>3.30</td>\n",
              "      <td>140</td>\n",
              "      <td>186</td>\n",
              "      <td>1</td>\n",
              "      <td>28.05</td>\n",
              "      <td>0 days 00:14:22</td>\n",
              "      <td>3</td>\n",
              "      <td>1</td>\n",
              "      <td>2</td>\n",
              "      <td>2023</td>\n",
              "      <td>0</td>\n",
              "      <td>15</td>\n",
              "      <td>00:14:22</td>\n",
              "    </tr>\n",
              "    <tr>\n",
              "      <th>3</th>\n",
              "      <td>2023-03-01 00:49:37</td>\n",
              "      <td>2023-03-01 01:01:05</td>\n",
              "      <td>1.0</td>\n",
              "      <td>2.90</td>\n",
              "      <td>140</td>\n",
              "      <td>43</td>\n",
              "      <td>1</td>\n",
              "      <td>24.70</td>\n",
              "      <td>0 days 00:11:28</td>\n",
              "      <td>3</td>\n",
              "      <td>1</td>\n",
              "      <td>2</td>\n",
              "      <td>2023</td>\n",
              "      <td>0</td>\n",
              "      <td>49</td>\n",
              "      <td>00:11:28</td>\n",
              "    </tr>\n",
              "    <tr>\n",
              "      <th>4</th>\n",
              "      <td>2023-03-01 00:08:04</td>\n",
              "      <td>2023-03-01 00:11:06</td>\n",
              "      <td>1.0</td>\n",
              "      <td>1.23</td>\n",
              "      <td>79</td>\n",
              "      <td>137</td>\n",
              "      <td>1</td>\n",
              "      <td>14.64</td>\n",
              "      <td>0 days 00:03:02</td>\n",
              "      <td>3</td>\n",
              "      <td>1</td>\n",
              "      <td>2</td>\n",
              "      <td>2023</td>\n",
              "      <td>0</td>\n",
              "      <td>8</td>\n",
              "      <td>00:03:02</td>\n",
              "    </tr>\n",
              "    <tr>\n",
              "      <th>5</th>\n",
              "      <td>2023-03-01 00:09:09</td>\n",
              "      <td>2023-03-01 00:17:34</td>\n",
              "      <td>1.0</td>\n",
              "      <td>1.20</td>\n",
              "      <td>162</td>\n",
              "      <td>137</td>\n",
              "      <td>1</td>\n",
              "      <td>18.00</td>\n",
              "      <td>0 days 00:08:25</td>\n",
              "      <td>3</td>\n",
              "      <td>1</td>\n",
              "      <td>2</td>\n",
              "      <td>2023</td>\n",
              "      <td>0</td>\n",
              "      <td>9</td>\n",
              "      <td>00:08:25</td>\n",
              "    </tr>\n",
              "  </tbody>\n",
              "</table>\n",
              "</div>\n",
              "      <button class=\"colab-df-convert\" onclick=\"convertToInteractive('df-91cc7d41-4c29-44fd-8075-e6a119f82e59')\"\n",
              "              title=\"Convert this dataframe to an interactive table.\"\n",
              "              style=\"display:none;\">\n",
              "        \n",
              "  <svg xmlns=\"http://www.w3.org/2000/svg\" height=\"24px\"viewBox=\"0 0 24 24\"\n",
              "       width=\"24px\">\n",
              "    <path d=\"M0 0h24v24H0V0z\" fill=\"none\"/>\n",
              "    <path d=\"M18.56 5.44l.94 2.06.94-2.06 2.06-.94-2.06-.94-.94-2.06-.94 2.06-2.06.94zm-11 1L8.5 8.5l.94-2.06 2.06-.94-2.06-.94L8.5 2.5l-.94 2.06-2.06.94zm10 10l.94 2.06.94-2.06 2.06-.94-2.06-.94-.94-2.06-.94 2.06-2.06.94z\"/><path d=\"M17.41 7.96l-1.37-1.37c-.4-.4-.92-.59-1.43-.59-.52 0-1.04.2-1.43.59L10.3 9.45l-7.72 7.72c-.78.78-.78 2.05 0 2.83L4 21.41c.39.39.9.59 1.41.59.51 0 1.02-.2 1.41-.59l7.78-7.78 2.81-2.81c.8-.78.8-2.07 0-2.86zM5.41 20L4 18.59l7.72-7.72 1.47 1.35L5.41 20z\"/>\n",
              "  </svg>\n",
              "      </button>\n",
              "      \n",
              "  <style>\n",
              "    .colab-df-container {\n",
              "      display:flex;\n",
              "      flex-wrap:wrap;\n",
              "      gap: 12px;\n",
              "    }\n",
              "\n",
              "    .colab-df-convert {\n",
              "      background-color: #E8F0FE;\n",
              "      border: none;\n",
              "      border-radius: 50%;\n",
              "      cursor: pointer;\n",
              "      display: none;\n",
              "      fill: #1967D2;\n",
              "      height: 32px;\n",
              "      padding: 0 0 0 0;\n",
              "      width: 32px;\n",
              "    }\n",
              "\n",
              "    .colab-df-convert:hover {\n",
              "      background-color: #E2EBFA;\n",
              "      box-shadow: 0px 1px 2px rgba(60, 64, 67, 0.3), 0px 1px 3px 1px rgba(60, 64, 67, 0.15);\n",
              "      fill: #174EA6;\n",
              "    }\n",
              "\n",
              "    [theme=dark] .colab-df-convert {\n",
              "      background-color: #3B4455;\n",
              "      fill: #D2E3FC;\n",
              "    }\n",
              "\n",
              "    [theme=dark] .colab-df-convert:hover {\n",
              "      background-color: #434B5C;\n",
              "      box-shadow: 0px 1px 3px 1px rgba(0, 0, 0, 0.15);\n",
              "      filter: drop-shadow(0px 1px 2px rgba(0, 0, 0, 0.3));\n",
              "      fill: #FFFFFF;\n",
              "    }\n",
              "  </style>\n",
              "\n",
              "      <script>\n",
              "        const buttonEl =\n",
              "          document.querySelector('#df-91cc7d41-4c29-44fd-8075-e6a119f82e59 button.colab-df-convert');\n",
              "        buttonEl.style.display =\n",
              "          google.colab.kernel.accessAllowed ? 'block' : 'none';\n",
              "\n",
              "        async function convertToInteractive(key) {\n",
              "          const element = document.querySelector('#df-91cc7d41-4c29-44fd-8075-e6a119f82e59');\n",
              "          const dataTable =\n",
              "            await google.colab.kernel.invokeFunction('convertToInteractive',\n",
              "                                                     [key], {});\n",
              "          if (!dataTable) return;\n",
              "\n",
              "          const docLinkHtml = 'Like what you see? Visit the ' +\n",
              "            '<a target=\"_blank\" href=https://colab.research.google.com/notebooks/data_table.ipynb>data table notebook</a>'\n",
              "            + ' to learn more about interactive tables.';\n",
              "          element.innerHTML = '';\n",
              "          dataTable['output_type'] = 'display_data';\n",
              "          await google.colab.output.renderOutput(dataTable, element);\n",
              "          const docLink = document.createElement('div');\n",
              "          docLink.innerHTML = docLinkHtml;\n",
              "          element.appendChild(docLink);\n",
              "        }\n",
              "      </script>\n",
              "    </div>\n",
              "  </div>\n",
              "  "
            ]
          },
          "metadata": {},
          "execution_count": 61
        }
      ]
    },
    {
      "cell_type": "code",
      "source": [
        "# Séparation des features et de la target \n",
        "X = df.drop(columns=['tpep_pickup_datetime','tpep_dropoff_datetime','total_amount','payment_type','durée','durée2'])\n",
        "y = df['total_amount']"
      ],
      "metadata": {
        "id": "aufLfzZd9xho"
      },
      "execution_count": null,
      "outputs": []
    },
    {
      "cell_type": "code",
      "source": [
        "X.head()"
      ],
      "metadata": {
        "colab": {
          "base_uri": "https://localhost:8080/",
          "height": 270
        },
        "id": "S9ZnnNccFO26",
        "outputId": "713bbd62-a419-4867-96c4-8938795b45a6"
      },
      "execution_count": null,
      "outputs": [
        {
          "output_type": "execute_result",
          "data": {
            "text/plain": [
              "   passenger_count  trip_distance  PULocationID  DOLocationID  mois  jour  \\\n",
              "1              2.0          12.40           138           231     3     1   \n",
              "2              0.0           3.30           140           186     3     1   \n",
              "3              1.0           2.90           140            43     3     1   \n",
              "4              1.0           1.23            79           137     3     1   \n",
              "5              1.0           1.20           162           137     3     1   \n",
              "\n",
              "   jour_semaine  annee  heure  minute  duree_minute  \n",
              "1             2   2023      0       8     31.083333  \n",
              "2             2   2023      0      15     14.366667  \n",
              "3             2   2023      0      49     11.466667  \n",
              "4             2   2023      0       8      3.033333  \n",
              "5             2   2023      0       9      8.416667  "
            ],
            "text/html": [
              "\n",
              "  <div id=\"df-d5f505a5-5121-4557-a914-14995a850492\">\n",
              "    <div class=\"colab-df-container\">\n",
              "      <div>\n",
              "<style scoped>\n",
              "    .dataframe tbody tr th:only-of-type {\n",
              "        vertical-align: middle;\n",
              "    }\n",
              "\n",
              "    .dataframe tbody tr th {\n",
              "        vertical-align: top;\n",
              "    }\n",
              "\n",
              "    .dataframe thead th {\n",
              "        text-align: right;\n",
              "    }\n",
              "</style>\n",
              "<table border=\"1\" class=\"dataframe\">\n",
              "  <thead>\n",
              "    <tr style=\"text-align: right;\">\n",
              "      <th></th>\n",
              "      <th>passenger_count</th>\n",
              "      <th>trip_distance</th>\n",
              "      <th>PULocationID</th>\n",
              "      <th>DOLocationID</th>\n",
              "      <th>mois</th>\n",
              "      <th>jour</th>\n",
              "      <th>jour_semaine</th>\n",
              "      <th>annee</th>\n",
              "      <th>heure</th>\n",
              "      <th>minute</th>\n",
              "      <th>duree_minute</th>\n",
              "    </tr>\n",
              "  </thead>\n",
              "  <tbody>\n",
              "    <tr>\n",
              "      <th>1</th>\n",
              "      <td>2.0</td>\n",
              "      <td>12.40</td>\n",
              "      <td>138</td>\n",
              "      <td>231</td>\n",
              "      <td>3</td>\n",
              "      <td>1</td>\n",
              "      <td>2</td>\n",
              "      <td>2023</td>\n",
              "      <td>0</td>\n",
              "      <td>8</td>\n",
              "      <td>31.083333</td>\n",
              "    </tr>\n",
              "    <tr>\n",
              "      <th>2</th>\n",
              "      <td>0.0</td>\n",
              "      <td>3.30</td>\n",
              "      <td>140</td>\n",
              "      <td>186</td>\n",
              "      <td>3</td>\n",
              "      <td>1</td>\n",
              "      <td>2</td>\n",
              "      <td>2023</td>\n",
              "      <td>0</td>\n",
              "      <td>15</td>\n",
              "      <td>14.366667</td>\n",
              "    </tr>\n",
              "    <tr>\n",
              "      <th>3</th>\n",
              "      <td>1.0</td>\n",
              "      <td>2.90</td>\n",
              "      <td>140</td>\n",
              "      <td>43</td>\n",
              "      <td>3</td>\n",
              "      <td>1</td>\n",
              "      <td>2</td>\n",
              "      <td>2023</td>\n",
              "      <td>0</td>\n",
              "      <td>49</td>\n",
              "      <td>11.466667</td>\n",
              "    </tr>\n",
              "    <tr>\n",
              "      <th>4</th>\n",
              "      <td>1.0</td>\n",
              "      <td>1.23</td>\n",
              "      <td>79</td>\n",
              "      <td>137</td>\n",
              "      <td>3</td>\n",
              "      <td>1</td>\n",
              "      <td>2</td>\n",
              "      <td>2023</td>\n",
              "      <td>0</td>\n",
              "      <td>8</td>\n",
              "      <td>3.033333</td>\n",
              "    </tr>\n",
              "    <tr>\n",
              "      <th>5</th>\n",
              "      <td>1.0</td>\n",
              "      <td>1.20</td>\n",
              "      <td>162</td>\n",
              "      <td>137</td>\n",
              "      <td>3</td>\n",
              "      <td>1</td>\n",
              "      <td>2</td>\n",
              "      <td>2023</td>\n",
              "      <td>0</td>\n",
              "      <td>9</td>\n",
              "      <td>8.416667</td>\n",
              "    </tr>\n",
              "  </tbody>\n",
              "</table>\n",
              "</div>\n",
              "      <button class=\"colab-df-convert\" onclick=\"convertToInteractive('df-d5f505a5-5121-4557-a914-14995a850492')\"\n",
              "              title=\"Convert this dataframe to an interactive table.\"\n",
              "              style=\"display:none;\">\n",
              "        \n",
              "  <svg xmlns=\"http://www.w3.org/2000/svg\" height=\"24px\"viewBox=\"0 0 24 24\"\n",
              "       width=\"24px\">\n",
              "    <path d=\"M0 0h24v24H0V0z\" fill=\"none\"/>\n",
              "    <path d=\"M18.56 5.44l.94 2.06.94-2.06 2.06-.94-2.06-.94-.94-2.06-.94 2.06-2.06.94zm-11 1L8.5 8.5l.94-2.06 2.06-.94-2.06-.94L8.5 2.5l-.94 2.06-2.06.94zm10 10l.94 2.06.94-2.06 2.06-.94-2.06-.94-.94-2.06-.94 2.06-2.06.94z\"/><path d=\"M17.41 7.96l-1.37-1.37c-.4-.4-.92-.59-1.43-.59-.52 0-1.04.2-1.43.59L10.3 9.45l-7.72 7.72c-.78.78-.78 2.05 0 2.83L4 21.41c.39.39.9.59 1.41.59.51 0 1.02-.2 1.41-.59l7.78-7.78 2.81-2.81c.8-.78.8-2.07 0-2.86zM5.41 20L4 18.59l7.72-7.72 1.47 1.35L5.41 20z\"/>\n",
              "  </svg>\n",
              "      </button>\n",
              "      \n",
              "  <style>\n",
              "    .colab-df-container {\n",
              "      display:flex;\n",
              "      flex-wrap:wrap;\n",
              "      gap: 12px;\n",
              "    }\n",
              "\n",
              "    .colab-df-convert {\n",
              "      background-color: #E8F0FE;\n",
              "      border: none;\n",
              "      border-radius: 50%;\n",
              "      cursor: pointer;\n",
              "      display: none;\n",
              "      fill: #1967D2;\n",
              "      height: 32px;\n",
              "      padding: 0 0 0 0;\n",
              "      width: 32px;\n",
              "    }\n",
              "\n",
              "    .colab-df-convert:hover {\n",
              "      background-color: #E2EBFA;\n",
              "      box-shadow: 0px 1px 2px rgba(60, 64, 67, 0.3), 0px 1px 3px 1px rgba(60, 64, 67, 0.15);\n",
              "      fill: #174EA6;\n",
              "    }\n",
              "\n",
              "    [theme=dark] .colab-df-convert {\n",
              "      background-color: #3B4455;\n",
              "      fill: #D2E3FC;\n",
              "    }\n",
              "\n",
              "    [theme=dark] .colab-df-convert:hover {\n",
              "      background-color: #434B5C;\n",
              "      box-shadow: 0px 1px 3px 1px rgba(0, 0, 0, 0.15);\n",
              "      filter: drop-shadow(0px 1px 2px rgba(0, 0, 0, 0.3));\n",
              "      fill: #FFFFFF;\n",
              "    }\n",
              "  </style>\n",
              "\n",
              "      <script>\n",
              "        const buttonEl =\n",
              "          document.querySelector('#df-d5f505a5-5121-4557-a914-14995a850492 button.colab-df-convert');\n",
              "        buttonEl.style.display =\n",
              "          google.colab.kernel.accessAllowed ? 'block' : 'none';\n",
              "\n",
              "        async function convertToInteractive(key) {\n",
              "          const element = document.querySelector('#df-d5f505a5-5121-4557-a914-14995a850492');\n",
              "          const dataTable =\n",
              "            await google.colab.kernel.invokeFunction('convertToInteractive',\n",
              "                                                     [key], {});\n",
              "          if (!dataTable) return;\n",
              "\n",
              "          const docLinkHtml = 'Like what you see? Visit the ' +\n",
              "            '<a target=\"_blank\" href=https://colab.research.google.com/notebooks/data_table.ipynb>data table notebook</a>'\n",
              "            + ' to learn more about interactive tables.';\n",
              "          element.innerHTML = '';\n",
              "          dataTable['output_type'] = 'display_data';\n",
              "          await google.colab.output.renderOutput(dataTable, element);\n",
              "          const docLink = document.createElement('div');\n",
              "          docLink.innerHTML = docLinkHtml;\n",
              "          element.appendChild(docLink);\n",
              "        }\n",
              "      </script>\n",
              "    </div>\n",
              "  </div>\n",
              "  "
            ]
          },
          "metadata": {},
          "execution_count": 91
        }
      ]
    },
    {
      "cell_type": "code",
      "source": [
        "X.passenger_count.value_counts()"
      ],
      "metadata": {
        "colab": {
          "base_uri": "https://localhost:8080/"
        },
        "id": "CzCCT5InP__3",
        "outputId": "8358378d-d0bb-4b8d-f3ab-c0222c62d882"
      },
      "execution_count": null,
      "outputs": [
        {
          "output_type": "execute_result",
          "data": {
            "text/plain": [
              "1.0    2440681\n",
              "2.0     465252\n",
              "3.0     114484\n",
              "4.0      56475\n",
              "0.0      55890\n",
              "5.0      45749\n",
              "6.0      28703\n",
              "8.0          1\n",
              "7.0          1\n",
              "Name: passenger_count, dtype: int64"
            ]
          },
          "metadata": {},
          "execution_count": 84
        }
      ]
    },
    {
      "cell_type": "code",
      "source": [
        "import numpy as np\n",
        "print(\"Taille de l'ensemble de données :\", X.shape)\n",
        "print(\"Nombre d'échantillons : \", X.shape [0])\n",
        "print(\"Nombre de features : \", X.shape [1])"
      ],
      "metadata": {
        "colab": {
          "base_uri": "https://localhost:8080/"
        },
        "id": "3NbjNclJ9vjK",
        "outputId": "62f0d236-3827-49c9-f40f-4932d073ce72"
      },
      "execution_count": null,
      "outputs": [
        {
          "output_type": "stream",
          "name": "stdout",
          "text": [
            "Taille de l'ensemble de données : (3207236, 11)\n",
            "Nombre d'échantillons :  3207236\n",
            "Nombre de features :  11\n"
          ]
        }
      ]
    },
    {
      "cell_type": "code",
      "source": [
        "import seaborn as sns\n",
        "import matplotlib.pyplot as plt\n",
        "corr = X.corr()\n",
        "sns.heatmap(corr)\n",
        "plt.show()"
      ],
      "metadata": {
        "colab": {
          "base_uri": "https://localhost:8080/",
          "height": 540
        },
        "id": "e4rqOE7W9vlc",
        "outputId": "2cc92bae-1092-42b8-ebb2-82a117ac5f77"
      },
      "execution_count": null,
      "outputs": [
        {
          "output_type": "display_data",
          "data": {
            "text/plain": [
              "<Figure size 640x480 with 2 Axes>"
            ],
            "image/png": "[encoded data removed]"
          },
          "metadata": {}
        }
      ]
    },
    {
      "cell_type": "code",
      "source": [
        "# Importer les bibliothèques nécessaires\n",
        "import xgboost as xgb\n",
        "from sklearn.model_selection import train_test_split\n",
        "from sklearn.metrics import accuracy_score"
      ],
      "metadata": {
        "id": "eCFl7y5-9vn0"
      },
      "execution_count": null,
      "outputs": []
    },
    {
      "cell_type": "code",
      "source": [
        "X_train, X_test, y_train, y_test = train_test_split(X, y, test_size=0.2, random_state=42)"
      ],
      "metadata": {
        "id": "jenW7EpV9vqB"
      },
      "execution_count": null,
      "outputs": []
    },
    {
      "cell_type": "code",
      "source": [
        "X_train.dtypes"
      ],
      "metadata": {
        "colab": {
          "base_uri": "https://localhost:8080/"
        },
        "id": "esfbO8YFGtpL",
        "outputId": "2aa89bce-2b48-44cb-927d-159d9b64bda5"
      },
      "execution_count": null,
      "outputs": [
        {
          "output_type": "execute_result",
          "data": {
            "text/plain": [
              "passenger_count    float64\n",
              "trip_distance      float64\n",
              "PULocationID         int32\n",
              "DOLocationID         int32\n",
              "mois                 int64\n",
              "jour                 int64\n",
              "jour_semaine         int64\n",
              "annee                int64\n",
              "heure                int64\n",
              "minute               int64\n",
              "duree_minute       float64\n",
              "dtype: object"
            ]
          },
          "metadata": {},
          "execution_count": 93
        }
      ]
    },
    {
      "cell_type": "code",
      "source": [
        "# Créer un objet DMatrix pour les données XGBoost\n",
        "dtrain = xgb.DMatrix(X_train, label=y_train)\n",
        "dtest = xgb.DMatrix(X_test, label=y_test)"
      ],
      "metadata": {
        "id": "vOyi_X0i9_zK"
      },
      "execution_count": null,
      "outputs": []
    },
    {
      "cell_type": "code",
      "source": [
        "# Définir les hyperparamètres du modèle\n",
        "params = {\n",
        "    \"max_depth\": 3,\n",
        "    \"eta\": 0.1,\n",
        "    \"objective\": \"reg:squarederror\",\n",
        "    \"eval_metric\": \"rmse\",\n",
        "    \"seed\": 42\n",
        "}"
      ],
      "metadata": {
        "id": "_CLED6SZ9_1R"
      },
      "execution_count": null,
      "outputs": []
    },
    {
      "cell_type": "code",
      "source": [
        "# Entraîner le modèle\n",
        "num_rounds = 50\n",
        "model = xgb.train(params, dtrain, num_rounds)"
      ],
      "metadata": {
        "id": "s3iB39K9-Dzi"
      },
      "execution_count": null,
      "outputs": []
    },
    {
      "cell_type": "code",
      "source": [
        "# Faire des prédictions sur l'ensemble de test\n",
        "preds = model.predict(dtest)"
      ],
      "metadata": {
        "id": "TfiIbWM69_3q"
      },
      "execution_count": null,
      "outputs": []
    },
    {
      "cell_type": "code",
      "source": [
        "\"\"\"# Faire des prédictions sur l'ensemble de test\n",
        "y_pred = model.predict(dtest)\n",
        "y_pred_binary = [round(value) for value in y_pred]\n",
        "\n",
        "\n",
        "# Calculer la précision de la classification\n",
        "accuracy = accuracy_score(y_test, y_pred_binary)\n",
        "print(\"Accuracy: %.2f%%\" % (accuracy * 100.0))\"\"\""
      ],
      "metadata": {
        "id": "KTGIq2zIT7TE"
      },
      "execution_count": null,
      "outputs": []
    },
    {
      "cell_type": "code",
      "source": [
        "\"\"\"# Évaluer les performances du modèle\n",
        "print(classification_report(y_test, y_pred))\n",
        "print(confusion_matrix(y_test, y_pred))\"\"\""
      ],
      "metadata": {
        "id": "oGfMQbAQUphM"
      },
      "execution_count": null,
      "outputs": []
    },
    {
      "cell_type": "code",
      "source": [
        "from sklearn.metrics import mean_squared_error"
      ],
      "metadata": {
        "id": "-wgi33oo9_6K"
      },
      "execution_count": null,
      "outputs": []
    },
    {
      "cell_type": "code",
      "source": [
        "# Calculer l'erreur quadratique moyenne (RMSE) des prédictions\n",
        "rmse = mean_squared_error(y_test, preds, squared=False)\n",
        "print(\"RMSE:\", rmse)"
      ],
      "metadata": {
        "colab": {
          "base_uri": "https://localhost:8080/"
        },
        "id": "sVy-fnB19vsS",
        "outputId": "6c80068d-c035-4b40-f193-ae7192cea5a4"
      },
      "execution_count": null,
      "outputs": [
        {
          "output_type": "stream",
          "name": "stdout",
          "text": [
            "RMSE: 5.2204992698965835\n"
          ]
        }
      ]
    },
    {
      "cell_type": "code",
      "source": [
        "from sklearn.metrics import mean_squared_error, r2_score\n",
        "\n",
        "rmse = mean_squared_error(y_test, preds, squared=False)\n",
        "r2 = r2_score(y_test, preds)\n",
        "\n",
        "print(f\"RMSE : {rmse}\")\n",
        "print(f\"R2 : {r2}\")"
      ],
      "metadata": {
        "colab": {
          "base_uri": "https://localhost:8080/"
        },
        "id": "d41gpYxtZPhG",
        "outputId": "b0604567-7c64-426f-b498-4c75cb7283b2"
      },
      "execution_count": null,
      "outputs": [
        {
          "output_type": "stream",
          "name": "stdout",
          "text": [
            "RMSE : 5.2204992698965835\n",
            "R2 : 0.9441689688089142\n"
          ]
        }
      ]
    },
    {
      "cell_type": "code",
      "source": [
        "\"\"\"# define new data\n",
        "row = [0.00632,18.00,2.310,0,0.5380,6.5750,65.20,4.0900,1,296.0,15.30,396.90,4.98]\n",
        "#passenger_count\ttrip_distance\tPULocationID\tDOLocationID\tmois\tjour\tjour_semaine\tannee\theure\tminute\tduree_minute\n",
        "#passenger_count\tPULocationID\tDOLocationID\tdate_aller (extraire de la date_aller : mois\tjour\tjour_semaine\tannee\theure\tminute)\t\n",
        "new_data = asarray([row])\n",
        "# make a prediction\n",
        "yhat = model.predict(new_data)\n",
        "# summarize prediction\n",
        "print('Predicted: %.3f' % yhat)\"\"\""
      ],
      "metadata": {
        "id": "1smLyJbZX5rt"
      },
      "execution_count": null,
      "outputs": []
    },
    {
      "cell_type": "markdown",
      "source": [],
      "metadata": {
        "id": "XlN4D5vSYhAU"
      }
    },
    {
      "cell_type": "code",
      "source": [],
      "metadata": {
        "id": "I6r1xkVHX52N"
      },
      "execution_count": null,
      "outputs": []
    },
    {
      "cell_type": "markdown",
      "source": [
        "Réseaux de neurones"
      ],
      "metadata": {
        "id": "EIO9yviL-SjL"
      }
    },
    {
      "cell_type": "code",
      "source": [
        "\"\"\"#Normalisation des données ( je sais pas si nécessaire)\n",
        "from sklearn.preprocessing import StandardScaler\n",
        "scaler = StandardScaler().fit(X)\n",
        "X_scaled = scaler.transform(X)\"\"\""
      ],
      "metadata": {
        "id": "p8ZEZWJp-R0i"
      },
      "execution_count": null,
      "outputs": []
    },
    {
      "cell_type": "code",
      "source": [
        "from tensorflow.keras.models import Sequential\n",
        "from tensorflow.keras.layers import Dense\n",
        "\n",
        "# Définir le modèle\n",
        "model = Sequential()\n",
        "model.add(Dense(50, input_dim=X_train.shape[1], activation='relu'))\n",
        "model.add(Dense(10, activation='relu'))\n",
        "model.add(Dense(1, activation='linear')) # Couche de sortie "
      ],
      "metadata": {
        "id": "nti3chME-Y2r"
      },
      "execution_count": null,
      "outputs": []
    },
    {
      "cell_type": "code",
      "source": [
        "model.summary()"
      ],
      "metadata": {
        "colab": {
          "base_uri": "https://localhost:8080/"
        },
        "id": "rxvLHEzD-Y49",
        "outputId": "4a3cfc99-9175-4665-fe80-1825d3d99bfb"
      },
      "execution_count": null,
      "outputs": [
        {
          "output_type": "stream",
          "name": "stdout",
          "text": [
            "Model: \"sequential\"\n",
            "_________________________________________________________________\n",
            " Layer (type)                Output Shape              Param #   \n",
            "=================================================================\n",
            " dense (Dense)               (None, 50)                600       \n",
            "                                                                 \n",
            " dense_1 (Dense)             (None, 10)                510       \n",
            "                                                                 \n",
            " dense_2 (Dense)             (None, 1)                 11        \n",
            "                                                                 \n",
            "=================================================================\n",
            "Total params: 1,121\n",
            "Trainable params: 1,121\n",
            "Non-trainable params: 0\n",
            "_________________________________________________________________\n"
          ]
        }
      ]
    },
    {
      "cell_type": "code",
      "source": [
        "# Compiler le modèle\n",
        "model.compile(loss='mean_squared_error', optimizer='adam')"
      ],
      "metadata": {
        "id": "AxQoIq35-Y7K"
      },
      "execution_count": null,
      "outputs": []
    },
    {
      "cell_type": "code",
      "source": [
        "# Entraîner le modèle\n",
        "history=model.fit(X_train, y_train, epochs=50, batch_size=10, verbose=0)"
      ],
      "metadata": {
        "colab": {
          "base_uri": "https://localhost:8080/",
          "height": 345
        },
        "id": "-XMeuHQq-Y9v",
        "outputId": "09c917f0-40fc-4f9b-b25e-d91780a51cff"
      },
      "execution_count": null,
      "outputs": [
        {
          "output_type": "error",
          "ename": "KeyboardInterrupt",
          "evalue": "ignored",
          "traceback": [
            "\u001b[0;31m---------------------------------------------------------------------------\u001b[0m",
            "\u001b[0;31mKeyboardInterrupt\u001b[0m                         Traceback (most recent call last)",
            "\u001b[0;32m<ipython-input-110-a7a4cac7419a>\u001b[0m in \u001b[0;36m<cell line: 2>\u001b[0;34m()\u001b[0m\n\u001b[1;32m      1\u001b[0m \u001b[0;31m# Entraîner le modèle\u001b[0m\u001b[0;34m\u001b[0m\u001b[0;34m\u001b[0m\u001b[0m\n\u001b[0;32m----> 2\u001b[0;31m \u001b[0mhistory\u001b[0m\u001b[0;34m=\u001b[0m\u001b[0mmodel\u001b[0m\u001b[0;34m.\u001b[0m\u001b[0mfit\u001b[0m\u001b[0;34m(\u001b[0m\u001b[0mX_train\u001b[0m\u001b[0;34m,\u001b[0m \u001b[0my_train\u001b[0m\u001b[0;34m,\u001b[0m \u001b[0mepochs\u001b[0m\u001b[0;34m=\u001b[0m\u001b[0;36m50\u001b[0m\u001b[0;34m,\u001b[0m \u001b[0mbatch_size\u001b[0m\u001b[0;34m=\u001b[0m\u001b[0;36m10\u001b[0m\u001b[0;34m,\u001b[0m \u001b[0mverbose\u001b[0m\u001b[0;34m=\u001b[0m\u001b[0;36m0\u001b[0m\u001b[0;34m)\u001b[0m\u001b[0;34m\u001b[0m\u001b[0;34m\u001b[0m\u001b[0m\n\u001b[0m",
            "\u001b[0;32m/usr/local/lib/python3.10/dist-packages/keras/utils/traceback_utils.py\u001b[0m in \u001b[0;36merror_handler\u001b[0;34m(*args, **kwargs)\u001b[0m\n\u001b[1;32m     63\u001b[0m         \u001b[0mfiltered_tb\u001b[0m \u001b[0;34m=\u001b[0m \u001b[0;32mNone\u001b[0m\u001b[0;34m\u001b[0m\u001b[0;34m\u001b[0m\u001b[0m\n\u001b[1;32m     64\u001b[0m         \u001b[0;32mtry\u001b[0m\u001b[0;34m:\u001b[0m\u001b[0;34m\u001b[0m\u001b[0;34m\u001b[0m\u001b[0m\n\u001b[0;32m---> 65\u001b[0;31m             \u001b[0;32mreturn\u001b[0m \u001b[0mfn\u001b[0m\u001b[0;34m(\u001b[0m\u001b[0;34m*\u001b[0m\u001b[0margs\u001b[0m\u001b[0;34m,\u001b[0m \u001b[0;34m**\u001b[0m\u001b[0mkwargs\u001b[0m\u001b[0;34m)\u001b[0m\u001b[0;34m\u001b[0m\u001b[0;34m\u001b[0m\u001b[0m\n\u001b[0m\u001b[1;32m     66\u001b[0m         \u001b[0;32mexcept\u001b[0m \u001b[0mException\u001b[0m \u001b[0;32mas\u001b[0m \u001b[0me\u001b[0m\u001b[0;34m:\u001b[0m\u001b[0;34m\u001b[0m\u001b[0;34m\u001b[0m\u001b[0m\n\u001b[1;32m     67\u001b[0m             \u001b[0mfiltered_tb\u001b[0m \u001b[0;34m=\u001b[0m \u001b[0m_process_traceback_frames\u001b[0m\u001b[0;34m(\u001b[0m\u001b[0me\u001b[0m\u001b[0;34m.\u001b[0m\u001b[0m__traceback__\u001b[0m\u001b[0;34m)\u001b[0m\u001b[0;34m\u001b[0m\u001b[0;34m\u001b[0m\u001b[0m\n",
            "\u001b[0;32m/usr/local/lib/python3.10/dist-packages/keras/engine/training.py\u001b[0m in \u001b[0;36mfit\u001b[0;34m(self, x, y, batch_size, epochs, verbose, callbacks, validation_split, validation_data, shuffle, class_weight, sample_weight, initial_epoch, steps_per_epoch, validation_steps, validation_batch_size, validation_freq, max_queue_size, workers, use_multiprocessing)\u001b[0m\n\u001b[1;32m   1683\u001b[0m                         ):\n\u001b[1;32m   1684\u001b[0m                             \u001b[0mcallbacks\u001b[0m\u001b[0;34m.\u001b[0m\u001b[0mon_train_batch_begin\u001b[0m\u001b[0;34m(\u001b[0m\u001b[0mstep\u001b[0m\u001b[0;34m)\u001b[0m\u001b[0;34m\u001b[0m\u001b[0;34m\u001b[0m\u001b[0m\n\u001b[0;32m-> 1685\u001b[0;31m                             \u001b[0mtmp_logs\u001b[0m \u001b[0;34m=\u001b[0m \u001b[0mself\u001b[0m\u001b[0;34m.\u001b[0m\u001b[0mtrain_function\u001b[0m\u001b[0;34m(\u001b[0m\u001b[0miterator\u001b[0m\u001b[0;34m)\u001b[0m\u001b[0;34m\u001b[0m\u001b[0;34m\u001b[0m\u001b[0m\n\u001b[0m\u001b[1;32m   1686\u001b[0m                             \u001b[0;32mif\u001b[0m \u001b[0mdata_handler\u001b[0m\u001b[0;34m.\u001b[0m\u001b[0mshould_sync\u001b[0m\u001b[0;34m:\u001b[0m\u001b[0;34m\u001b[0m\u001b[0;34m\u001b[0m\u001b[0m\n\u001b[1;32m   1687\u001b[0m                                 \u001b[0mcontext\u001b[0m\u001b[0;34m.\u001b[0m\u001b[0masync_wait\u001b[0m\u001b[0;34m(\u001b[0m\u001b[0;34m)\u001b[0m\u001b[0;34m\u001b[0m\u001b[0;34m\u001b[0m\u001b[0m\n",
            "\u001b[0;32m/usr/local/lib/python3.10/dist-packages/tensorflow/python/util/traceback_utils.py\u001b[0m in \u001b[0;36merror_handler\u001b[0;34m(*args, **kwargs)\u001b[0m\n\u001b[1;32m    148\u001b[0m     \u001b[0mfiltered_tb\u001b[0m \u001b[0;34m=\u001b[0m \u001b[0;32mNone\u001b[0m\u001b[0;34m\u001b[0m\u001b[0;34m\u001b[0m\u001b[0m\n\u001b[1;32m    149\u001b[0m     \u001b[0;32mtry\u001b[0m\u001b[0;34m:\u001b[0m\u001b[0;34m\u001b[0m\u001b[0;34m\u001b[0m\u001b[0m\n\u001b[0;32m--> 150\u001b[0;31m       \u001b[0;32mreturn\u001b[0m \u001b[0mfn\u001b[0m\u001b[0;34m(\u001b[0m\u001b[0;34m*\u001b[0m\u001b[0margs\u001b[0m\u001b[0;34m,\u001b[0m \u001b[0;34m**\u001b[0m\u001b[0mkwargs\u001b[0m\u001b[0;34m)\u001b[0m\u001b[0;34m\u001b[0m\u001b[0;34m\u001b[0m\u001b[0m\n\u001b[0m\u001b[1;32m    151\u001b[0m     \u001b[0;32mexcept\u001b[0m \u001b[0mException\u001b[0m \u001b[0;32mas\u001b[0m \u001b[0me\u001b[0m\u001b[0;34m:\u001b[0m\u001b[0;34m\u001b[0m\u001b[0;34m\u001b[0m\u001b[0m\n\u001b[1;32m    152\u001b[0m       \u001b[0mfiltered_tb\u001b[0m \u001b[0;34m=\u001b[0m \u001b[0m_process_traceback_frames\u001b[0m\u001b[0;34m(\u001b[0m\u001b[0me\u001b[0m\u001b[0;34m.\u001b[0m\u001b[0m__traceback__\u001b[0m\u001b[0;34m)\u001b[0m\u001b[0;34m\u001b[0m\u001b[0;34m\u001b[0m\u001b[0m\n",
            "\u001b[0;32m/usr/local/lib/python3.10/dist-packages/tensorflow/python/eager/polymorphic_function/polymorphic_function.py\u001b[0m in \u001b[0;36m__call__\u001b[0;34m(self, *args, **kwds)\u001b[0m\n\u001b[1;32m    892\u001b[0m \u001b[0;34m\u001b[0m\u001b[0m\n\u001b[1;32m    893\u001b[0m       \u001b[0;32mwith\u001b[0m \u001b[0mOptionalXlaContext\u001b[0m\u001b[0;34m(\u001b[0m\u001b[0mself\u001b[0m\u001b[0;34m.\u001b[0m\u001b[0m_jit_compile\u001b[0m\u001b[0;34m)\u001b[0m\u001b[0;34m:\u001b[0m\u001b[0;34m\u001b[0m\u001b[0;34m\u001b[0m\u001b[0m\n\u001b[0;32m--> 894\u001b[0;31m         \u001b[0mresult\u001b[0m \u001b[0;34m=\u001b[0m \u001b[0mself\u001b[0m\u001b[0;34m.\u001b[0m\u001b[0m_call\u001b[0m\u001b[0;34m(\u001b[0m\u001b[0;34m*\u001b[0m\u001b[0margs\u001b[0m\u001b[0;34m,\u001b[0m \u001b[0;34m**\u001b[0m\u001b[0mkwds\u001b[0m\u001b[0;34m)\u001b[0m\u001b[0;34m\u001b[0m\u001b[0;34m\u001b[0m\u001b[0m\n\u001b[0m\u001b[1;32m    895\u001b[0m \u001b[0;34m\u001b[0m\u001b[0m\n\u001b[1;32m    896\u001b[0m       \u001b[0mnew_tracing_count\u001b[0m \u001b[0;34m=\u001b[0m \u001b[0mself\u001b[0m\u001b[0;34m.\u001b[0m\u001b[0mexperimental_get_tracing_count\u001b[0m\u001b[0;34m(\u001b[0m\u001b[0;34m)\u001b[0m\u001b[0;34m\u001b[0m\u001b[0;34m\u001b[0m\u001b[0m\n",
            "\u001b[0;32m/usr/local/lib/python3.10/dist-packages/tensorflow/python/eager/polymorphic_function/polymorphic_function.py\u001b[0m in \u001b[0;36m_call\u001b[0;34m(self, *args, **kwds)\u001b[0m\n\u001b[1;32m    924\u001b[0m       \u001b[0;31m# In this case we have created variables on the first call, so we run the\u001b[0m\u001b[0;34m\u001b[0m\u001b[0;34m\u001b[0m\u001b[0m\n\u001b[1;32m    925\u001b[0m       \u001b[0;31m# defunned version which is guaranteed to never create variables.\u001b[0m\u001b[0;34m\u001b[0m\u001b[0;34m\u001b[0m\u001b[0m\n\u001b[0;32m--> 926\u001b[0;31m       \u001b[0;32mreturn\u001b[0m \u001b[0mself\u001b[0m\u001b[0;34m.\u001b[0m\u001b[0m_no_variable_creation_fn\u001b[0m\u001b[0;34m(\u001b[0m\u001b[0;34m*\u001b[0m\u001b[0margs\u001b[0m\u001b[0;34m,\u001b[0m \u001b[0;34m**\u001b[0m\u001b[0mkwds\u001b[0m\u001b[0;34m)\u001b[0m  \u001b[0;31m# pylint: disable=not-callable\u001b[0m\u001b[0;34m\u001b[0m\u001b[0;34m\u001b[0m\u001b[0m\n\u001b[0m\u001b[1;32m    927\u001b[0m     \u001b[0;32melif\u001b[0m \u001b[0mself\u001b[0m\u001b[0;34m.\u001b[0m\u001b[0m_variable_creation_fn\u001b[0m \u001b[0;32mis\u001b[0m \u001b[0;32mnot\u001b[0m \u001b[0;32mNone\u001b[0m\u001b[0;34m:\u001b[0m\u001b[0;34m\u001b[0m\u001b[0;34m\u001b[0m\u001b[0m\n\u001b[1;32m    928\u001b[0m       \u001b[0;31m# Release the lock early so that multiple threads can perform the call\u001b[0m\u001b[0;34m\u001b[0m\u001b[0;34m\u001b[0m\u001b[0m\n",
            "\u001b[0;32m/usr/local/lib/python3.10/dist-packages/tensorflow/python/eager/polymorphic_function/tracing_compiler.py\u001b[0m in \u001b[0;36m__call__\u001b[0;34m(self, *args, **kwargs)\u001b[0m\n\u001b[1;32m    141\u001b[0m       (concrete_function,\n\u001b[1;32m    142\u001b[0m        filtered_flat_args) = self._maybe_define_function(args, kwargs)\n\u001b[0;32m--> 143\u001b[0;31m     return concrete_function._call_flat(\n\u001b[0m\u001b[1;32m    144\u001b[0m         filtered_flat_args, captured_inputs=concrete_function.captured_inputs)  # pylint: disable=protected-access\n\u001b[1;32m    145\u001b[0m \u001b[0;34m\u001b[0m\u001b[0m\n",
            "\u001b[0;32m/usr/local/lib/python3.10/dist-packages/tensorflow/python/eager/polymorphic_function/monomorphic_function.py\u001b[0m in \u001b[0;36m_call_flat\u001b[0;34m(self, args, captured_inputs, cancellation_manager)\u001b[0m\n\u001b[1;32m   1755\u001b[0m         and executing_eagerly):\n\u001b[1;32m   1756\u001b[0m       \u001b[0;31m# No tape is watching; skip to running the function.\u001b[0m\u001b[0;34m\u001b[0m\u001b[0;34m\u001b[0m\u001b[0m\n\u001b[0;32m-> 1757\u001b[0;31m       return self._build_call_outputs(self._inference_function.call(\n\u001b[0m\u001b[1;32m   1758\u001b[0m           ctx, args, cancellation_manager=cancellation_manager))\n\u001b[1;32m   1759\u001b[0m     forward_backward = self._select_forward_and_backward_functions(\n",
            "\u001b[0;32m/usr/local/lib/python3.10/dist-packages/tensorflow/python/eager/polymorphic_function/monomorphic_function.py\u001b[0m in \u001b[0;36mcall\u001b[0;34m(self, ctx, args, cancellation_manager)\u001b[0m\n\u001b[1;32m    379\u001b[0m       \u001b[0;32mwith\u001b[0m \u001b[0m_InterpolateFunctionError\u001b[0m\u001b[0;34m(\u001b[0m\u001b[0mself\u001b[0m\u001b[0;34m)\u001b[0m\u001b[0;34m:\u001b[0m\u001b[0;34m\u001b[0m\u001b[0;34m\u001b[0m\u001b[0m\n\u001b[1;32m    380\u001b[0m         \u001b[0;32mif\u001b[0m \u001b[0mcancellation_manager\u001b[0m \u001b[0;32mis\u001b[0m \u001b[0;32mNone\u001b[0m\u001b[0;34m:\u001b[0m\u001b[0;34m\u001b[0m\u001b[0;34m\u001b[0m\u001b[0m\n\u001b[0;32m--> 381\u001b[0;31m           outputs = execute.execute(\n\u001b[0m\u001b[1;32m    382\u001b[0m               \u001b[0mstr\u001b[0m\u001b[0;34m(\u001b[0m\u001b[0mself\u001b[0m\u001b[0;34m.\u001b[0m\u001b[0msignature\u001b[0m\u001b[0;34m.\u001b[0m\u001b[0mname\u001b[0m\u001b[0;34m)\u001b[0m\u001b[0;34m,\u001b[0m\u001b[0;34m\u001b[0m\u001b[0;34m\u001b[0m\u001b[0m\n\u001b[1;32m    383\u001b[0m               \u001b[0mnum_outputs\u001b[0m\u001b[0;34m=\u001b[0m\u001b[0mself\u001b[0m\u001b[0;34m.\u001b[0m\u001b[0m_num_outputs\u001b[0m\u001b[0;34m,\u001b[0m\u001b[0;34m\u001b[0m\u001b[0;34m\u001b[0m\u001b[0m\n",
            "\u001b[0;32m/usr/local/lib/python3.10/dist-packages/tensorflow/python/eager/execute.py\u001b[0m in \u001b[0;36mquick_execute\u001b[0;34m(op_name, num_outputs, inputs, attrs, ctx, name)\u001b[0m\n\u001b[1;32m     50\u001b[0m   \u001b[0;32mtry\u001b[0m\u001b[0;34m:\u001b[0m\u001b[0;34m\u001b[0m\u001b[0;34m\u001b[0m\u001b[0m\n\u001b[1;32m     51\u001b[0m     \u001b[0mctx\u001b[0m\u001b[0;34m.\u001b[0m\u001b[0mensure_initialized\u001b[0m\u001b[0;34m(\u001b[0m\u001b[0;34m)\u001b[0m\u001b[0;34m\u001b[0m\u001b[0;34m\u001b[0m\u001b[0m\n\u001b[0;32m---> 52\u001b[0;31m     tensors = pywrap_tfe.TFE_Py_Execute(ctx._handle, device_name, op_name,\n\u001b[0m\u001b[1;32m     53\u001b[0m                                         inputs, attrs, num_outputs)\n\u001b[1;32m     54\u001b[0m   \u001b[0;32mexcept\u001b[0m \u001b[0mcore\u001b[0m\u001b[0;34m.\u001b[0m\u001b[0m_NotOkStatusException\u001b[0m \u001b[0;32mas\u001b[0m \u001b[0me\u001b[0m\u001b[0;34m:\u001b[0m\u001b[0;34m\u001b[0m\u001b[0;34m\u001b[0m\u001b[0m\n",
            "\u001b[0;31mKeyboardInterrupt\u001b[0m: "
          ]
        }
      ]
    },
    {
      "cell_type": "code",
      "source": [
        "# Visualisation de la courbe d'apprentissage et de validation\n",
        "import matplotlib.pyplot as plt\n",
        "plt.plot(history.history['loss']) # fonction de perte (loss) \n",
        "#plt.plot(history.history['mse']) # Métrique de performance\n",
        "plt.title('Loss')\n",
        "plt.xlabel('Epochs')\n",
        "plt.ylabel('Loss')\n",
        "plt.legend(['Train', 'Validation'], loc='upper left')\n",
        "plt.show()"
      ],
      "metadata": {
        "id": "yDn_OMxU-Y_7"
      },
      "execution_count": null,
      "outputs": []
    },
    {
      "cell_type": "code",
      "source": [
        "# Évaluer le modèle\n",
        "mse = model.evaluate(X_test, y_test, verbose=0)\n",
        "print('MSE: %.2f' % mse)"
      ],
      "metadata": {
        "id": "eN5Cf5yV-7sz"
      },
      "execution_count": null,
      "outputs": []
    },
    {
      "cell_type": "code",
      "source": [
        "# Faire des prédictions (fonction predict())\n",
        "predictions = model.predict(X_test)\n",
        "# Afficher les résultats\n",
        "for i in range(10):\n",
        "    print('Prediction: %.2f, Vraie valeur: %.2f' % (predictions[i], np.array([y_test[i]])))"
      ],
      "metadata": {
        "id": "kqXh85NDbjrR"
      },
      "execution_count": null,
      "outputs": []
    }
  ],
  "metadata": {
    "colab": {
      "provenance": []
    },
    "kernelspec": {
      "display_name": "Python 3 (ipykernel)",
      "language": "python",
      "name": "python3"
    },
    "language_info": {
      "codemirror_mode": {
        "name": "ipython",
        "version": 3
      },
      "file_extension": ".py",
      "mimetype": "text/x-python",
      "name": "python",
      "nbconvert_exporter": "python",
      "pygments_lexer": "ipython3",
      "version": "3.9.7"
    }
  },
  "nbformat": 4,
  "nbformat_minor": 0
}