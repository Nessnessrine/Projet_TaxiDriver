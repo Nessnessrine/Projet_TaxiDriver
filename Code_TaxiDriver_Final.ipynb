{
  "cells": [
    {
      "cell_type": "markdown",
      "metadata": {
        "id": "view-in-github",
        "colab_type": "text"
      },
      "source": [
        "<a href=\"https://colab.research.google.com/github/Nessnessrine/Projet_TaxiDriver/blob/main/Code_TaxiDriver_Final.ipynb\" target=\"_parent\"><img src=\"https://colab.research.google.com/assets/colab-badge.svg\" alt=\"Open In Colab\"/></a>"
      ]
    },
    {
      "cell_type": "markdown",
      "metadata": {
        "id": "g1KQ8_yJ0Nbh"
      },
      "source": [
        "# Analyse exploratoire\n"
      ]
    },
    {
      "cell_type": "code",
      "execution_count": null,
      "metadata": {
        "id": "rzp42YwIRcjU"
      },
      "outputs": [],
      "source": [
        "import seaborn as sns\n",
        "import matplotlib.pyplot as plt\n",
        "import numpy as np\n",
        "import pandas as pd"
      ]
    },
    {
      "cell_type": "code",
      "execution_count": null,
      "metadata": {
        "colab": {
          "base_uri": "https://localhost:8080/"
        },
        "id": "3Vy6P4Vk0Nbj",
        "outputId": "4b39f543-fe54-4cb4-9d35-2b0d65fdbd1e"
      },
      "outputs": [
        {
          "output_type": "stream",
          "name": "stdout",
          "text": [
            "Requirement already satisfied: pyarrow in /usr/local/lib/python3.10/dist-packages (9.0.0)\n",
            "Requirement already satisfied: numpy>=1.16.6 in /usr/local/lib/python3.10/dist-packages (from pyarrow) (1.22.4)\n"
          ]
        }
      ],
      "source": [
        "!pip install pyarrow"
      ]
    },
    {
      "cell_type": "code",
      "execution_count": null,
      "metadata": {
        "colab": {
          "base_uri": "https://localhost:8080/",
          "height": 270
        },
        "id": "tW29y4b2yrHO",
        "outputId": "38a0374d-a6ce-4db0-9ed0-b79a547e45a9"
      },
      "outputs": [
        {
          "output_type": "execute_result",
          "data": {
            "text/plain": [
              "   VendorID tpep_pickup_datetime tpep_dropoff_datetime  passenger_count  \\\n",
              "0         2  2023-03-01 00:06:43   2023-03-01 00:16:43              1.0   \n",
              "1         2  2023-03-01 00:08:25   2023-03-01 00:39:30              2.0   \n",
              "2         1  2023-03-01 00:15:04   2023-03-01 00:29:26              0.0   \n",
              "3         1  2023-03-01 00:49:37   2023-03-01 01:01:05              1.0   \n",
              "4         2  2023-03-01 00:08:04   2023-03-01 00:11:06              1.0   \n",
              "\n",
              "   trip_distance  RatecodeID store_and_fwd_flag  PULocationID  DOLocationID  \\\n",
              "0           0.00         1.0                  N           238            42   \n",
              "1          12.40         1.0                  N           138           231   \n",
              "2           3.30         1.0                  N           140           186   \n",
              "3           2.90         1.0                  N           140            43   \n",
              "4           1.23         1.0                  N            79           137   \n",
              "\n",
              "   payment_type  fare_amount  extra  mta_tax  tip_amount  tolls_amount  \\\n",
              "0             2          8.6    1.0      0.5        0.00           0.0   \n",
              "1             1         52.7    6.0      0.5       12.54           0.0   \n",
              "2             1         18.4    3.5      0.5        4.65           0.0   \n",
              "3             1         15.6    3.5      0.5        4.10           0.0   \n",
              "4             1          7.2    1.0      0.5        2.44           0.0   \n",
              "\n",
              "   improvement_surcharge  total_amount  congestion_surcharge  Airport_fee  \n",
              "0                    1.0         11.10                   0.0         0.00  \n",
              "1                    1.0         76.49                   2.5         1.25  \n",
              "2                    1.0         28.05                   2.5         0.00  \n",
              "3                    1.0         24.70                   2.5         0.00  \n",
              "4                    1.0         14.64                   2.5         0.00  "
            ],
            "text/html": [
              "\n",
              "  <div id=\"df-4fa6f643-7728-421c-8bd0-3fcc00bfc297\">\n",
              "    <div class=\"colab-df-container\">\n",
              "      <div>\n",
              "<style scoped>\n",
              "    .dataframe tbody tr th:only-of-type {\n",
              "        vertical-align: middle;\n",
              "    }\n",
              "\n",
              "    .dataframe tbody tr th {\n",
              "        vertical-align: top;\n",
              "    }\n",
              "\n",
              "    .dataframe thead th {\n",
              "        text-align: right;\n",
              "    }\n",
              "</style>\n",
              "<table border=\"1\" class=\"dataframe\">\n",
              "  <thead>\n",
              "    <tr style=\"text-align: right;\">\n",
              "      <th></th>\n",
              "      <th>VendorID</th>\n",
              "      <th>tpep_pickup_datetime</th>\n",
              "      <th>tpep_dropoff_datetime</th>\n",
              "      <th>passenger_count</th>\n",
              "      <th>trip_distance</th>\n",
              "      <th>RatecodeID</th>\n",
              "      <th>store_and_fwd_flag</th>\n",
              "      <th>PULocationID</th>\n",
              "      <th>DOLocationID</th>\n",
              "      <th>payment_type</th>\n",
              "      <th>fare_amount</th>\n",
              "      <th>extra</th>\n",
              "      <th>mta_tax</th>\n",
              "      <th>tip_amount</th>\n",
              "      <th>tolls_amount</th>\n",
              "      <th>improvement_surcharge</th>\n",
              "      <th>total_amount</th>\n",
              "      <th>congestion_surcharge</th>\n",
              "      <th>Airport_fee</th>\n",
              "    </tr>\n",
              "  </thead>\n",
              "  <tbody>\n",
              "    <tr>\n",
              "      <th>0</th>\n",
              "      <td>2</td>\n",
              "      <td>2023-03-01 00:06:43</td>\n",
              "      <td>2023-03-01 00:16:43</td>\n",
              "      <td>1.0</td>\n",
              "      <td>0.00</td>\n",
              "      <td>1.0</td>\n",
              "      <td>N</td>\n",
              "      <td>238</td>\n",
              "      <td>42</td>\n",
              "      <td>2</td>\n",
              "      <td>8.6</td>\n",
              "      <td>1.0</td>\n",
              "      <td>0.5</td>\n",
              "      <td>0.00</td>\n",
              "      <td>0.0</td>\n",
              "      <td>1.0</td>\n",
              "      <td>11.10</td>\n",
              "      <td>0.0</td>\n",
              "      <td>0.00</td>\n",
              "    </tr>\n",
              "    <tr>\n",
              "      <th>1</th>\n",
              "      <td>2</td>\n",
              "      <td>2023-03-01 00:08:25</td>\n",
              "      <td>2023-03-01 00:39:30</td>\n",
              "      <td>2.0</td>\n",
              "      <td>12.40</td>\n",
              "      <td>1.0</td>\n",
              "      <td>N</td>\n",
              "      <td>138</td>\n",
              "      <td>231</td>\n",
              "      <td>1</td>\n",
              "      <td>52.7</td>\n",
              "      <td>6.0</td>\n",
              "      <td>0.5</td>\n",
              "      <td>12.54</td>\n",
              "      <td>0.0</td>\n",
              "      <td>1.0</td>\n",
              "      <td>76.49</td>\n",
              "      <td>2.5</td>\n",
              "      <td>1.25</td>\n",
              "    </tr>\n",
              "    <tr>\n",
              "      <th>2</th>\n",
              "      <td>1</td>\n",
              "      <td>2023-03-01 00:15:04</td>\n",
              "      <td>2023-03-01 00:29:26</td>\n",
              "      <td>0.0</td>\n",
              "      <td>3.30</td>\n",
              "      <td>1.0</td>\n",
              "      <td>N</td>\n",
              "      <td>140</td>\n",
              "      <td>186</td>\n",
              "      <td>1</td>\n",
              "      <td>18.4</td>\n",
              "      <td>3.5</td>\n",
              "      <td>0.5</td>\n",
              "      <td>4.65</td>\n",
              "      <td>0.0</td>\n",
              "      <td>1.0</td>\n",
              "      <td>28.05</td>\n",
              "      <td>2.5</td>\n",
              "      <td>0.00</td>\n",
              "    </tr>\n",
              "    <tr>\n",
              "      <th>3</th>\n",
              "      <td>1</td>\n",
              "      <td>2023-03-01 00:49:37</td>\n",
              "      <td>2023-03-01 01:01:05</td>\n",
              "      <td>1.0</td>\n",
              "      <td>2.90</td>\n",
              "      <td>1.0</td>\n",
              "      <td>N</td>\n",
              "      <td>140</td>\n",
              "      <td>43</td>\n",
              "      <td>1</td>\n",
              "      <td>15.6</td>\n",
              "      <td>3.5</td>\n",
              "      <td>0.5</td>\n",
              "      <td>4.10</td>\n",
              "      <td>0.0</td>\n",
              "      <td>1.0</td>\n",
              "      <td>24.70</td>\n",
              "      <td>2.5</td>\n",
              "      <td>0.00</td>\n",
              "    </tr>\n",
              "    <tr>\n",
              "      <th>4</th>\n",
              "      <td>2</td>\n",
              "      <td>2023-03-01 00:08:04</td>\n",
              "      <td>2023-03-01 00:11:06</td>\n",
              "      <td>1.0</td>\n",
              "      <td>1.23</td>\n",
              "      <td>1.0</td>\n",
              "      <td>N</td>\n",
              "      <td>79</td>\n",
              "      <td>137</td>\n",
              "      <td>1</td>\n",
              "      <td>7.2</td>\n",
              "      <td>1.0</td>\n",
              "      <td>0.5</td>\n",
              "      <td>2.44</td>\n",
              "      <td>0.0</td>\n",
              "      <td>1.0</td>\n",
              "      <td>14.64</td>\n",
              "      <td>2.5</td>\n",
              "      <td>0.00</td>\n",
              "    </tr>\n",
              "  </tbody>\n",
              "</table>\n",
              "</div>\n",
              "      <button class=\"colab-df-convert\" onclick=\"convertToInteractive('df-4fa6f643-7728-421c-8bd0-3fcc00bfc297')\"\n",
              "              title=\"Convert this dataframe to an interactive table.\"\n",
              "              style=\"display:none;\">\n",
              "        \n",
              "  <svg xmlns=\"http://www.w3.org/2000/svg\" height=\"24px\"viewBox=\"0 0 24 24\"\n",
              "       width=\"24px\">\n",
              "    <path d=\"M0 0h24v24H0V0z\" fill=\"none\"/>\n",
              "    <path d=\"M18.56 5.44l.94 2.06.94-2.06 2.06-.94-2.06-.94-.94-2.06-.94 2.06-2.06.94zm-11 1L8.5 8.5l.94-2.06 2.06-.94-2.06-.94L8.5 2.5l-.94 2.06-2.06.94zm10 10l.94 2.06.94-2.06 2.06-.94-2.06-.94-.94-2.06-.94 2.06-2.06.94z\"/><path d=\"M17.41 7.96l-1.37-1.37c-.4-.4-.92-.59-1.43-.59-.52 0-1.04.2-1.43.59L10.3 9.45l-7.72 7.72c-.78.78-.78 2.05 0 2.83L4 21.41c.39.39.9.59 1.41.59.51 0 1.02-.2 1.41-.59l7.78-7.78 2.81-2.81c.8-.78.8-2.07 0-2.86zM5.41 20L4 18.59l7.72-7.72 1.47 1.35L5.41 20z\"/>\n",
              "  </svg>\n",
              "      </button>\n",
              "      \n",
              "  <style>\n",
              "    .colab-df-container {\n",
              "      display:flex;\n",
              "      flex-wrap:wrap;\n",
              "      gap: 12px;\n",
              "    }\n",
              "\n",
              "    .colab-df-convert {\n",
              "      background-color: #E8F0FE;\n",
              "      border: none;\n",
              "      border-radius: 50%;\n",
              "      cursor: pointer;\n",
              "      display: none;\n",
              "      fill: #1967D2;\n",
              "      height: 32px;\n",
              "      padding: 0 0 0 0;\n",
              "      width: 32px;\n",
              "    }\n",
              "\n",
              "    .colab-df-convert:hover {\n",
              "      background-color: #E2EBFA;\n",
              "      box-shadow: 0px 1px 2px rgba(60, 64, 67, 0.3), 0px 1px 3px 1px rgba(60, 64, 67, 0.15);\n",
              "      fill: #174EA6;\n",
              "    }\n",
              "\n",
              "    [theme=dark] .colab-df-convert {\n",
              "      background-color: #3B4455;\n",
              "      fill: #D2E3FC;\n",
              "    }\n",
              "\n",
              "    [theme=dark] .colab-df-convert:hover {\n",
              "      background-color: #434B5C;\n",
              "      box-shadow: 0px 1px 3px 1px rgba(0, 0, 0, 0.15);\n",
              "      filter: drop-shadow(0px 1px 2px rgba(0, 0, 0, 0.3));\n",
              "      fill: #FFFFFF;\n",
              "    }\n",
              "  </style>\n",
              "\n",
              "      <script>\n",
              "        const buttonEl =\n",
              "          document.querySelector('#df-4fa6f643-7728-421c-8bd0-3fcc00bfc297 button.colab-df-convert');\n",
              "        buttonEl.style.display =\n",
              "          google.colab.kernel.accessAllowed ? 'block' : 'none';\n",
              "\n",
              "        async function convertToInteractive(key) {\n",
              "          const element = document.querySelector('#df-4fa6f643-7728-421c-8bd0-3fcc00bfc297');\n",
              "          const dataTable =\n",
              "            await google.colab.kernel.invokeFunction('convertToInteractive',\n",
              "                                                     [key], {});\n",
              "          if (!dataTable) return;\n",
              "\n",
              "          const docLinkHtml = 'Like what you see? Visit the ' +\n",
              "            '<a target=\"_blank\" href=https://colab.research.google.com/notebooks/data_table.ipynb>data table notebook</a>'\n",
              "            + ' to learn more about interactive tables.';\n",
              "          element.innerHTML = '';\n",
              "          dataTable['output_type'] = 'display_data';\n",
              "          await google.colab.output.renderOutput(dataTable, element);\n",
              "          const docLink = document.createElement('div');\n",
              "          docLink.innerHTML = docLinkHtml;\n",
              "          element.appendChild(docLink);\n",
              "        }\n",
              "      </script>\n",
              "    </div>\n",
              "  </div>\n",
              "  "
            ]
          },
          "metadata": {},
          "execution_count": 3
        }
      ],
      "source": [
        "#Lecture du fichier au format parquet\n",
        "import pyarrow.parquet as pq\n",
        "table = pq.read_table('yellow_tripdata_2023-03.parquet')\n",
        "df=table.to_pandas()\n",
        "df.head()"
      ]
    },
    {
      "cell_type": "code",
      "execution_count": null,
      "metadata": {
        "colab": {
          "base_uri": "https://localhost:8080/"
        },
        "id": "WOE5R12uyrg2",
        "outputId": "3709b4bf-39d3-433d-db11-21ad75763192"
      },
      "outputs": [
        {
          "output_type": "stream",
          "name": "stdout",
          "text": [
            "Nombre de lignes :  3403766\n",
            "Nombre de variables :  19\n"
          ]
        }
      ],
      "source": [
        "print(\"Nombre de lignes : \" , df.shape[0])\n",
        "print(\"Nombre de variables : \",df.shape[1])"
      ]
    },
    {
      "cell_type": "code",
      "execution_count": null,
      "metadata": {
        "colab": {
          "base_uri": "https://localhost:8080/"
        },
        "id": "It9GvL4XyrjE",
        "outputId": "60d7d07c-fd13-4b1f-a7db-5a2cfe7b55b2",
        "scrolled": true
      },
      "outputs": [
        {
          "output_type": "execute_result",
          "data": {
            "text/plain": [
              "Index(['VendorID', 'tpep_pickup_datetime', 'tpep_dropoff_datetime',\n",
              "       'passenger_count', 'trip_distance', 'RatecodeID', 'store_and_fwd_flag',\n",
              "       'PULocationID', 'DOLocationID', 'payment_type', 'fare_amount', 'extra',\n",
              "       'mta_tax', 'tip_amount', 'tolls_amount', 'improvement_surcharge',\n",
              "       'total_amount', 'congestion_surcharge', 'Airport_fee'],\n",
              "      dtype='object')"
            ]
          },
          "metadata": {},
          "execution_count": 12
        }
      ],
      "source": [
        "df.columns"
      ]
    },
    {
      "cell_type": "code",
      "execution_count": null,
      "metadata": {
        "id": "8XNvUCtO70Ms"
      },
      "outputs": [],
      "source": [
        "df = df.drop(['fare_amount','extra','mta_tax','tip_amount','tolls_amount','congestion_surcharge','Airport_fee','improvement_surcharge','RatecodeID','store_and_fwd_flag','VendorID'],axis=1)"
      ]
    },
    {
      "cell_type": "code",
      "execution_count": null,
      "metadata": {
        "colab": {
          "base_uri": "https://localhost:8080/"
        },
        "id": "jXQUgErV0Nbk",
        "outputId": "56a7e92f-b329-4569-db27-4f28ed9effb2",
        "scrolled": true
      },
      "outputs": [
        {
          "output_type": "stream",
          "name": "stdout",
          "text": [
            "Nombre de valeurs manquantes :\n",
            "\ttpep_pickup_datetime: 0\n",
            "\ttpep_dropoff_datetime: 0\n",
            "\tpassenger_count: 87619\n",
            "\ttrip_distance: 0\n",
            "\tPULocationID: 0\n",
            "\tDOLocationID: 0\n",
            "\tpayment_type: 0\n",
            "\ttotal_amount: 0\n"
          ]
        }
      ],
      "source": [
        "print('Nombre de valeurs manquantes :')\n",
        "for col in df.columns:\n",
        "    print('\\t%s: %d' % (col,df[col].isna().sum()))"
      ]
    },
    {
      "cell_type": "markdown",
      "metadata": {
        "id": "ImVYyOTl0Nbl"
      },
      "source": [
        "#### Il y a 87 619 lignes qui contiennent des valeurs manquantes dans la colonne passenger_count nous allons donc les supprimer vu qu'elles ne representent que 2,57% des données"
      ]
    },
    {
      "cell_type": "code",
      "execution_count": null,
      "metadata": {
        "colab": {
          "base_uri": "https://localhost:8080/"
        },
        "id": "ArJ0rIA40Nbl",
        "outputId": "96ce336d-3aa4-45cf-f054-121a19376c96"
      },
      "outputs": [
        {
          "output_type": "execute_result",
          "data": {
            "text/plain": [
              "(3316147, 8)"
            ]
          },
          "metadata": {},
          "execution_count": 5
        }
      ],
      "source": [
        "df.dropna(inplace=True)\n",
        "df.shape"
      ]
    },
    {
      "cell_type": "markdown",
      "metadata": {
        "id": "hYf4WY_r0Nbl"
      },
      "source": [
        "## Les valeurs aberrantes"
      ]
    },
    {
      "cell_type": "code",
      "execution_count": null,
      "metadata": {
        "colab": {
          "base_uri": "https://localhost:8080/"
        },
        "id": "58N6XUkF0Nbl",
        "outputId": "a28b19fe-f70b-4ec1-b975-4e055a818af4"
      },
      "outputs": [
        {
          "output_type": "execute_result",
          "data": {
            "text/plain": [
              "tpep_pickup_datetime     datetime64[ns]\n",
              "tpep_dropoff_datetime    datetime64[ns]\n",
              "passenger_count                 float64\n",
              "trip_distance                   float64\n",
              "PULocationID                      int32\n",
              "DOLocationID                      int32\n",
              "payment_type                      int64\n",
              "total_amount                    float64\n",
              "dtype: object"
            ]
          },
          "metadata": {},
          "execution_count": 16
        }
      ],
      "source": [
        "# Types du jeu de données\n",
        "df.dtypes"
      ]
    },
    {
      "cell_type": "code",
      "execution_count": null,
      "metadata": {
        "colab": {
          "base_uri": "https://localhost:8080/",
          "height": 587
        },
        "id": "gZ5SSDa70Nbm",
        "outputId": "24c21d4a-cf8a-4bf2-e97b-7d9e682513a4"
      },
      "outputs": [
        {
          "output_type": "execute_result",
          "data": {
            "text/plain": [
              "<Axes: >"
            ]
          },
          "metadata": {},
          "execution_count": 10
        },
        {
          "output_type": "display_data",
          "data": {
            "text/plain": [
              "<Figure size 2000x1000 with 1 Axes>"
            ],
            "image/png": "[encoded data removed]"
          },
          "metadata": {}
        }
      ],
      "source": [
        "# On va convertir certaines valeurs en numérique\n",
        "col = ['passenger_count','trip_distance','PULocationID','DOLocationID','payment_type','total_amount']\n",
        "df[col].boxplot(figsize=(20,10))"
      ]
    },
    {
      "cell_type": "markdown",
      "metadata": {
        "id": "df_TFwhA0Nbm"
      },
      "source": [
        "#### On constate qu'il y a des valeurs aberrantes pour trip distance et total_amount"
      ]
    },
    {
      "cell_type": "code",
      "execution_count": null,
      "metadata": {
        "colab": {
          "base_uri": "https://localhost:8080/",
          "height": 483
        },
        "id": "7KBxotkZA8NY",
        "outputId": "13de4297-c18a-4858-bb1f-2be14a6351bb"
      },
      "outputs": [
        {
          "output_type": "stream",
          "name": "stdout",
          "text": [
            "Prix maximum : 2100.0\n",
            "Prix minimum : -982.95\n"
          ]
        },
        {
          "output_type": "display_data",
          "data": {
            "text/plain": [
              "<Figure size 640x480 with 1 Axes>"
            ],
            "image/png": "[encoded data removed]"
          },
          "metadata": {}
        }
      ],
      "source": [
        "# 'total_amount'\n",
        "\n",
        "df['total_amount'].plot()\n",
        "#données aberrantes\n",
        "print('Prix maximum : '+str(df['total_amount'].max()))\n",
        "print('Prix minimum : '+str(df['total_amount'].min()))"
      ]
    },
    {
      "cell_type": "markdown",
      "metadata": {
        "id": "YkS4nfuq0Nbm"
      },
      "source": [
        "#### En visualisant total amount on constate qu'il y a des montants négatifs et des montants qui dépassent 2000. Nous allons commencer par supprimer les lignes sur lesquelles le montant est négatif"
      ]
    },
    {
      "cell_type": "markdown",
      "metadata": {
        "id": "dDAU_nTd0Nbn"
      },
      "source": [
        "#### D'aprés le site www.new-york.fr le tarif minimum d'un taxi est de 3 dollars, nous allons donc supprimer tout les tarifs < à cette valeurs"
      ]
    },
    {
      "cell_type": "code",
      "execution_count": null,
      "metadata": {
        "id": "y79oP8-1Crcj"
      },
      "outputs": [],
      "source": [
        "#Suppression des lignes avec prix inférieur à 0$ : seulement 0.9% du fichier\n",
        "df=df[df['total_amount']>=3]"
      ]
    },
    {
      "cell_type": "code",
      "execution_count": null,
      "metadata": {
        "colab": {
          "base_uri": "https://localhost:8080/",
          "height": 483
        },
        "id": "iZAHwpVx0Nbn",
        "outputId": "89e85b90-df1d-4af4-b5a2-eb0767093a3e"
      },
      "outputs": [
        {
          "output_type": "stream",
          "name": "stdout",
          "text": [
            "Prix maximum : 2100.0\n",
            "Prix minimum : 3.0\n"
          ]
        },
        {
          "output_type": "display_data",
          "data": {
            "text/plain": [
              "<Figure size 640x480 with 1 Axes>"
            ],
            "image/png": "[encoded data removed]"
          },
          "metadata": {}
        }
      ],
      "source": [
        "# 'total_amount'\n",
        "\n",
        "df['total_amount'].plot()\n",
        "#données aberrantes\n",
        "print('Prix maximum : '+str(df['total_amount'].max()))\n",
        "print('Prix minimum : '+str(df['total_amount'].min()))"
      ]
    },
    {
      "cell_type": "code",
      "execution_count": null,
      "metadata": {
        "colab": {
          "base_uri": "https://localhost:8080/",
          "height": 175
        },
        "id": "19lmzfq1A4Tz",
        "outputId": "99a5759c-bd01-4447-c910-d8c338e10f47"
      },
      "outputs": [
        {
          "output_type": "execute_result",
          "data": {
            "text/plain": [
              "        tpep_pickup_datetime tpep_dropoff_datetime  passenger_count  \\\n",
              "361044   2023-03-04 09:30:52   2023-03-04 09:42:20              1.0   \n",
              "539814   2023-03-05 21:55:13   2023-03-06 15:22:22              1.0   \n",
              "745928   2023-03-07 23:03:14   2023-03-08 02:10:29              1.0   \n",
              "1342230  2023-03-13 14:51:52   2023-03-13 14:51:52              0.0   \n",
              "\n",
              "         trip_distance  PULocationID  DOLocationID  payment_type  total_amount  \n",
              "361044            2.30           226            83             1       1000.00  \n",
              "539814           13.00           265             3             2        809.10  \n",
              "745928          144.96           132           265             4        982.95  \n",
              "1342230           0.00           264           264             1       2100.00  "
            ],
            "text/html": [
              "\n",
              "  <div id=\"df-ce0536b2-c06a-49fd-8c0e-9a1308c586dc\">\n",
              "    <div class=\"colab-df-container\">\n",
              "      <div>\n",
              "<style scoped>\n",
              "    .dataframe tbody tr th:only-of-type {\n",
              "        vertical-align: middle;\n",
              "    }\n",
              "\n",
              "    .dataframe tbody tr th {\n",
              "        vertical-align: top;\n",
              "    }\n",
              "\n",
              "    .dataframe thead th {\n",
              "        text-align: right;\n",
              "    }\n",
              "</style>\n",
              "<table border=\"1\" class=\"dataframe\">\n",
              "  <thead>\n",
              "    <tr style=\"text-align: right;\">\n",
              "      <th></th>\n",
              "      <th>tpep_pickup_datetime</th>\n",
              "      <th>tpep_dropoff_datetime</th>\n",
              "      <th>passenger_count</th>\n",
              "      <th>trip_distance</th>\n",
              "      <th>PULocationID</th>\n",
              "      <th>DOLocationID</th>\n",
              "      <th>payment_type</th>\n",
              "      <th>total_amount</th>\n",
              "    </tr>\n",
              "  </thead>\n",
              "  <tbody>\n",
              "    <tr>\n",
              "      <th>361044</th>\n",
              "      <td>2023-03-04 09:30:52</td>\n",
              "      <td>2023-03-04 09:42:20</td>\n",
              "      <td>1.0</td>\n",
              "      <td>2.30</td>\n",
              "      <td>226</td>\n",
              "      <td>83</td>\n",
              "      <td>1</td>\n",
              "      <td>1000.00</td>\n",
              "    </tr>\n",
              "    <tr>\n",
              "      <th>539814</th>\n",
              "      <td>2023-03-05 21:55:13</td>\n",
              "      <td>2023-03-06 15:22:22</td>\n",
              "      <td>1.0</td>\n",
              "      <td>13.00</td>\n",
              "      <td>265</td>\n",
              "      <td>3</td>\n",
              "      <td>2</td>\n",
              "      <td>809.10</td>\n",
              "    </tr>\n",
              "    <tr>\n",
              "      <th>745928</th>\n",
              "      <td>2023-03-07 23:03:14</td>\n",
              "      <td>2023-03-08 02:10:29</td>\n",
              "      <td>1.0</td>\n",
              "      <td>144.96</td>\n",
              "      <td>132</td>\n",
              "      <td>265</td>\n",
              "      <td>4</td>\n",
              "      <td>982.95</td>\n",
              "    </tr>\n",
              "    <tr>\n",
              "      <th>1342230</th>\n",
              "      <td>2023-03-13 14:51:52</td>\n",
              "      <td>2023-03-13 14:51:52</td>\n",
              "      <td>0.0</td>\n",
              "      <td>0.00</td>\n",
              "      <td>264</td>\n",
              "      <td>264</td>\n",
              "      <td>1</td>\n",
              "      <td>2100.00</td>\n",
              "    </tr>\n",
              "  </tbody>\n",
              "</table>\n",
              "</div>\n",
              "      <button class=\"colab-df-convert\" onclick=\"convertToInteractive('df-ce0536b2-c06a-49fd-8c0e-9a1308c586dc')\"\n",
              "              title=\"Convert this dataframe to an interactive table.\"\n",
              "              style=\"display:none;\">\n",
              "        \n",
              "  <svg xmlns=\"http://www.w3.org/2000/svg\" height=\"24px\"viewBox=\"0 0 24 24\"\n",
              "       width=\"24px\">\n",
              "    <path d=\"M0 0h24v24H0V0z\" fill=\"none\"/>\n",
              "    <path d=\"M18.56 5.44l.94 2.06.94-2.06 2.06-.94-2.06-.94-.94-2.06-.94 2.06-2.06.94zm-11 1L8.5 8.5l.94-2.06 2.06-.94-2.06-.94L8.5 2.5l-.94 2.06-2.06.94zm10 10l.94 2.06.94-2.06 2.06-.94-2.06-.94-.94-2.06-.94 2.06-2.06.94z\"/><path d=\"M17.41 7.96l-1.37-1.37c-.4-.4-.92-.59-1.43-.59-.52 0-1.04.2-1.43.59L10.3 9.45l-7.72 7.72c-.78.78-.78 2.05 0 2.83L4 21.41c.39.39.9.59 1.41.59.51 0 1.02-.2 1.41-.59l7.78-7.78 2.81-2.81c.8-.78.8-2.07 0-2.86zM5.41 20L4 18.59l7.72-7.72 1.47 1.35L5.41 20z\"/>\n",
              "  </svg>\n",
              "      </button>\n",
              "      \n",
              "  <style>\n",
              "    .colab-df-container {\n",
              "      display:flex;\n",
              "      flex-wrap:wrap;\n",
              "      gap: 12px;\n",
              "    }\n",
              "\n",
              "    .colab-df-convert {\n",
              "      background-color: #E8F0FE;\n",
              "      border: none;\n",
              "      border-radius: 50%;\n",
              "      cursor: pointer;\n",
              "      display: none;\n",
              "      fill: #1967D2;\n",
              "      height: 32px;\n",
              "      padding: 0 0 0 0;\n",
              "      width: 32px;\n",
              "    }\n",
              "\n",
              "    .colab-df-convert:hover {\n",
              "      background-color: #E2EBFA;\n",
              "      box-shadow: 0px 1px 2px rgba(60, 64, 67, 0.3), 0px 1px 3px 1px rgba(60, 64, 67, 0.15);\n",
              "      fill: #174EA6;\n",
              "    }\n",
              "\n",
              "    [theme=dark] .colab-df-convert {\n",
              "      background-color: #3B4455;\n",
              "      fill: #D2E3FC;\n",
              "    }\n",
              "\n",
              "    [theme=dark] .colab-df-convert:hover {\n",
              "      background-color: #434B5C;\n",
              "      box-shadow: 0px 1px 3px 1px rgba(0, 0, 0, 0.15);\n",
              "      filter: drop-shadow(0px 1px 2px rgba(0, 0, 0, 0.3));\n",
              "      fill: #FFFFFF;\n",
              "    }\n",
              "  </style>\n",
              "\n",
              "      <script>\n",
              "        const buttonEl =\n",
              "          document.querySelector('#df-ce0536b2-c06a-49fd-8c0e-9a1308c586dc button.colab-df-convert');\n",
              "        buttonEl.style.display =\n",
              "          google.colab.kernel.accessAllowed ? 'block' : 'none';\n",
              "\n",
              "        async function convertToInteractive(key) {\n",
              "          const element = document.querySelector('#df-ce0536b2-c06a-49fd-8c0e-9a1308c586dc');\n",
              "          const dataTable =\n",
              "            await google.colab.kernel.invokeFunction('convertToInteractive',\n",
              "                                                     [key], {});\n",
              "          if (!dataTable) return;\n",
              "\n",
              "          const docLinkHtml = 'Like what you see? Visit the ' +\n",
              "            '<a target=\"_blank\" href=https://colab.research.google.com/notebooks/data_table.ipynb>data table notebook</a>'\n",
              "            + ' to learn more about interactive tables.';\n",
              "          element.innerHTML = '';\n",
              "          dataTable['output_type'] = 'display_data';\n",
              "          await google.colab.output.renderOutput(dataTable, element);\n",
              "          const docLink = document.createElement('div');\n",
              "          docLink.innerHTML = docLinkHtml;\n",
              "          element.appendChild(docLink);\n",
              "        }\n",
              "      </script>\n",
              "    </div>\n",
              "  </div>\n",
              "  "
            ]
          },
          "metadata": {},
          "execution_count": 18
        }
      ],
      "source": [
        "df[df['total_amount']>=800]"
      ]
    },
    {
      "cell_type": "markdown",
      "metadata": {
        "id": "OByr74r30Nbn"
      },
      "source": [
        "#### Au vue de ce tableau ci dessus certaines données ayant des valeurs abbérantes au niveau du paiement sont correctes et d'autres non"
      ]
    },
    {
      "cell_type": "code",
      "execution_count": null,
      "metadata": {
        "colab": {
          "base_uri": "https://localhost:8080/",
          "height": 483
        },
        "id": "iSkZDNKl0Nbo",
        "outputId": "4bac2cce-d30f-4f04-ea39-ff202831a5c1"
      },
      "outputs": [
        {
          "output_type": "stream",
          "name": "stdout",
          "text": [
            "Prix maximum : 982.95\n",
            "Prix minimum : 3.0\n"
          ]
        },
        {
          "output_type": "display_data",
          "data": {
            "text/plain": [
              "<Figure size 640x480 with 1 Axes>"
            ],
            "image/png": "[encoded data removed]"
          },
          "metadata": {}
        }
      ],
      "source": [
        "df = df[df['total_amount'] < 1000]\n",
        "#On a supprimé 2 lignes : 1000 et 2100\n",
        "\n",
        "df['total_amount'].plot()\n",
        "#données aberrantes\n",
        "print('Prix maximum : '+str(df['total_amount'].max()))\n",
        "print('Prix minimum : '+str(df['total_amount'].min()))\n"
      ]
    },
    {
      "cell_type": "markdown",
      "metadata": {
        "id": "JiuSRSS70Nbo"
      },
      "source": [
        "#### Nous pouvons constater que la variable Trip distance contient des valeurs = 0 sachant que le total amount est > 0"
      ]
    },
    {
      "cell_type": "code",
      "execution_count": null,
      "metadata": {
        "id": "aVSpAB9c0Nbo"
      },
      "outputs": [],
      "source": [
        "df=df[df['trip_distance']>0]"
      ]
    },
    {
      "cell_type": "code",
      "execution_count": null,
      "metadata": {
        "colab": {
          "base_uri": "https://localhost:8080/",
          "height": 483
        },
        "id": "I5PA0Eb40Nbo",
        "outputId": "ca3281e7-4462-4658-dd79-de3b0f891ac1"
      },
      "outputs": [
        {
          "output_type": "stream",
          "name": "stdout",
          "text": [
            "distance maximum : 14257.91\n",
            "distance minimum : 0.01\n"
          ]
        },
        {
          "output_type": "display_data",
          "data": {
            "text/plain": [
              "<Figure size 640x480 with 1 Axes>"
            ],
            "image/png": "[encoded data removed]"
          },
          "metadata": {}
        }
      ],
      "source": [
        "# Trip_Distance\n",
        "\n",
        "df['trip_distance'].plot()\n",
        "#données aberrantes\n",
        "print('distance maximum : '+str(df['trip_distance'].max()))\n",
        "print('distance minimum : '+str(df['trip_distance'].min()))\n"
      ]
    },
    {
      "cell_type": "code",
      "execution_count": null,
      "metadata": {
        "colab": {
          "base_uri": "https://localhost:8080/",
          "height": 1000
        },
        "id": "fO-808IU0Nbo",
        "outputId": "063664a9-eb4c-44e4-9099-3ebab93715b4"
      },
      "outputs": [
        {
          "output_type": "execute_result",
          "data": {
            "text/plain": [
              "        tpep_pickup_datetime tpep_dropoff_datetime  passenger_count  \\\n",
              "165836   2023-03-02 15:45:34   2023-03-02 16:00:45              1.0   \n",
              "236005   2023-03-03 06:04:19   2023-03-03 06:19:43              1.0   \n",
              "262282   2023-03-03 12:01:53   2023-03-03 12:12:38              1.0   \n",
              "279590   2023-03-03 15:39:12   2023-03-03 16:00:02              1.0   \n",
              "752920   2023-03-08 06:41:30   2023-03-08 07:24:04              1.0   \n",
              "753670   2023-03-08 06:33:33   2023-03-08 07:03:31              1.0   \n",
              "806684   2023-03-08 15:49:52   2023-03-08 16:00:20              1.0   \n",
              "817410   2023-03-08 17:33:44   2023-03-08 18:01:40              1.0   \n",
              "1070240  2023-03-10 19:12:22   2023-03-10 19:18:55              1.0   \n",
              "1073514  2023-03-10 19:48:23   2023-03-10 20:02:28              1.0   \n",
              "1483409  2023-03-14 19:43:22   2023-03-14 20:10:15              1.0   \n",
              "1563282  2023-03-15 15:46:09   2023-03-15 16:03:11              1.0   \n",
              "1698476  2023-03-16 18:30:52   2023-03-16 19:32:04              1.0   \n",
              "1783520  2023-03-17 14:35:36   2023-03-17 16:06:27              1.0   \n",
              "1822448  2023-03-17 19:50:15   2023-03-17 20:00:51              1.0   \n",
              "1824681  2023-03-17 19:47:07   2023-03-17 20:22:06              1.0   \n",
              "2234070  2023-03-21 19:38:54   2023-03-21 20:11:14              1.0   \n",
              "2520445  2023-03-24 15:49:49   2023-03-24 16:01:32              1.0   \n",
              "2525189  2023-03-24 15:53:50   2023-03-24 16:02:49              1.0   \n",
              "2526257  2023-03-24 15:49:24   2023-03-24 16:03:50              1.0   \n",
              "2551921  2023-03-24 19:56:47   2023-03-24 20:01:11              1.0   \n",
              "2564450  2023-03-24 21:16:32   2023-03-24 21:23:42              1.0   \n",
              "2797851  2023-03-27 09:57:18   2023-03-27 10:11:48              1.0   \n",
              "2855999  2023-03-27 19:52:48   2023-03-27 20:03:22              2.0   \n",
              "3028576  2023-03-29 15:41:55   2023-03-29 16:05:34              1.0   \n",
              "3122659  2023-03-30 12:29:50   2023-03-30 13:10:26              1.0   \n",
              "3167790  2023-03-30 18:28:12   2023-03-30 18:42:13              1.0   \n",
              "3207753  2023-03-31 01:02:34   2023-03-31 01:25:16              1.0   \n",
              "3260063  2023-03-31 16:50:59   2023-03-31 16:53:11              2.0   \n",
              "\n",
              "         trip_distance  PULocationID  DOLocationID  payment_type  total_amount  \n",
              "165836         9674.01           161            68             1         20.20  \n",
              "236005        13032.40            75           142             1         18.76  \n",
              "262282         7571.55           162           163             1         18.48  \n",
              "279590         9676.40            87           112             1         33.60  \n",
              "752920        10011.29           132            61             1         66.29  \n",
              "753670        14257.91            82            75             1         35.17  \n",
              "806684         9675.23           138           260             1         24.65  \n",
              "817410         2335.96           161           255             1         46.63  \n",
              "1070240       10961.43           140           263             2         15.10  \n",
              "1073514        9673.99           161           229             1         23.16  \n",
              "1483409        9678.48           138           162             1         76.00  \n",
              "1563282        9674.62           246           161             1         22.20  \n",
              "1698476        9681.04           264            89             1         87.50  \n",
              "1783520        9672.96           186           263             1         69.34  \n",
              "1822448        9673.71            48           161             1         20.64  \n",
              "1824681        9679.21            70           142             1         63.65  \n",
              "2234070        9683.28           132           217             1         73.55  \n",
              "2520445        9673.79           170            90             1         19.32  \n",
              "2525189        9673.59           233           170             1         15.96  \n",
              "2526257        9673.76           162           230             1         21.00  \n",
              "2551921        9673.52           263           236             1         15.60  \n",
              "2564450        9771.65            79           137             2         14.30  \n",
              "2797851        1005.90           236           170             1         24.36  \n",
              "2855999        9673.48           230           163             1         20.64  \n",
              "3028576        9677.44           166           186             2         34.30  \n",
              "3122659         290.59            68           262             1         46.20  \n",
              "3167790        9672.96           161           161             1         23.16  \n",
              "3207753        5006.88           161            88             2         36.00  \n",
              "3260063        9673.06           236           236             3         10.90  "
            ],
            "text/html": [
              "\n",
              "  <div id=\"df-08f03475-1581-4a9d-b530-29269ed8fc89\">\n",
              "    <div class=\"colab-df-container\">\n",
              "      <div>\n",
              "<style scoped>\n",
              "    .dataframe tbody tr th:only-of-type {\n",
              "        vertical-align: middle;\n",
              "    }\n",
              "\n",
              "    .dataframe tbody tr th {\n",
              "        vertical-align: top;\n",
              "    }\n",
              "\n",
              "    .dataframe thead th {\n",
              "        text-align: right;\n",
              "    }\n",
              "</style>\n",
              "<table border=\"1\" class=\"dataframe\">\n",
              "  <thead>\n",
              "    <tr style=\"text-align: right;\">\n",
              "      <th></th>\n",
              "      <th>tpep_pickup_datetime</th>\n",
              "      <th>tpep_dropoff_datetime</th>\n",
              "      <th>passenger_count</th>\n",
              "      <th>trip_distance</th>\n",
              "      <th>PULocationID</th>\n",
              "      <th>DOLocationID</th>\n",
              "      <th>payment_type</th>\n",
              "      <th>total_amount</th>\n",
              "    </tr>\n",
              "  </thead>\n",
              "  <tbody>\n",
              "    <tr>\n",
              "      <th>165836</th>\n",
              "      <td>2023-03-02 15:45:34</td>\n",
              "      <td>2023-03-02 16:00:45</td>\n",
              "      <td>1.0</td>\n",
              "      <td>9674.01</td>\n",
              "      <td>161</td>\n",
              "      <td>68</td>\n",
              "      <td>1</td>\n",
              "      <td>20.20</td>\n",
              "    </tr>\n",
              "    <tr>\n",
              "      <th>236005</th>\n",
              "      <td>2023-03-03 06:04:19</td>\n",
              "      <td>2023-03-03 06:19:43</td>\n",
              "      <td>1.0</td>\n",
              "      <td>13032.40</td>\n",
              "      <td>75</td>\n",
              "      <td>142</td>\n",
              "      <td>1</td>\n",
              "      <td>18.76</td>\n",
              "    </tr>\n",
              "    <tr>\n",
              "      <th>262282</th>\n",
              "      <td>2023-03-03 12:01:53</td>\n",
              "      <td>2023-03-03 12:12:38</td>\n",
              "      <td>1.0</td>\n",
              "      <td>7571.55</td>\n",
              "      <td>162</td>\n",
              "      <td>163</td>\n",
              "      <td>1</td>\n",
              "      <td>18.48</td>\n",
              "    </tr>\n",
              "    <tr>\n",
              "      <th>279590</th>\n",
              "      <td>2023-03-03 15:39:12</td>\n",
              "      <td>2023-03-03 16:00:02</td>\n",
              "      <td>1.0</td>\n",
              "      <td>9676.40</td>\n",
              "      <td>87</td>\n",
              "      <td>112</td>\n",
              "      <td>1</td>\n",
              "      <td>33.60</td>\n",
              "    </tr>\n",
              "    <tr>\n",
              "      <th>752920</th>\n",
              "      <td>2023-03-08 06:41:30</td>\n",
              "      <td>2023-03-08 07:24:04</td>\n",
              "      <td>1.0</td>\n",
              "      <td>10011.29</td>\n",
              "      <td>132</td>\n",
              "      <td>61</td>\n",
              "      <td>1</td>\n",
              "      <td>66.29</td>\n",
              "    </tr>\n",
              "    <tr>\n",
              "      <th>753670</th>\n",
              "      <td>2023-03-08 06:33:33</td>\n",
              "      <td>2023-03-08 07:03:31</td>\n",
              "      <td>1.0</td>\n",
              "      <td>14257.91</td>\n",
              "      <td>82</td>\n",
              "      <td>75</td>\n",
              "      <td>1</td>\n",
              "      <td>35.17</td>\n",
              "    </tr>\n",
              "    <tr>\n",
              "      <th>806684</th>\n",
              "      <td>2023-03-08 15:49:52</td>\n",
              "      <td>2023-03-08 16:00:20</td>\n",
              "      <td>1.0</td>\n",
              "      <td>9675.23</td>\n",
              "      <td>138</td>\n",
              "      <td>260</td>\n",
              "      <td>1</td>\n",
              "      <td>24.65</td>\n",
              "    </tr>\n",
              "    <tr>\n",
              "      <th>817410</th>\n",
              "      <td>2023-03-08 17:33:44</td>\n",
              "      <td>2023-03-08 18:01:40</td>\n",
              "      <td>1.0</td>\n",
              "      <td>2335.96</td>\n",
              "      <td>161</td>\n",
              "      <td>255</td>\n",
              "      <td>1</td>\n",
              "      <td>46.63</td>\n",
              "    </tr>\n",
              "    <tr>\n",
              "      <th>1070240</th>\n",
              "      <td>2023-03-10 19:12:22</td>\n",
              "      <td>2023-03-10 19:18:55</td>\n",
              "      <td>1.0</td>\n",
              "      <td>10961.43</td>\n",
              "      <td>140</td>\n",
              "      <td>263</td>\n",
              "      <td>2</td>\n",
              "      <td>15.10</td>\n",
              "    </tr>\n",
              "    <tr>\n",
              "      <th>1073514</th>\n",
              "      <td>2023-03-10 19:48:23</td>\n",
              "      <td>2023-03-10 20:02:28</td>\n",
              "      <td>1.0</td>\n",
              "      <td>9673.99</td>\n",
              "      <td>161</td>\n",
              "      <td>229</td>\n",
              "      <td>1</td>\n",
              "      <td>23.16</td>\n",
              "    </tr>\n",
              "    <tr>\n",
              "      <th>1483409</th>\n",
              "      <td>2023-03-14 19:43:22</td>\n",
              "      <td>2023-03-14 20:10:15</td>\n",
              "      <td>1.0</td>\n",
              "      <td>9678.48</td>\n",
              "      <td>138</td>\n",
              "      <td>162</td>\n",
              "      <td>1</td>\n",
              "      <td>76.00</td>\n",
              "    </tr>\n",
              "    <tr>\n",
              "      <th>1563282</th>\n",
              "      <td>2023-03-15 15:46:09</td>\n",
              "      <td>2023-03-15 16:03:11</td>\n",
              "      <td>1.0</td>\n",
              "      <td>9674.62</td>\n",
              "      <td>246</td>\n",
              "      <td>161</td>\n",
              "      <td>1</td>\n",
              "      <td>22.20</td>\n",
              "    </tr>\n",
              "    <tr>\n",
              "      <th>1698476</th>\n",
              "      <td>2023-03-16 18:30:52</td>\n",
              "      <td>2023-03-16 19:32:04</td>\n",
              "      <td>1.0</td>\n",
              "      <td>9681.04</td>\n",
              "      <td>264</td>\n",
              "      <td>89</td>\n",
              "      <td>1</td>\n",
              "      <td>87.50</td>\n",
              "    </tr>\n",
              "    <tr>\n",
              "      <th>1783520</th>\n",
              "      <td>2023-03-17 14:35:36</td>\n",
              "      <td>2023-03-17 16:06:27</td>\n",
              "      <td>1.0</td>\n",
              "      <td>9672.96</td>\n",
              "      <td>186</td>\n",
              "      <td>263</td>\n",
              "      <td>1</td>\n",
              "      <td>69.34</td>\n",
              "    </tr>\n",
              "    <tr>\n",
              "      <th>1822448</th>\n",
              "      <td>2023-03-17 19:50:15</td>\n",
              "      <td>2023-03-17 20:00:51</td>\n",
              "      <td>1.0</td>\n",
              "      <td>9673.71</td>\n",
              "      <td>48</td>\n",
              "      <td>161</td>\n",
              "      <td>1</td>\n",
              "      <td>20.64</td>\n",
              "    </tr>\n",
              "    <tr>\n",
              "      <th>1824681</th>\n",
              "      <td>2023-03-17 19:47:07</td>\n",
              "      <td>2023-03-17 20:22:06</td>\n",
              "      <td>1.0</td>\n",
              "      <td>9679.21</td>\n",
              "      <td>70</td>\n",
              "      <td>142</td>\n",
              "      <td>1</td>\n",
              "      <td>63.65</td>\n",
              "    </tr>\n",
              "    <tr>\n",
              "      <th>2234070</th>\n",
              "      <td>2023-03-21 19:38:54</td>\n",
              "      <td>2023-03-21 20:11:14</td>\n",
              "      <td>1.0</td>\n",
              "      <td>9683.28</td>\n",
              "      <td>132</td>\n",
              "      <td>217</td>\n",
              "      <td>1</td>\n",
              "      <td>73.55</td>\n",
              "    </tr>\n",
              "    <tr>\n",
              "      <th>2520445</th>\n",
              "      <td>2023-03-24 15:49:49</td>\n",
              "      <td>2023-03-24 16:01:32</td>\n",
              "      <td>1.0</td>\n",
              "      <td>9673.79</td>\n",
              "      <td>170</td>\n",
              "      <td>90</td>\n",
              "      <td>1</td>\n",
              "      <td>19.32</td>\n",
              "    </tr>\n",
              "    <tr>\n",
              "      <th>2525189</th>\n",
              "      <td>2023-03-24 15:53:50</td>\n",
              "      <td>2023-03-24 16:02:49</td>\n",
              "      <td>1.0</td>\n",
              "      <td>9673.59</td>\n",
              "      <td>233</td>\n",
              "      <td>170</td>\n",
              "      <td>1</td>\n",
              "      <td>15.96</td>\n",
              "    </tr>\n",
              "    <tr>\n",
              "      <th>2526257</th>\n",
              "      <td>2023-03-24 15:49:24</td>\n",
              "      <td>2023-03-24 16:03:50</td>\n",
              "      <td>1.0</td>\n",
              "      <td>9673.76</td>\n",
              "      <td>162</td>\n",
              "      <td>230</td>\n",
              "      <td>1</td>\n",
              "      <td>21.00</td>\n",
              "    </tr>\n",
              "    <tr>\n",
              "      <th>2551921</th>\n",
              "      <td>2023-03-24 19:56:47</td>\n",
              "      <td>2023-03-24 20:01:11</td>\n",
              "      <td>1.0</td>\n",
              "      <td>9673.52</td>\n",
              "      <td>263</td>\n",
              "      <td>236</td>\n",
              "      <td>1</td>\n",
              "      <td>15.60</td>\n",
              "    </tr>\n",
              "    <tr>\n",
              "      <th>2564450</th>\n",
              "      <td>2023-03-24 21:16:32</td>\n",
              "      <td>2023-03-24 21:23:42</td>\n",
              "      <td>1.0</td>\n",
              "      <td>9771.65</td>\n",
              "      <td>79</td>\n",
              "      <td>137</td>\n",
              "      <td>2</td>\n",
              "      <td>14.30</td>\n",
              "    </tr>\n",
              "    <tr>\n",
              "      <th>2797851</th>\n",
              "      <td>2023-03-27 09:57:18</td>\n",
              "      <td>2023-03-27 10:11:48</td>\n",
              "      <td>1.0</td>\n",
              "      <td>1005.90</td>\n",
              "      <td>236</td>\n",
              "      <td>170</td>\n",
              "      <td>1</td>\n",
              "      <td>24.36</td>\n",
              "    </tr>\n",
              "    <tr>\n",
              "      <th>2855999</th>\n",
              "      <td>2023-03-27 19:52:48</td>\n",
              "      <td>2023-03-27 20:03:22</td>\n",
              "      <td>2.0</td>\n",
              "      <td>9673.48</td>\n",
              "      <td>230</td>\n",
              "      <td>163</td>\n",
              "      <td>1</td>\n",
              "      <td>20.64</td>\n",
              "    </tr>\n",
              "    <tr>\n",
              "      <th>3028576</th>\n",
              "      <td>2023-03-29 15:41:55</td>\n",
              "      <td>2023-03-29 16:05:34</td>\n",
              "      <td>1.0</td>\n",
              "      <td>9677.44</td>\n",
              "      <td>166</td>\n",
              "      <td>186</td>\n",
              "      <td>2</td>\n",
              "      <td>34.30</td>\n",
              "    </tr>\n",
              "    <tr>\n",
              "      <th>3122659</th>\n",
              "      <td>2023-03-30 12:29:50</td>\n",
              "      <td>2023-03-30 13:10:26</td>\n",
              "      <td>1.0</td>\n",
              "      <td>290.59</td>\n",
              "      <td>68</td>\n",
              "      <td>262</td>\n",
              "      <td>1</td>\n",
              "      <td>46.20</td>\n",
              "    </tr>\n",
              "    <tr>\n",
              "      <th>3167790</th>\n",
              "      <td>2023-03-30 18:28:12</td>\n",
              "      <td>2023-03-30 18:42:13</td>\n",
              "      <td>1.0</td>\n",
              "      <td>9672.96</td>\n",
              "      <td>161</td>\n",
              "      <td>161</td>\n",
              "      <td>1</td>\n",
              "      <td>23.16</td>\n",
              "    </tr>\n",
              "    <tr>\n",
              "      <th>3207753</th>\n",
              "      <td>2023-03-31 01:02:34</td>\n",
              "      <td>2023-03-31 01:25:16</td>\n",
              "      <td>1.0</td>\n",
              "      <td>5006.88</td>\n",
              "      <td>161</td>\n",
              "      <td>88</td>\n",
              "      <td>2</td>\n",
              "      <td>36.00</td>\n",
              "    </tr>\n",
              "    <tr>\n",
              "      <th>3260063</th>\n",
              "      <td>2023-03-31 16:50:59</td>\n",
              "      <td>2023-03-31 16:53:11</td>\n",
              "      <td>2.0</td>\n",
              "      <td>9673.06</td>\n",
              "      <td>236</td>\n",
              "      <td>236</td>\n",
              "      <td>3</td>\n",
              "      <td>10.90</td>\n",
              "    </tr>\n",
              "  </tbody>\n",
              "</table>\n",
              "</div>\n",
              "      <button class=\"colab-df-convert\" onclick=\"convertToInteractive('df-08f03475-1581-4a9d-b530-29269ed8fc89')\"\n",
              "              title=\"Convert this dataframe to an interactive table.\"\n",
              "              style=\"display:none;\">\n",
              "        \n",
              "  <svg xmlns=\"http://www.w3.org/2000/svg\" height=\"24px\"viewBox=\"0 0 24 24\"\n",
              "       width=\"24px\">\n",
              "    <path d=\"M0 0h24v24H0V0z\" fill=\"none\"/>\n",
              "    <path d=\"M18.56 5.44l.94 2.06.94-2.06 2.06-.94-2.06-.94-.94-2.06-.94 2.06-2.06.94zm-11 1L8.5 8.5l.94-2.06 2.06-.94-2.06-.94L8.5 2.5l-.94 2.06-2.06.94zm10 10l.94 2.06.94-2.06 2.06-.94-2.06-.94-.94-2.06-.94 2.06-2.06.94z\"/><path d=\"M17.41 7.96l-1.37-1.37c-.4-.4-.92-.59-1.43-.59-.52 0-1.04.2-1.43.59L10.3 9.45l-7.72 7.72c-.78.78-.78 2.05 0 2.83L4 21.41c.39.39.9.59 1.41.59.51 0 1.02-.2 1.41-.59l7.78-7.78 2.81-2.81c.8-.78.8-2.07 0-2.86zM5.41 20L4 18.59l7.72-7.72 1.47 1.35L5.41 20z\"/>\n",
              "  </svg>\n",
              "      </button>\n",
              "      \n",
              "  <style>\n",
              "    .colab-df-container {\n",
              "      display:flex;\n",
              "      flex-wrap:wrap;\n",
              "      gap: 12px;\n",
              "    }\n",
              "\n",
              "    .colab-df-convert {\n",
              "      background-color: #E8F0FE;\n",
              "      border: none;\n",
              "      border-radius: 50%;\n",
              "      cursor: pointer;\n",
              "      display: none;\n",
              "      fill: #1967D2;\n",
              "      height: 32px;\n",
              "      padding: 0 0 0 0;\n",
              "      width: 32px;\n",
              "    }\n",
              "\n",
              "    .colab-df-convert:hover {\n",
              "      background-color: #E2EBFA;\n",
              "      box-shadow: 0px 1px 2px rgba(60, 64, 67, 0.3), 0px 1px 3px 1px rgba(60, 64, 67, 0.15);\n",
              "      fill: #174EA6;\n",
              "    }\n",
              "\n",
              "    [theme=dark] .colab-df-convert {\n",
              "      background-color: #3B4455;\n",
              "      fill: #D2E3FC;\n",
              "    }\n",
              "\n",
              "    [theme=dark] .colab-df-convert:hover {\n",
              "      background-color: #434B5C;\n",
              "      box-shadow: 0px 1px 3px 1px rgba(0, 0, 0, 0.15);\n",
              "      filter: drop-shadow(0px 1px 2px rgba(0, 0, 0, 0.3));\n",
              "      fill: #FFFFFF;\n",
              "    }\n",
              "  </style>\n",
              "\n",
              "      <script>\n",
              "        const buttonEl =\n",
              "          document.querySelector('#df-08f03475-1581-4a9d-b530-29269ed8fc89 button.colab-df-convert');\n",
              "        buttonEl.style.display =\n",
              "          google.colab.kernel.accessAllowed ? 'block' : 'none';\n",
              "\n",
              "        async function convertToInteractive(key) {\n",
              "          const element = document.querySelector('#df-08f03475-1581-4a9d-b530-29269ed8fc89');\n",
              "          const dataTable =\n",
              "            await google.colab.kernel.invokeFunction('convertToInteractive',\n",
              "                                                     [key], {});\n",
              "          if (!dataTable) return;\n",
              "\n",
              "          const docLinkHtml = 'Like what you see? Visit the ' +\n",
              "            '<a target=\"_blank\" href=https://colab.research.google.com/notebooks/data_table.ipynb>data table notebook</a>'\n",
              "            + ' to learn more about interactive tables.';\n",
              "          element.innerHTML = '';\n",
              "          dataTable['output_type'] = 'display_data';\n",
              "          await google.colab.output.renderOutput(dataTable, element);\n",
              "          const docLink = document.createElement('div');\n",
              "          docLink.innerHTML = docLinkHtml;\n",
              "          element.appendChild(docLink);\n",
              "        }\n",
              "      </script>\n",
              "    </div>\n",
              "  </div>\n",
              "  "
            ]
          },
          "metadata": {},
          "execution_count": 18
        }
      ],
      "source": [
        "df[df['trip_distance']>240]"
      ]
    },
    {
      "cell_type": "markdown",
      "metadata": {
        "id": "5qw4P0gn0Nbp"
      },
      "source": [
        "#### En général un taxi roule entre 120 et 240 Km par jour\n",
        "#### Nous allons dans un premier temps supprimer tous les trajets supérieurs à 240 km et inférieur à 0,32 km (le minimum)"
      ]
    },
    {
      "cell_type": "code",
      "execution_count": null,
      "metadata": {
        "id": "5oaBqERGCLB6"
      },
      "outputs": [],
      "source": [
        "df= df[df['trip_distance']<240]"
      ]
    },
    {
      "cell_type": "code",
      "execution_count": null,
      "metadata": {
        "id": "U8UGgPNS0Nbp"
      },
      "outputs": [],
      "source": [
        "df= df[df['trip_distance']>0.32]"
      ]
    },
    {
      "cell_type": "code",
      "execution_count": null,
      "metadata": {
        "colab": {
          "base_uri": "https://localhost:8080/",
          "height": 483
        },
        "id": "JonH-dte0Nbp",
        "outputId": "70ef9366-d3f5-4cca-8fa7-43512e0132d8"
      },
      "outputs": [
        {
          "output_type": "stream",
          "name": "stdout",
          "text": [
            "distance maximum : 198.07\n",
            "distance minimum : 0.33\n"
          ]
        },
        {
          "output_type": "display_data",
          "data": {
            "text/plain": [
              "<Figure size 640x480 with 1 Axes>"
            ],
            "image/png": "[encoded data removed]"
          },
          "metadata": {}
        }
      ],
      "source": [
        "# Trip_Distance\n",
        "\n",
        "df['trip_distance'].plot()\n",
        "#données aberrantes\n",
        "print('distance maximum : '+str(df['trip_distance'].max()))\n",
        "print('distance minimum : '+str(df['trip_distance'].min()))"
      ]
    },
    {
      "cell_type": "code",
      "execution_count": null,
      "metadata": {
        "colab": {
          "base_uri": "https://localhost:8080/"
        },
        "id": "ZMULbta2BpbC",
        "outputId": "b43d83dd-a3f8-49d8-ab1b-7e255526746b"
      },
      "outputs": [
        {
          "output_type": "execute_result",
          "data": {
            "text/plain": [
              "(3207236, 8)"
            ]
          },
          "metadata": {},
          "execution_count": 22
        }
      ],
      "source": [
        "# Dimmension\n",
        "df.shape"
      ]
    },
    {
      "cell_type": "code",
      "execution_count": null,
      "metadata": {
        "colab": {
          "base_uri": "https://localhost:8080/",
          "height": 465
        },
        "id": "5hJt65XIB1A7",
        "outputId": "7d3e01ca-3ca0-4394-827a-e5ef5294fa70"
      },
      "outputs": [
        {
          "output_type": "execute_result",
          "data": {
            "text/plain": [
              "<Axes: >"
            ]
          },
          "metadata": {},
          "execution_count": 23
        },
        {
          "output_type": "display_data",
          "data": {
            "text/plain": [
              "<Figure size 640x480 with 1 Axes>"
            ],
            "image/png": "[encoded data removed]"
          },
          "metadata": {}
        }
      ],
      "source": [
        "df['total_amount'].plot()"
      ]
    },
    {
      "cell_type": "markdown",
      "source": [
        "Création de la variable \"durée\""
      ],
      "metadata": {
        "id": "QnW0UdrjAzKm"
      }
    },
    {
      "cell_type": "code",
      "execution_count": null,
      "metadata": {
        "colab": {
          "base_uri": "https://localhost:8080/",
          "height": 206
        },
        "id": "VkxCfRRYF9eT",
        "outputId": "86f90f62-3e05-4210-d1d9-f13dc5ca175e"
      },
      "outputs": [
        {
          "output_type": "execute_result",
          "data": {
            "text/plain": [
              "  tpep_pickup_datetime tpep_dropoff_datetime  passenger_count  trip_distance  \\\n",
              "1  2023-03-01 00:08:25   2023-03-01 00:39:30              2.0          12.40   \n",
              "2  2023-03-01 00:15:04   2023-03-01 00:29:26              0.0           3.30   \n",
              "3  2023-03-01 00:49:37   2023-03-01 01:01:05              1.0           2.90   \n",
              "4  2023-03-01 00:08:04   2023-03-01 00:11:06              1.0           1.23   \n",
              "5  2023-03-01 00:09:09   2023-03-01 00:17:34              1.0           1.20   \n",
              "\n",
              "   PULocationID  DOLocationID  payment_type  total_amount           durée  \n",
              "1           138           231             1         76.49 0 days 00:31:05  \n",
              "2           140           186             1         28.05 0 days 00:14:22  \n",
              "3           140            43             1         24.70 0 days 00:11:28  \n",
              "4            79           137             1         14.64 0 days 00:03:02  \n",
              "5           162           137             1         18.00 0 days 00:08:25  "
            ],
            "text/html": [
              "\n",
              "  <div id=\"df-01670813-b198-487b-a6ff-e63c24d5655b\">\n",
              "    <div class=\"colab-df-container\">\n",
              "      <div>\n",
              "<style scoped>\n",
              "    .dataframe tbody tr th:only-of-type {\n",
              "        vertical-align: middle;\n",
              "    }\n",
              "\n",
              "    .dataframe tbody tr th {\n",
              "        vertical-align: top;\n",
              "    }\n",
              "\n",
              "    .dataframe thead th {\n",
              "        text-align: right;\n",
              "    }\n",
              "</style>\n",
              "<table border=\"1\" class=\"dataframe\">\n",
              "  <thead>\n",
              "    <tr style=\"text-align: right;\">\n",
              "      <th></th>\n",
              "      <th>tpep_pickup_datetime</th>\n",
              "      <th>tpep_dropoff_datetime</th>\n",
              "      <th>passenger_count</th>\n",
              "      <th>trip_distance</th>\n",
              "      <th>PULocationID</th>\n",
              "      <th>DOLocationID</th>\n",
              "      <th>payment_type</th>\n",
              "      <th>total_amount</th>\n",
              "      <th>durée</th>\n",
              "    </tr>\n",
              "  </thead>\n",
              "  <tbody>\n",
              "    <tr>\n",
              "      <th>1</th>\n",
              "      <td>2023-03-01 00:08:25</td>\n",
              "      <td>2023-03-01 00:39:30</td>\n",
              "      <td>2.0</td>\n",
              "      <td>12.40</td>\n",
              "      <td>138</td>\n",
              "      <td>231</td>\n",
              "      <td>1</td>\n",
              "      <td>76.49</td>\n",
              "      <td>0 days 00:31:05</td>\n",
              "    </tr>\n",
              "    <tr>\n",
              "      <th>2</th>\n",
              "      <td>2023-03-01 00:15:04</td>\n",
              "      <td>2023-03-01 00:29:26</td>\n",
              "      <td>0.0</td>\n",
              "      <td>3.30</td>\n",
              "      <td>140</td>\n",
              "      <td>186</td>\n",
              "      <td>1</td>\n",
              "      <td>28.05</td>\n",
              "      <td>0 days 00:14:22</td>\n",
              "    </tr>\n",
              "    <tr>\n",
              "      <th>3</th>\n",
              "      <td>2023-03-01 00:49:37</td>\n",
              "      <td>2023-03-01 01:01:05</td>\n",
              "      <td>1.0</td>\n",
              "      <td>2.90</td>\n",
              "      <td>140</td>\n",
              "      <td>43</td>\n",
              "      <td>1</td>\n",
              "      <td>24.70</td>\n",
              "      <td>0 days 00:11:28</td>\n",
              "    </tr>\n",
              "    <tr>\n",
              "      <th>4</th>\n",
              "      <td>2023-03-01 00:08:04</td>\n",
              "      <td>2023-03-01 00:11:06</td>\n",
              "      <td>1.0</td>\n",
              "      <td>1.23</td>\n",
              "      <td>79</td>\n",
              "      <td>137</td>\n",
              "      <td>1</td>\n",
              "      <td>14.64</td>\n",
              "      <td>0 days 00:03:02</td>\n",
              "    </tr>\n",
              "    <tr>\n",
              "      <th>5</th>\n",
              "      <td>2023-03-01 00:09:09</td>\n",
              "      <td>2023-03-01 00:17:34</td>\n",
              "      <td>1.0</td>\n",
              "      <td>1.20</td>\n",
              "      <td>162</td>\n",
              "      <td>137</td>\n",
              "      <td>1</td>\n",
              "      <td>18.00</td>\n",
              "      <td>0 days 00:08:25</td>\n",
              "    </tr>\n",
              "  </tbody>\n",
              "</table>\n",
              "</div>\n",
              "      <button class=\"colab-df-convert\" onclick=\"convertToInteractive('df-01670813-b198-487b-a6ff-e63c24d5655b')\"\n",
              "              title=\"Convert this dataframe to an interactive table.\"\n",
              "              style=\"display:none;\">\n",
              "        \n",
              "  <svg xmlns=\"http://www.w3.org/2000/svg\" height=\"24px\"viewBox=\"0 0 24 24\"\n",
              "       width=\"24px\">\n",
              "    <path d=\"M0 0h24v24H0V0z\" fill=\"none\"/>\n",
              "    <path d=\"M18.56 5.44l.94 2.06.94-2.06 2.06-.94-2.06-.94-.94-2.06-.94 2.06-2.06.94zm-11 1L8.5 8.5l.94-2.06 2.06-.94-2.06-.94L8.5 2.5l-.94 2.06-2.06.94zm10 10l.94 2.06.94-2.06 2.06-.94-2.06-.94-.94-2.06-.94 2.06-2.06.94z\"/><path d=\"M17.41 7.96l-1.37-1.37c-.4-.4-.92-.59-1.43-.59-.52 0-1.04.2-1.43.59L10.3 9.45l-7.72 7.72c-.78.78-.78 2.05 0 2.83L4 21.41c.39.39.9.59 1.41.59.51 0 1.02-.2 1.41-.59l7.78-7.78 2.81-2.81c.8-.78.8-2.07 0-2.86zM5.41 20L4 18.59l7.72-7.72 1.47 1.35L5.41 20z\"/>\n",
              "  </svg>\n",
              "      </button>\n",
              "      \n",
              "  <style>\n",
              "    .colab-df-container {\n",
              "      display:flex;\n",
              "      flex-wrap:wrap;\n",
              "      gap: 12px;\n",
              "    }\n",
              "\n",
              "    .colab-df-convert {\n",
              "      background-color: #E8F0FE;\n",
              "      border: none;\n",
              "      border-radius: 50%;\n",
              "      cursor: pointer;\n",
              "      display: none;\n",
              "      fill: #1967D2;\n",
              "      height: 32px;\n",
              "      padding: 0 0 0 0;\n",
              "      width: 32px;\n",
              "    }\n",
              "\n",
              "    .colab-df-convert:hover {\n",
              "      background-color: #E2EBFA;\n",
              "      box-shadow: 0px 1px 2px rgba(60, 64, 67, 0.3), 0px 1px 3px 1px rgba(60, 64, 67, 0.15);\n",
              "      fill: #174EA6;\n",
              "    }\n",
              "\n",
              "    [theme=dark] .colab-df-convert {\n",
              "      background-color: #3B4455;\n",
              "      fill: #D2E3FC;\n",
              "    }\n",
              "\n",
              "    [theme=dark] .colab-df-convert:hover {\n",
              "      background-color: #434B5C;\n",
              "      box-shadow: 0px 1px 3px 1px rgba(0, 0, 0, 0.15);\n",
              "      filter: drop-shadow(0px 1px 2px rgba(0, 0, 0, 0.3));\n",
              "      fill: #FFFFFF;\n",
              "    }\n",
              "  </style>\n",
              "\n",
              "      <script>\n",
              "        const buttonEl =\n",
              "          document.querySelector('#df-01670813-b198-487b-a6ff-e63c24d5655b button.colab-df-convert');\n",
              "        buttonEl.style.display =\n",
              "          google.colab.kernel.accessAllowed ? 'block' : 'none';\n",
              "\n",
              "        async function convertToInteractive(key) {\n",
              "          const element = document.querySelector('#df-01670813-b198-487b-a6ff-e63c24d5655b');\n",
              "          const dataTable =\n",
              "            await google.colab.kernel.invokeFunction('convertToInteractive',\n",
              "                                                     [key], {});\n",
              "          if (!dataTable) return;\n",
              "\n",
              "          const docLinkHtml = 'Like what you see? Visit the ' +\n",
              "            '<a target=\"_blank\" href=https://colab.research.google.com/notebooks/data_table.ipynb>data table notebook</a>'\n",
              "            + ' to learn more about interactive tables.';\n",
              "          element.innerHTML = '';\n",
              "          dataTable['output_type'] = 'display_data';\n",
              "          await google.colab.output.renderOutput(dataTable, element);\n",
              "          const docLink = document.createElement('div');\n",
              "          docLink.innerHTML = docLinkHtml;\n",
              "          element.appendChild(docLink);\n",
              "        }\n",
              "      </script>\n",
              "    </div>\n",
              "  </div>\n",
              "  "
            ]
          },
          "metadata": {},
          "execution_count": 11
        }
      ],
      "source": [
        "df['durée']=df['tpep_dropoff_datetime']-df['tpep_pickup_datetime']\n",
        "df.head()"
      ]
    },
    {
      "cell_type": "code",
      "execution_count": null,
      "metadata": {
        "id": "zOMqLz7QG4Ge"
      },
      "outputs": [],
      "source": [
        "#Décomposition de la date de départ\n",
        "df['mois'] = df.tpep_pickup_datetime.dt.month\n",
        "df['jour'] = df.tpep_pickup_datetime.dt.day\n",
        "df['jour_semaine'] = df.tpep_pickup_datetime.dt.weekday\n",
        "df['annee'] = df.tpep_pickup_datetime.dt.year\n",
        "df['heure'] = df.tpep_pickup_datetime.dt.hour\n",
        "df['minute'] = df.tpep_pickup_datetime.dt.minute"
      ]
    },
    {
      "cell_type": "code",
      "source": [
        "sns.countplot(x='jour_semaine', data=df)\n",
        "plt.xlabel('Jour de la semaine')\n",
        "plt.ylabel('Nombre de trajets')\n",
        "plt.title('Nombre de trajets par jour de la semaine')\n",
        "plt.xticks(rotation=0)\n",
        "plt.show()"
      ],
      "metadata": {
        "colab": {
          "base_uri": "https://localhost:8080/",
          "height": 472
        },
        "id": "TrggMNfUBEI5",
        "outputId": "2296c6ac-4ac1-4a56-dcbd-624cb05b4397"
      },
      "execution_count": null,
      "outputs": [
        {
          "output_type": "display_data",
          "data": {
            "text/plain": [
              "<Figure size 640x480 with 1 Axes>"
            ],
            "image/png": "[encoded data removed]"
          },
          "metadata": {}
        }
      ]
    },
    {
      "cell_type": "code",
      "source": [
        "sns.countplot(x='heure', data=df)\n",
        "plt.xlabel('Heure de la journée')\n",
        "plt.ylabel('Nombre de trajets')\n",
        "plt.title('Nombre de trajets par heure')\n",
        "plt.xticks(rotation=0)\n",
        "plt.show()"
      ],
      "metadata": {
        "colab": {
          "base_uri": "https://localhost:8080/",
          "height": 472
        },
        "id": "orCDmWFkB8JP",
        "outputId": "a0e46864-8208-43ec-a9ca-82899806a2ee"
      },
      "execution_count": null,
      "outputs": [
        {
          "output_type": "display_data",
          "data": {
            "text/plain": [
              "<Figure size 640x480 with 1 Axes>"
            ],
            "image/png": "[encoded data removed]"
          },
          "metadata": {}
        }
      ]
    },
    {
      "cell_type": "code",
      "execution_count": null,
      "metadata": {
        "colab": {
          "base_uri": "https://localhost:8080/",
          "height": 206
        },
        "id": "9Evv0J22O5BJ",
        "outputId": "f0f50ff5-1e50-4859-bd56-0f1ca75f364c"
      },
      "outputs": [
        {
          "output_type": "execute_result",
          "data": {
            "text/plain": [
              "  tpep_pickup_datetime tpep_dropoff_datetime  passenger_count  trip_distance  \\\n",
              "1  2023-03-01 00:08:25   2023-03-01 00:39:30              2.0          12.40   \n",
              "2  2023-03-01 00:15:04   2023-03-01 00:29:26              0.0           3.30   \n",
              "3  2023-03-01 00:49:37   2023-03-01 01:01:05              1.0           2.90   \n",
              "4  2023-03-01 00:08:04   2023-03-01 00:11:06              1.0           1.23   \n",
              "5  2023-03-01 00:09:09   2023-03-01 00:17:34              1.0           1.20   \n",
              "\n",
              "   PULocationID  DOLocationID  payment_type  total_amount           durée  \\\n",
              "1           138           231             1         76.49 0 days 00:31:05   \n",
              "2           140           186             1         28.05 0 days 00:14:22   \n",
              "3           140            43             1         24.70 0 days 00:11:28   \n",
              "4            79           137             1         14.64 0 days 00:03:02   \n",
              "5           162           137             1         18.00 0 days 00:08:25   \n",
              "\n",
              "   mois  jour  jour_semaine  annee  heure  minute  duree_minute  \n",
              "1     3     1             2   2023      0       8     31.083333  \n",
              "2     3     1             2   2023      0      15     14.366667  \n",
              "3     3     1             2   2023      0      49     11.466667  \n",
              "4     3     1             2   2023      0       8      3.033333  \n",
              "5     3     1             2   2023      0       9      8.416667  "
            ],
            "text/html": [
              "\n",
              "  <div id=\"df-c54f25a1-1871-4daf-b4d2-e7609079692d\">\n",
              "    <div class=\"colab-df-container\">\n",
              "      <div>\n",
              "<style scoped>\n",
              "    .dataframe tbody tr th:only-of-type {\n",
              "        vertical-align: middle;\n",
              "    }\n",
              "\n",
              "    .dataframe tbody tr th {\n",
              "        vertical-align: top;\n",
              "    }\n",
              "\n",
              "    .dataframe thead th {\n",
              "        text-align: right;\n",
              "    }\n",
              "</style>\n",
              "<table border=\"1\" class=\"dataframe\">\n",
              "  <thead>\n",
              "    <tr style=\"text-align: right;\">\n",
              "      <th></th>\n",
              "      <th>tpep_pickup_datetime</th>\n",
              "      <th>tpep_dropoff_datetime</th>\n",
              "      <th>passenger_count</th>\n",
              "      <th>trip_distance</th>\n",
              "      <th>PULocationID</th>\n",
              "      <th>DOLocationID</th>\n",
              "      <th>payment_type</th>\n",
              "      <th>total_amount</th>\n",
              "      <th>durée</th>\n",
              "      <th>mois</th>\n",
              "      <th>jour</th>\n",
              "      <th>jour_semaine</th>\n",
              "      <th>annee</th>\n",
              "      <th>heure</th>\n",
              "      <th>minute</th>\n",
              "      <th>duree_minute</th>\n",
              "    </tr>\n",
              "  </thead>\n",
              "  <tbody>\n",
              "    <tr>\n",
              "      <th>1</th>\n",
              "      <td>2023-03-01 00:08:25</td>\n",
              "      <td>2023-03-01 00:39:30</td>\n",
              "      <td>2.0</td>\n",
              "      <td>12.40</td>\n",
              "      <td>138</td>\n",
              "      <td>231</td>\n",
              "      <td>1</td>\n",
              "      <td>76.49</td>\n",
              "      <td>0 days 00:31:05</td>\n",
              "      <td>3</td>\n",
              "      <td>1</td>\n",
              "      <td>2</td>\n",
              "      <td>2023</td>\n",
              "      <td>0</td>\n",
              "      <td>8</td>\n",
              "      <td>31.083333</td>\n",
              "    </tr>\n",
              "    <tr>\n",
              "      <th>2</th>\n",
              "      <td>2023-03-01 00:15:04</td>\n",
              "      <td>2023-03-01 00:29:26</td>\n",
              "      <td>0.0</td>\n",
              "      <td>3.30</td>\n",
              "      <td>140</td>\n",
              "      <td>186</td>\n",
              "      <td>1</td>\n",
              "      <td>28.05</td>\n",
              "      <td>0 days 00:14:22</td>\n",
              "      <td>3</td>\n",
              "      <td>1</td>\n",
              "      <td>2</td>\n",
              "      <td>2023</td>\n",
              "      <td>0</td>\n",
              "      <td>15</td>\n",
              "      <td>14.366667</td>\n",
              "    </tr>\n",
              "    <tr>\n",
              "      <th>3</th>\n",
              "      <td>2023-03-01 00:49:37</td>\n",
              "      <td>2023-03-01 01:01:05</td>\n",
              "      <td>1.0</td>\n",
              "      <td>2.90</td>\n",
              "      <td>140</td>\n",
              "      <td>43</td>\n",
              "      <td>1</td>\n",
              "      <td>24.70</td>\n",
              "      <td>0 days 00:11:28</td>\n",
              "      <td>3</td>\n",
              "      <td>1</td>\n",
              "      <td>2</td>\n",
              "      <td>2023</td>\n",
              "      <td>0</td>\n",
              "      <td>49</td>\n",
              "      <td>11.466667</td>\n",
              "    </tr>\n",
              "    <tr>\n",
              "      <th>4</th>\n",
              "      <td>2023-03-01 00:08:04</td>\n",
              "      <td>2023-03-01 00:11:06</td>\n",
              "      <td>1.0</td>\n",
              "      <td>1.23</td>\n",
              "      <td>79</td>\n",
              "      <td>137</td>\n",
              "      <td>1</td>\n",
              "      <td>14.64</td>\n",
              "      <td>0 days 00:03:02</td>\n",
              "      <td>3</td>\n",
              "      <td>1</td>\n",
              "      <td>2</td>\n",
              "      <td>2023</td>\n",
              "      <td>0</td>\n",
              "      <td>8</td>\n",
              "      <td>3.033333</td>\n",
              "    </tr>\n",
              "    <tr>\n",
              "      <th>5</th>\n",
              "      <td>2023-03-01 00:09:09</td>\n",
              "      <td>2023-03-01 00:17:34</td>\n",
              "      <td>1.0</td>\n",
              "      <td>1.20</td>\n",
              "      <td>162</td>\n",
              "      <td>137</td>\n",
              "      <td>1</td>\n",
              "      <td>18.00</td>\n",
              "      <td>0 days 00:08:25</td>\n",
              "      <td>3</td>\n",
              "      <td>1</td>\n",
              "      <td>2</td>\n",
              "      <td>2023</td>\n",
              "      <td>0</td>\n",
              "      <td>9</td>\n",
              "      <td>8.416667</td>\n",
              "    </tr>\n",
              "  </tbody>\n",
              "</table>\n",
              "</div>\n",
              "      <button class=\"colab-df-convert\" onclick=\"convertToInteractive('df-c54f25a1-1871-4daf-b4d2-e7609079692d')\"\n",
              "              title=\"Convert this dataframe to an interactive table.\"\n",
              "              style=\"display:none;\">\n",
              "        \n",
              "  <svg xmlns=\"http://www.w3.org/2000/svg\" height=\"24px\"viewBox=\"0 0 24 24\"\n",
              "       width=\"24px\">\n",
              "    <path d=\"M0 0h24v24H0V0z\" fill=\"none\"/>\n",
              "    <path d=\"M18.56 5.44l.94 2.06.94-2.06 2.06-.94-2.06-.94-.94-2.06-.94 2.06-2.06.94zm-11 1L8.5 8.5l.94-2.06 2.06-.94-2.06-.94L8.5 2.5l-.94 2.06-2.06.94zm10 10l.94 2.06.94-2.06 2.06-.94-2.06-.94-.94-2.06-.94 2.06-2.06.94z\"/><path d=\"M17.41 7.96l-1.37-1.37c-.4-.4-.92-.59-1.43-.59-.52 0-1.04.2-1.43.59L10.3 9.45l-7.72 7.72c-.78.78-.78 2.05 0 2.83L4 21.41c.39.39.9.59 1.41.59.51 0 1.02-.2 1.41-.59l7.78-7.78 2.81-2.81c.8-.78.8-2.07 0-2.86zM5.41 20L4 18.59l7.72-7.72 1.47 1.35L5.41 20z\"/>\n",
              "  </svg>\n",
              "      </button>\n",
              "      \n",
              "  <style>\n",
              "    .colab-df-container {\n",
              "      display:flex;\n",
              "      flex-wrap:wrap;\n",
              "      gap: 12px;\n",
              "    }\n",
              "\n",
              "    .colab-df-convert {\n",
              "      background-color: #E8F0FE;\n",
              "      border: none;\n",
              "      border-radius: 50%;\n",
              "      cursor: pointer;\n",
              "      display: none;\n",
              "      fill: #1967D2;\n",
              "      height: 32px;\n",
              "      padding: 0 0 0 0;\n",
              "      width: 32px;\n",
              "    }\n",
              "\n",
              "    .colab-df-convert:hover {\n",
              "      background-color: #E2EBFA;\n",
              "      box-shadow: 0px 1px 2px rgba(60, 64, 67, 0.3), 0px 1px 3px 1px rgba(60, 64, 67, 0.15);\n",
              "      fill: #174EA6;\n",
              "    }\n",
              "\n",
              "    [theme=dark] .colab-df-convert {\n",
              "      background-color: #3B4455;\n",
              "      fill: #D2E3FC;\n",
              "    }\n",
              "\n",
              "    [theme=dark] .colab-df-convert:hover {\n",
              "      background-color: #434B5C;\n",
              "      box-shadow: 0px 1px 3px 1px rgba(0, 0, 0, 0.15);\n",
              "      filter: drop-shadow(0px 1px 2px rgba(0, 0, 0, 0.3));\n",
              "      fill: #FFFFFF;\n",
              "    }\n",
              "  </style>\n",
              "\n",
              "      <script>\n",
              "        const buttonEl =\n",
              "          document.querySelector('#df-c54f25a1-1871-4daf-b4d2-e7609079692d button.colab-df-convert');\n",
              "        buttonEl.style.display =\n",
              "          google.colab.kernel.accessAllowed ? 'block' : 'none';\n",
              "\n",
              "        async function convertToInteractive(key) {\n",
              "          const element = document.querySelector('#df-c54f25a1-1871-4daf-b4d2-e7609079692d');\n",
              "          const dataTable =\n",
              "            await google.colab.kernel.invokeFunction('convertToInteractive',\n",
              "                                                     [key], {});\n",
              "          if (!dataTable) return;\n",
              "\n",
              "          const docLinkHtml = 'Like what you see? Visit the ' +\n",
              "            '<a target=\"_blank\" href=https://colab.research.google.com/notebooks/data_table.ipynb>data table notebook</a>'\n",
              "            + ' to learn more about interactive tables.';\n",
              "          element.innerHTML = '';\n",
              "          dataTable['output_type'] = 'display_data';\n",
              "          await google.colab.output.renderOutput(dataTable, element);\n",
              "          const docLink = document.createElement('div');\n",
              "          docLink.innerHTML = docLinkHtml;\n",
              "          element.appendChild(docLink);\n",
              "        }\n",
              "      </script>\n",
              "    </div>\n",
              "  </div>\n",
              "  "
            ]
          },
          "metadata": {},
          "execution_count": 13
        }
      ],
      "source": [
        "#Calcul de la durée en minute\n",
        "df['duree_minute'] = df.durée.dt.total_seconds()/60\n",
        "df.head()"
      ]
    },
    {
      "cell_type": "code",
      "execution_count": null,
      "metadata": {
        "id": "QFErruY4IzWG"
      },
      "outputs": [],
      "source": [
        "#Fonction qui permet d'afficher la durée au format hh:mm:ss\n",
        "def format_duree_trajet(row):\n",
        "    heures = row['durée'].seconds // 3600\n",
        "    minutes = (row['durée'].seconds % 3600) // 60\n",
        "    secondes = row['durée'].seconds % 60\n",
        "    return f\"{heures:02d}:{minutes:02d}:{secondes:02d}\"\n",
        "\n",
        "df['durée2'] = df.apply(format_duree_trajet, axis=1)"
      ]
    },
    {
      "cell_type": "markdown",
      "source": [
        "Nous avons remarqué des lignes ayant un nombre de passagers égal à 0"
      ],
      "metadata": {
        "id": "_XyKRISdDAB2"
      }
    },
    {
      "cell_type": "code",
      "source": [
        "df['passenger_count'].min()"
      ],
      "metadata": {
        "colab": {
          "base_uri": "https://localhost:8080/"
        },
        "id": "NKmbkRyrDFjw",
        "outputId": "9d782ced-0624-43dc-c1c2-b5214183fa9d"
      },
      "execution_count": null,
      "outputs": [
        {
          "output_type": "execute_result",
          "data": {
            "text/plain": [
              "0.0"
            ]
          },
          "metadata": {},
          "execution_count": 30
        }
      ]
    },
    {
      "cell_type": "code",
      "source": [
        "df=df[df['passenger_count']>0]"
      ],
      "metadata": {
        "id": "qJSzVPFXAC6J"
      },
      "execution_count": null,
      "outputs": []
    },
    {
      "cell_type": "code",
      "source": [
        "df['passenger_count'].min()"
      ],
      "metadata": {
        "colab": {
          "base_uri": "https://localhost:8080/"
        },
        "id": "5GLvhq0YEbvf",
        "outputId": "d7d6bcce-59e3-4f11-e4cf-29e7f1dffcbd"
      },
      "execution_count": null,
      "outputs": [
        {
          "output_type": "execute_result",
          "data": {
            "text/plain": [
              "1.0"
            ]
          },
          "metadata": {},
          "execution_count": 32
        }
      ]
    },
    {
      "cell_type": "markdown",
      "source": [
        "Un taxi new-yorkais ne peut prendre que 4 passagers maximum"
      ],
      "metadata": {
        "id": "nOWPrOwoDxJZ"
      }
    },
    {
      "cell_type": "code",
      "source": [
        "df=df[df['passenger_count']<5]"
      ],
      "metadata": {
        "id": "jAUJQEAvD4HG"
      },
      "execution_count": null,
      "outputs": []
    },
    {
      "cell_type": "code",
      "execution_count": null,
      "metadata": {
        "colab": {
          "base_uri": "https://localhost:8080/",
          "height": 472
        },
        "id": "jPvbnbqPRJpr",
        "outputId": "9534acc8-472b-4522-f985-da88d5af75fe"
      },
      "outputs": [
        {
          "output_type": "display_data",
          "data": {
            "text/plain": [
              "<Figure size 640x480 with 1 Axes>"
            ],
            "image/png": "[encoded data removed]"
          },
          "metadata": {}
        }
      ],
      "source": [
        "sns.countplot(x='passenger_count', data=df)\n",
        "plt.xlabel('Nombre de passagers')\n",
        "plt.ylabel('Nombre de trajets')\n",
        "plt.title('Nombre de passagers par trajet')\n",
        "plt.xticks(rotation=0)\n",
        "plt.show()"
      ]
    },
    {
      "cell_type": "markdown",
      "metadata": {
        "id": "YDwsuvBU9wtp"
      },
      "source": [
        "XGBoost"
      ]
    },
    {
      "cell_type": "code",
      "execution_count": null,
      "metadata": {
        "colab": {
          "base_uri": "https://localhost:8080/",
          "height": 357
        },
        "id": "rSIMcZPh--qE",
        "outputId": "061c5822-dafe-4ee6-9962-85db99023f02"
      },
      "outputs": [
        {
          "output_type": "execute_result",
          "data": {
            "text/plain": [
              "  tpep_pickup_datetime tpep_dropoff_datetime  passenger_count  trip_distance  \\\n",
              "1  2023-03-01 00:08:25   2023-03-01 00:39:30              2.0          12.40   \n",
              "3  2023-03-01 00:49:37   2023-03-01 01:01:05              1.0           2.90   \n",
              "4  2023-03-01 00:08:04   2023-03-01 00:11:06              1.0           1.23   \n",
              "5  2023-03-01 00:09:09   2023-03-01 00:17:34              1.0           1.20   \n",
              "6  2023-03-01 00:32:21   2023-03-01 00:42:08              1.0           1.80   \n",
              "\n",
              "   PULocationID  DOLocationID  payment_type  total_amount           durée  \\\n",
              "1           138           231             1         76.49 0 days 00:31:05   \n",
              "3           140            43             1         24.70 0 days 00:11:28   \n",
              "4            79           137             1         14.64 0 days 00:03:02   \n",
              "5           162           137             1         18.00 0 days 00:08:25   \n",
              "6           170            48             1         20.50 0 days 00:09:47   \n",
              "\n",
              "   mois  jour  jour_semaine  annee  heure  minute  duree_minute    durée2  \n",
              "1     3     1             2   2023      0       8     31.083333  00:31:05  \n",
              "3     3     1             2   2023      0      49     11.466667  00:11:28  \n",
              "4     3     1             2   2023      0       8      3.033333  00:03:02  \n",
              "5     3     1             2   2023      0       9      8.416667  00:08:25  \n",
              "6     3     1             2   2023      0      32      9.783333  00:09:47  "
            ],
            "text/html": [
              "\n",
              "  <div id=\"df-6a52a170-2672-4145-a828-587f9ef3cdef\">\n",
              "    <div class=\"colab-df-container\">\n",
              "      <div>\n",
              "<style scoped>\n",
              "    .dataframe tbody tr th:only-of-type {\n",
              "        vertical-align: middle;\n",
              "    }\n",
              "\n",
              "    .dataframe tbody tr th {\n",
              "        vertical-align: top;\n",
              "    }\n",
              "\n",
              "    .dataframe thead th {\n",
              "        text-align: right;\n",
              "    }\n",
              "</style>\n",
              "<table border=\"1\" class=\"dataframe\">\n",
              "  <thead>\n",
              "    <tr style=\"text-align: right;\">\n",
              "      <th></th>\n",
              "      <th>tpep_pickup_datetime</th>\n",
              "      <th>tpep_dropoff_datetime</th>\n",
              "      <th>passenger_count</th>\n",
              "      <th>trip_distance</th>\n",
              "      <th>PULocationID</th>\n",
              "      <th>DOLocationID</th>\n",
              "      <th>payment_type</th>\n",
              "      <th>total_amount</th>\n",
              "      <th>durée</th>\n",
              "      <th>mois</th>\n",
              "      <th>jour</th>\n",
              "      <th>jour_semaine</th>\n",
              "      <th>annee</th>\n",
              "      <th>heure</th>\n",
              "      <th>minute</th>\n",
              "      <th>duree_minute</th>\n",
              "      <th>durée2</th>\n",
              "    </tr>\n",
              "  </thead>\n",
              "  <tbody>\n",
              "    <tr>\n",
              "      <th>1</th>\n",
              "      <td>2023-03-01 00:08:25</td>\n",
              "      <td>2023-03-01 00:39:30</td>\n",
              "      <td>2.0</td>\n",
              "      <td>12.40</td>\n",
              "      <td>138</td>\n",
              "      <td>231</td>\n",
              "      <td>1</td>\n",
              "      <td>76.49</td>\n",
              "      <td>0 days 00:31:05</td>\n",
              "      <td>3</td>\n",
              "      <td>1</td>\n",
              "      <td>2</td>\n",
              "      <td>2023</td>\n",
              "      <td>0</td>\n",
              "      <td>8</td>\n",
              "      <td>31.083333</td>\n",
              "      <td>00:31:05</td>\n",
              "    </tr>\n",
              "    <tr>\n",
              "      <th>3</th>\n",
              "      <td>2023-03-01 00:49:37</td>\n",
              "      <td>2023-03-01 01:01:05</td>\n",
              "      <td>1.0</td>\n",
              "      <td>2.90</td>\n",
              "      <td>140</td>\n",
              "      <td>43</td>\n",
              "      <td>1</td>\n",
              "      <td>24.70</td>\n",
              "      <td>0 days 00:11:28</td>\n",
              "      <td>3</td>\n",
              "      <td>1</td>\n",
              "      <td>2</td>\n",
              "      <td>2023</td>\n",
              "      <td>0</td>\n",
              "      <td>49</td>\n",
              "      <td>11.466667</td>\n",
              "      <td>00:11:28</td>\n",
              "    </tr>\n",
              "    <tr>\n",
              "      <th>4</th>\n",
              "      <td>2023-03-01 00:08:04</td>\n",
              "      <td>2023-03-01 00:11:06</td>\n",
              "      <td>1.0</td>\n",
              "      <td>1.23</td>\n",
              "      <td>79</td>\n",
              "      <td>137</td>\n",
              "      <td>1</td>\n",
              "      <td>14.64</td>\n",
              "      <td>0 days 00:03:02</td>\n",
              "      <td>3</td>\n",
              "      <td>1</td>\n",
              "      <td>2</td>\n",
              "      <td>2023</td>\n",
              "      <td>0</td>\n",
              "      <td>8</td>\n",
              "      <td>3.033333</td>\n",
              "      <td>00:03:02</td>\n",
              "    </tr>\n",
              "    <tr>\n",
              "      <th>5</th>\n",
              "      <td>2023-03-01 00:09:09</td>\n",
              "      <td>2023-03-01 00:17:34</td>\n",
              "      <td>1.0</td>\n",
              "      <td>1.20</td>\n",
              "      <td>162</td>\n",
              "      <td>137</td>\n",
              "      <td>1</td>\n",
              "      <td>18.00</td>\n",
              "      <td>0 days 00:08:25</td>\n",
              "      <td>3</td>\n",
              "      <td>1</td>\n",
              "      <td>2</td>\n",
              "      <td>2023</td>\n",
              "      <td>0</td>\n",
              "      <td>9</td>\n",
              "      <td>8.416667</td>\n",
              "      <td>00:08:25</td>\n",
              "    </tr>\n",
              "    <tr>\n",
              "      <th>6</th>\n",
              "      <td>2023-03-01 00:32:21</td>\n",
              "      <td>2023-03-01 00:42:08</td>\n",
              "      <td>1.0</td>\n",
              "      <td>1.80</td>\n",
              "      <td>170</td>\n",
              "      <td>48</td>\n",
              "      <td>1</td>\n",
              "      <td>20.50</td>\n",
              "      <td>0 days 00:09:47</td>\n",
              "      <td>3</td>\n",
              "      <td>1</td>\n",
              "      <td>2</td>\n",
              "      <td>2023</td>\n",
              "      <td>0</td>\n",
              "      <td>32</td>\n",
              "      <td>9.783333</td>\n",
              "      <td>00:09:47</td>\n",
              "    </tr>\n",
              "  </tbody>\n",
              "</table>\n",
              "</div>\n",
              "      <button class=\"colab-df-convert\" onclick=\"convertToInteractive('df-6a52a170-2672-4145-a828-587f9ef3cdef')\"\n",
              "              title=\"Convert this dataframe to an interactive table.\"\n",
              "              style=\"display:none;\">\n",
              "        \n",
              "  <svg xmlns=\"http://www.w3.org/2000/svg\" height=\"24px\"viewBox=\"0 0 24 24\"\n",
              "       width=\"24px\">\n",
              "    <path d=\"M0 0h24v24H0V0z\" fill=\"none\"/>\n",
              "    <path d=\"M18.56 5.44l.94 2.06.94-2.06 2.06-.94-2.06-.94-.94-2.06-.94 2.06-2.06.94zm-11 1L8.5 8.5l.94-2.06 2.06-.94-2.06-.94L8.5 2.5l-.94 2.06-2.06.94zm10 10l.94 2.06.94-2.06 2.06-.94-2.06-.94-.94-2.06-.94 2.06-2.06.94z\"/><path d=\"M17.41 7.96l-1.37-1.37c-.4-.4-.92-.59-1.43-.59-.52 0-1.04.2-1.43.59L10.3 9.45l-7.72 7.72c-.78.78-.78 2.05 0 2.83L4 21.41c.39.39.9.59 1.41.59.51 0 1.02-.2 1.41-.59l7.78-7.78 2.81-2.81c.8-.78.8-2.07 0-2.86zM5.41 20L4 18.59l7.72-7.72 1.47 1.35L5.41 20z\"/>\n",
              "  </svg>\n",
              "      </button>\n",
              "      \n",
              "  <style>\n",
              "    .colab-df-container {\n",
              "      display:flex;\n",
              "      flex-wrap:wrap;\n",
              "      gap: 12px;\n",
              "    }\n",
              "\n",
              "    .colab-df-convert {\n",
              "      background-color: #E8F0FE;\n",
              "      border: none;\n",
              "      border-radius: 50%;\n",
              "      cursor: pointer;\n",
              "      display: none;\n",
              "      fill: #1967D2;\n",
              "      height: 32px;\n",
              "      padding: 0 0 0 0;\n",
              "      width: 32px;\n",
              "    }\n",
              "\n",
              "    .colab-df-convert:hover {\n",
              "      background-color: #E2EBFA;\n",
              "      box-shadow: 0px 1px 2px rgba(60, 64, 67, 0.3), 0px 1px 3px 1px rgba(60, 64, 67, 0.15);\n",
              "      fill: #174EA6;\n",
              "    }\n",
              "\n",
              "    [theme=dark] .colab-df-convert {\n",
              "      background-color: #3B4455;\n",
              "      fill: #D2E3FC;\n",
              "    }\n",
              "\n",
              "    [theme=dark] .colab-df-convert:hover {\n",
              "      background-color: #434B5C;\n",
              "      box-shadow: 0px 1px 3px 1px rgba(0, 0, 0, 0.15);\n",
              "      filter: drop-shadow(0px 1px 2px rgba(0, 0, 0, 0.3));\n",
              "      fill: #FFFFFF;\n",
              "    }\n",
              "  </style>\n",
              "\n",
              "      <script>\n",
              "        const buttonEl =\n",
              "          document.querySelector('#df-6a52a170-2672-4145-a828-587f9ef3cdef button.colab-df-convert');\n",
              "        buttonEl.style.display =\n",
              "          google.colab.kernel.accessAllowed ? 'block' : 'none';\n",
              "\n",
              "        async function convertToInteractive(key) {\n",
              "          const element = document.querySelector('#df-6a52a170-2672-4145-a828-587f9ef3cdef');\n",
              "          const dataTable =\n",
              "            await google.colab.kernel.invokeFunction('convertToInteractive',\n",
              "                                                     [key], {});\n",
              "          if (!dataTable) return;\n",
              "\n",
              "          const docLinkHtml = 'Like what you see? Visit the ' +\n",
              "            '<a target=\"_blank\" href=https://colab.research.google.com/notebooks/data_table.ipynb>data table notebook</a>'\n",
              "            + ' to learn more about interactive tables.';\n",
              "          element.innerHTML = '';\n",
              "          dataTable['output_type'] = 'display_data';\n",
              "          await google.colab.output.renderOutput(dataTable, element);\n",
              "          const docLink = document.createElement('div');\n",
              "          docLink.innerHTML = docLinkHtml;\n",
              "          element.appendChild(docLink);\n",
              "        }\n",
              "      </script>\n",
              "    </div>\n",
              "  </div>\n",
              "  "
            ]
          },
          "metadata": {},
          "execution_count": 35
        }
      ],
      "source": [
        "df.head()"
      ]
    },
    {
      "cell_type": "code",
      "execution_count": null,
      "metadata": {
        "id": "aufLfzZd9xho"
      },
      "outputs": [],
      "source": [
        "# Séparation des features et de la target\n",
        "X = df.drop(columns=['tpep_pickup_datetime','tpep_dropoff_datetime','total_amount','payment_type','durée','durée2'])\n",
        "y = df['total_amount']"
      ]
    },
    {
      "cell_type": "code",
      "source": [
        "X.columns"
      ],
      "metadata": {
        "id": "LkHjzFzU37oM",
        "colab": {
          "base_uri": "https://localhost:8080/"
        },
        "outputId": "19cdbb1c-59fe-4751-9bf1-c40962910fbf"
      },
      "execution_count": null,
      "outputs": [
        {
          "output_type": "execute_result",
          "data": {
            "text/plain": [
              "Index(['passenger_count', 'trip_distance', 'PULocationID', 'DOLocationID',\n",
              "       'mois', 'jour', 'jour_semaine', 'annee', 'heure', 'minute',\n",
              "       'duree_minute'],\n",
              "      dtype='object')"
            ]
          },
          "metadata": {},
          "execution_count": 37
        }
      ]
    },
    {
      "cell_type": "code",
      "execution_count": null,
      "metadata": {
        "colab": {
          "base_uri": "https://localhost:8080/",
          "height": 206
        },
        "id": "S9ZnnNccFO26",
        "outputId": "cbb15ae1-09de-4126-cf5f-7090609f0f79"
      },
      "outputs": [
        {
          "output_type": "execute_result",
          "data": {
            "text/plain": [
              "   passenger_count  trip_distance  PULocationID  DOLocationID  mois  jour  \\\n",
              "1              2.0          12.40           138           231     3     1   \n",
              "3              1.0           2.90           140            43     3     1   \n",
              "4              1.0           1.23            79           137     3     1   \n",
              "5              1.0           1.20           162           137     3     1   \n",
              "6              1.0           1.80           170            48     3     1   \n",
              "\n",
              "   jour_semaine  annee  heure  minute  duree_minute  \n",
              "1             2   2023      0       8     31.083333  \n",
              "3             2   2023      0      49     11.466667  \n",
              "4             2   2023      0       8      3.033333  \n",
              "5             2   2023      0       9      8.416667  \n",
              "6             2   2023      0      32      9.783333  "
            ],
            "text/html": [
              "\n",
              "  <div id=\"df-c34afdf2-e03f-47e1-a883-f6aa48017fa8\">\n",
              "    <div class=\"colab-df-container\">\n",
              "      <div>\n",
              "<style scoped>\n",
              "    .dataframe tbody tr th:only-of-type {\n",
              "        vertical-align: middle;\n",
              "    }\n",
              "\n",
              "    .dataframe tbody tr th {\n",
              "        vertical-align: top;\n",
              "    }\n",
              "\n",
              "    .dataframe thead th {\n",
              "        text-align: right;\n",
              "    }\n",
              "</style>\n",
              "<table border=\"1\" class=\"dataframe\">\n",
              "  <thead>\n",
              "    <tr style=\"text-align: right;\">\n",
              "      <th></th>\n",
              "      <th>passenger_count</th>\n",
              "      <th>trip_distance</th>\n",
              "      <th>PULocationID</th>\n",
              "      <th>DOLocationID</th>\n",
              "      <th>mois</th>\n",
              "      <th>jour</th>\n",
              "      <th>jour_semaine</th>\n",
              "      <th>annee</th>\n",
              "      <th>heure</th>\n",
              "      <th>minute</th>\n",
              "      <th>duree_minute</th>\n",
              "    </tr>\n",
              "  </thead>\n",
              "  <tbody>\n",
              "    <tr>\n",
              "      <th>1</th>\n",
              "      <td>2.0</td>\n",
              "      <td>12.40</td>\n",
              "      <td>138</td>\n",
              "      <td>231</td>\n",
              "      <td>3</td>\n",
              "      <td>1</td>\n",
              "      <td>2</td>\n",
              "      <td>2023</td>\n",
              "      <td>0</td>\n",
              "      <td>8</td>\n",
              "      <td>31.083333</td>\n",
              "    </tr>\n",
              "    <tr>\n",
              "      <th>3</th>\n",
              "      <td>1.0</td>\n",
              "      <td>2.90</td>\n",
              "      <td>140</td>\n",
              "      <td>43</td>\n",
              "      <td>3</td>\n",
              "      <td>1</td>\n",
              "      <td>2</td>\n",
              "      <td>2023</td>\n",
              "      <td>0</td>\n",
              "      <td>49</td>\n",
              "      <td>11.466667</td>\n",
              "    </tr>\n",
              "    <tr>\n",
              "      <th>4</th>\n",
              "      <td>1.0</td>\n",
              "      <td>1.23</td>\n",
              "      <td>79</td>\n",
              "      <td>137</td>\n",
              "      <td>3</td>\n",
              "      <td>1</td>\n",
              "      <td>2</td>\n",
              "      <td>2023</td>\n",
              "      <td>0</td>\n",
              "      <td>8</td>\n",
              "      <td>3.033333</td>\n",
              "    </tr>\n",
              "    <tr>\n",
              "      <th>5</th>\n",
              "      <td>1.0</td>\n",
              "      <td>1.20</td>\n",
              "      <td>162</td>\n",
              "      <td>137</td>\n",
              "      <td>3</td>\n",
              "      <td>1</td>\n",
              "      <td>2</td>\n",
              "      <td>2023</td>\n",
              "      <td>0</td>\n",
              "      <td>9</td>\n",
              "      <td>8.416667</td>\n",
              "    </tr>\n",
              "    <tr>\n",
              "      <th>6</th>\n",
              "      <td>1.0</td>\n",
              "      <td>1.80</td>\n",
              "      <td>170</td>\n",
              "      <td>48</td>\n",
              "      <td>3</td>\n",
              "      <td>1</td>\n",
              "      <td>2</td>\n",
              "      <td>2023</td>\n",
              "      <td>0</td>\n",
              "      <td>32</td>\n",
              "      <td>9.783333</td>\n",
              "    </tr>\n",
              "  </tbody>\n",
              "</table>\n",
              "</div>\n",
              "      <button class=\"colab-df-convert\" onclick=\"convertToInteractive('df-c34afdf2-e03f-47e1-a883-f6aa48017fa8')\"\n",
              "              title=\"Convert this dataframe to an interactive table.\"\n",
              "              style=\"display:none;\">\n",
              "        \n",
              "  <svg xmlns=\"http://www.w3.org/2000/svg\" height=\"24px\"viewBox=\"0 0 24 24\"\n",
              "       width=\"24px\">\n",
              "    <path d=\"M0 0h24v24H0V0z\" fill=\"none\"/>\n",
              "    <path d=\"M18.56 5.44l.94 2.06.94-2.06 2.06-.94-2.06-.94-.94-2.06-.94 2.06-2.06.94zm-11 1L8.5 8.5l.94-2.06 2.06-.94-2.06-.94L8.5 2.5l-.94 2.06-2.06.94zm10 10l.94 2.06.94-2.06 2.06-.94-2.06-.94-.94-2.06-.94 2.06-2.06.94z\"/><path d=\"M17.41 7.96l-1.37-1.37c-.4-.4-.92-.59-1.43-.59-.52 0-1.04.2-1.43.59L10.3 9.45l-7.72 7.72c-.78.78-.78 2.05 0 2.83L4 21.41c.39.39.9.59 1.41.59.51 0 1.02-.2 1.41-.59l7.78-7.78 2.81-2.81c.8-.78.8-2.07 0-2.86zM5.41 20L4 18.59l7.72-7.72 1.47 1.35L5.41 20z\"/>\n",
              "  </svg>\n",
              "      </button>\n",
              "      \n",
              "  <style>\n",
              "    .colab-df-container {\n",
              "      display:flex;\n",
              "      flex-wrap:wrap;\n",
              "      gap: 12px;\n",
              "    }\n",
              "\n",
              "    .colab-df-convert {\n",
              "      background-color: #E8F0FE;\n",
              "      border: none;\n",
              "      border-radius: 50%;\n",
              "      cursor: pointer;\n",
              "      display: none;\n",
              "      fill: #1967D2;\n",
              "      height: 32px;\n",
              "      padding: 0 0 0 0;\n",
              "      width: 32px;\n",
              "    }\n",
              "\n",
              "    .colab-df-convert:hover {\n",
              "      background-color: #E2EBFA;\n",
              "      box-shadow: 0px 1px 2px rgba(60, 64, 67, 0.3), 0px 1px 3px 1px rgba(60, 64, 67, 0.15);\n",
              "      fill: #174EA6;\n",
              "    }\n",
              "\n",
              "    [theme=dark] .colab-df-convert {\n",
              "      background-color: #3B4455;\n",
              "      fill: #D2E3FC;\n",
              "    }\n",
              "\n",
              "    [theme=dark] .colab-df-convert:hover {\n",
              "      background-color: #434B5C;\n",
              "      box-shadow: 0px 1px 3px 1px rgba(0, 0, 0, 0.15);\n",
              "      filter: drop-shadow(0px 1px 2px rgba(0, 0, 0, 0.3));\n",
              "      fill: #FFFFFF;\n",
              "    }\n",
              "  </style>\n",
              "\n",
              "      <script>\n",
              "        const buttonEl =\n",
              "          document.querySelector('#df-c34afdf2-e03f-47e1-a883-f6aa48017fa8 button.colab-df-convert');\n",
              "        buttonEl.style.display =\n",
              "          google.colab.kernel.accessAllowed ? 'block' : 'none';\n",
              "\n",
              "        async function convertToInteractive(key) {\n",
              "          const element = document.querySelector('#df-c34afdf2-e03f-47e1-a883-f6aa48017fa8');\n",
              "          const dataTable =\n",
              "            await google.colab.kernel.invokeFunction('convertToInteractive',\n",
              "                                                     [key], {});\n",
              "          if (!dataTable) return;\n",
              "\n",
              "          const docLinkHtml = 'Like what you see? Visit the ' +\n",
              "            '<a target=\"_blank\" href=https://colab.research.google.com/notebooks/data_table.ipynb>data table notebook</a>'\n",
              "            + ' to learn more about interactive tables.';\n",
              "          element.innerHTML = '';\n",
              "          dataTable['output_type'] = 'display_data';\n",
              "          await google.colab.output.renderOutput(dataTable, element);\n",
              "          const docLink = document.createElement('div');\n",
              "          docLink.innerHTML = docLinkHtml;\n",
              "          element.appendChild(docLink);\n",
              "        }\n",
              "      </script>\n",
              "    </div>\n",
              "  </div>\n",
              "  "
            ]
          },
          "metadata": {},
          "execution_count": 38
        }
      ],
      "source": [
        "X.head()"
      ]
    },
    {
      "cell_type": "code",
      "execution_count": null,
      "metadata": {
        "colab": {
          "base_uri": "https://localhost:8080/"
        },
        "id": "CzCCT5InP__3",
        "outputId": "0e2016a4-b99a-4709-b677-da897551e5b1"
      },
      "outputs": [
        {
          "output_type": "execute_result",
          "data": {
            "text/plain": [
              "1.0    2440681\n",
              "2.0     465252\n",
              "3.0     114484\n",
              "4.0      56475\n",
              "Name: passenger_count, dtype: int64"
            ]
          },
          "metadata": {},
          "execution_count": 39
        }
      ],
      "source": [
        "X.passenger_count.value_counts()"
      ]
    },
    {
      "cell_type": "code",
      "execution_count": null,
      "metadata": {
        "colab": {
          "base_uri": "https://localhost:8080/"
        },
        "id": "3NbjNclJ9vjK",
        "outputId": "3af7e44c-d150-47f7-f02a-d22ff6e4730b"
      },
      "outputs": [
        {
          "output_type": "stream",
          "name": "stdout",
          "text": [
            "Taille de l'ensemble de données : (3076892, 11)\n",
            "Nombre d'échantillons :  3076892\n",
            "Nombre de features :  11\n"
          ]
        }
      ],
      "source": [
        "print(\"Taille de l'ensemble de données :\", X.shape)\n",
        "print(\"Nombre d'échantillons : \", X.shape [0])\n",
        "print(\"Nombre de features : \", X.shape [1])"
      ]
    },
    {
      "cell_type": "code",
      "execution_count": null,
      "metadata": {
        "colab": {
          "base_uri": "https://localhost:8080/",
          "height": 540
        },
        "id": "e4rqOE7W9vlc",
        "outputId": "badcf647-2410-41f8-bad6-0bcbe12280fa"
      },
      "outputs": [
        {
          "output_type": "display_data",
          "data": {
            "text/plain": [
              "<Figure size 640x480 with 2 Axes>"
            ],
            "image/png": "[encoded data removed]"
          },
          "metadata": {}
        }
      ],
      "source": [
        "corr = X.corr()\n",
        "sns.heatmap(corr)\n",
        "plt.show()"
      ]
    },
    {
      "cell_type": "code",
      "execution_count": null,
      "metadata": {
        "id": "eCFl7y5-9vn0"
      },
      "outputs": [],
      "source": [
        "# Importer les bibliothèques nécessaires\n",
        "import xgboost as xgb\n",
        "from sklearn.model_selection import train_test_split\n",
        "from sklearn.metrics import accuracy_score"
      ]
    },
    {
      "cell_type": "code",
      "execution_count": null,
      "metadata": {
        "id": "jenW7EpV9vqB"
      },
      "outputs": [],
      "source": [
        "X_train, X_test, y_train, y_test = train_test_split(X, y, test_size=0.2, random_state=42)"
      ]
    },
    {
      "cell_type": "code",
      "execution_count": null,
      "metadata": {
        "colab": {
          "base_uri": "https://localhost:8080/"
        },
        "id": "esfbO8YFGtpL",
        "outputId": "354e9c38-02c1-48a5-8778-fddc9ed1deff"
      },
      "outputs": [
        {
          "output_type": "execute_result",
          "data": {
            "text/plain": [
              "passenger_count    float64\n",
              "trip_distance      float64\n",
              "PULocationID         int32\n",
              "DOLocationID         int32\n",
              "mois                 int64\n",
              "jour                 int64\n",
              "jour_semaine         int64\n",
              "annee                int64\n",
              "heure                int64\n",
              "minute               int64\n",
              "duree_minute       float64\n",
              "dtype: object"
            ]
          },
          "metadata": {},
          "execution_count": 44
        }
      ],
      "source": [
        "X_train.dtypes"
      ]
    },
    {
      "cell_type": "code",
      "execution_count": null,
      "metadata": {
        "id": "vOyi_X0i9_zK"
      },
      "outputs": [],
      "source": [
        "# Créer un objet DMatrix pour les données XGBoost\n",
        "dtrain = xgb.DMatrix(X_train, label=y_train)\n",
        "dtest = xgb.DMatrix(X_test, label=y_test)"
      ]
    },
    {
      "cell_type": "code",
      "execution_count": null,
      "metadata": {
        "id": "_CLED6SZ9_1R"
      },
      "outputs": [],
      "source": [
        "# Définir les hyperparamètres du modèle\n",
        "params = {\n",
        "    \"max_depth\": 3,\n",
        "    \"eta\": 0.1,\n",
        "    \"objective\": \"reg:squarederror\",\n",
        "    \"eval_metric\": \"rmse\",\n",
        "    \"seed\": 42\n",
        "}"
      ]
    },
    {
      "cell_type": "code",
      "execution_count": null,
      "metadata": {
        "id": "s3iB39K9-Dzi"
      },
      "outputs": [],
      "source": [
        "# Entraîner le modèle\n",
        "num_rounds = 100\n",
        "model = xgb.train(params, dtrain, num_rounds)"
      ]
    },
    {
      "cell_type": "code",
      "execution_count": null,
      "metadata": {
        "id": "TfiIbWM69_3q"
      },
      "outputs": [],
      "source": [
        "# Faire des prédictions sur l'ensemble de test\n",
        "preds = model.predict(dtest)"
      ]
    },
    {
      "cell_type": "code",
      "execution_count": null,
      "metadata": {
        "id": "-wgi33oo9_6K"
      },
      "outputs": [],
      "source": [
        "from sklearn.metrics import mean_squared_error, r2_score"
      ]
    },
    {
      "cell_type": "code",
      "execution_count": null,
      "metadata": {
        "colab": {
          "base_uri": "https://localhost:8080/"
        },
        "id": "d41gpYxtZPhG",
        "outputId": "3f83272d-5be9-490b-f786-6508bca2e3b4"
      },
      "outputs": [
        {
          "output_type": "stream",
          "name": "stdout",
          "text": [
            "RMSE : 5.0220697273023465\n",
            "R2 : 0.9479782344064912\n"
          ]
        }
      ],
      "source": [
        "# Calculer l'erreur quadratique moyenne (RMSE) des prédictions\n",
        "rmse = mean_squared_error(y_test, preds, squared=False)\n",
        "r2 = r2_score(y_test, preds)\n",
        "\n",
        "print(f\"RMSE : {rmse}\")\n",
        "print(f\"R2 : {r2}\")"
      ]
    },
    {
      "cell_type": "code",
      "source": [
        "# Prédiction sur l'ensemble de test\n",
        "for i in range(10):\n",
        "    print(\"Prédictions des prix: %.2f, Vraie valeur (prix): %.2f\"%(preds[i], y_test.iloc[i]))\n"
      ],
      "metadata": {
        "colab": {
          "base_uri": "https://localhost:8080/"
        },
        "id": "IlweinDaDquM",
        "outputId": "f2b6e9ad-0799-49f7-a749-e7239eef595b"
      },
      "execution_count": null,
      "outputs": [
        {
          "output_type": "stream",
          "name": "stdout",
          "text": [
            "Prédictions des prix: 18.74, Vraie valeur (prix): 19.80\n",
            "Prédictions des prix: 18.10, Vraie valeur (prix): 19.32\n",
            "Prédictions des prix: 13.07, Vraie valeur (prix): 11.05\n",
            "Prédictions des prix: 20.68, Vraie valeur (prix): 20.93\n",
            "Prédictions des prix: 16.31, Vraie valeur (prix): 16.80\n",
            "Prédictions des prix: 12.00, Vraie valeur (prix): 10.50\n",
            "Prédictions des prix: 25.98, Vraie valeur (prix): 26.88\n",
            "Prédictions des prix: 20.70, Vraie valeur (prix): 18.50\n",
            "Prédictions des prix: 21.51, Vraie valeur (prix): 21.48\n",
            "Prédictions des prix: 33.27, Vraie valeur (prix): 31.80\n"
          ]
        }
      ]
    },
    {
      "cell_type": "code",
      "source": [
        "data = pd.DataFrame({'passenger_count': [2],'trip_distance': [np.nan],\n",
        "                     'PULocationID': [180],'DOLocationID': [43],'mois': [3],\n",
        "                     'jour': [26],'jour_semaine': [np.nan],'annee': [2023],\n",
        "                     'heure': [18],'minute': [50],'duree_minute': [np.nan]})"
      ],
      "metadata": {
        "id": "VpE1QYMILDfX"
      },
      "execution_count": null,
      "outputs": []
    },
    {
      "cell_type": "code",
      "source": [
        "print(model.predict(xgb.DMatrix(data)))"
      ],
      "metadata": {
        "colab": {
          "base_uri": "https://localhost:8080/"
        },
        "id": "Tt5VNIUcLm1F",
        "outputId": "398f31ac-fabb-42f9-e723-fd3ffb347c7c"
      },
      "execution_count": null,
      "outputs": [
        {
          "output_type": "stream",
          "name": "stdout",
          "text": [
            "[42.000687]\n"
          ]
        }
      ]
    },
    {
      "cell_type": "markdown",
      "source": [
        "Carte de New York"
      ],
      "metadata": {
        "id": "coVS96_3MGmr"
      }
    },
    {
      "cell_type": "code",
      "source": [
        "pip install geopandas"
      ],
      "metadata": {
        "colab": {
          "base_uri": "https://localhost:8080/"
        },
        "id": "nLlXyiNM5Zat",
        "outputId": "e36d075e-b14e-4047-c2e3-183657e6c379"
      },
      "execution_count": null,
      "outputs": [
        {
          "output_type": "stream",
          "name": "stdout",
          "text": [
            "Requirement already satisfied: geopandas in /usr/local/lib/python3.10/dist-packages (0.13.2)\n",
            "Requirement already satisfied: fiona>=1.8.19 in /usr/local/lib/python3.10/dist-packages (from geopandas) (1.9.4.post1)\n",
            "Requirement already satisfied: packaging in /usr/local/lib/python3.10/dist-packages (from geopandas) (23.1)\n",
            "Requirement already satisfied: pandas>=1.1.0 in /usr/local/lib/python3.10/dist-packages (from geopandas) (1.5.3)\n",
            "Requirement already satisfied: pyproj>=3.0.1 in /usr/local/lib/python3.10/dist-packages (from geopandas) (3.6.0)\n",
            "Requirement already satisfied: shapely>=1.7.1 in /usr/local/lib/python3.10/dist-packages (from geopandas) (2.0.1)\n",
            "Requirement already satisfied: attrs>=19.2.0 in /usr/local/lib/python3.10/dist-packages (from fiona>=1.8.19->geopandas) (23.1.0)\n",
            "Requirement already satisfied: certifi in /usr/local/lib/python3.10/dist-packages (from fiona>=1.8.19->geopandas) (2023.5.7)\n",
            "Requirement already satisfied: click~=8.0 in /usr/local/lib/python3.10/dist-packages (from fiona>=1.8.19->geopandas) (8.1.3)\n",
            "Requirement already satisfied: click-plugins>=1.0 in /usr/local/lib/python3.10/dist-packages (from fiona>=1.8.19->geopandas) (1.1.1)\n",
            "Requirement already satisfied: cligj>=0.5 in /usr/local/lib/python3.10/dist-packages (from fiona>=1.8.19->geopandas) (0.7.2)\n",
            "Requirement already satisfied: six in /usr/local/lib/python3.10/dist-packages (from fiona>=1.8.19->geopandas) (1.16.0)\n",
            "Requirement already satisfied: python-dateutil>=2.8.1 in /usr/local/lib/python3.10/dist-packages (from pandas>=1.1.0->geopandas) (2.8.2)\n",
            "Requirement already satisfied: pytz>=2020.1 in /usr/local/lib/python3.10/dist-packages (from pandas>=1.1.0->geopandas) (2022.7.1)\n",
            "Requirement already satisfied: numpy>=1.21.0 in /usr/local/lib/python3.10/dist-packages (from pandas>=1.1.0->geopandas) (1.22.4)\n"
          ]
        }
      ]
    },
    {
      "cell_type": "code",
      "source": [
        "import geopandas as gpd\n",
        "import pandas as pd\n",
        "import matplotlib.pyplot as plt"
      ],
      "metadata": {
        "id": "86G7qaZk5C3V"
      },
      "execution_count": null,
      "outputs": []
    },
    {
      "cell_type": "code",
      "source": [
        "# Chargement des données de Covid-19 par pays\n",
        "zone_taxi = pd.read_csv('zone_taxiii.csv',delimiter=';')"
      ],
      "metadata": {
        "id": "uEPI-UOs5Bam"
      },
      "execution_count": null,
      "outputs": []
    },
    {
      "cell_type": "code",
      "source": [
        "zone_taxi.head()"
      ],
      "metadata": {
        "colab": {
          "base_uri": "https://localhost:8080/",
          "height": 206
        },
        "id": "sRdiAvbS5Bcy",
        "outputId": "976ee952-bf05-4e38-cb22-739eeacde9a2"
      },
      "execution_count": null,
      "outputs": [
        {
          "output_type": "execute_result",
          "data": {
            "text/plain": [
              "   LocationID        Borough                     Zone service_zone\n",
              "0           1            EWR           Newark Airport          EWR\n",
              "1           2         Queens              Jamaica Bay    Boro Zone\n",
              "2           3          Bronx  Allerton/Pelham Gardens    Boro Zone\n",
              "3           4      Manhattan            Alphabet City  Yellow Zone\n",
              "4           5  Staten Island            Arden Heights    Boro Zone"
            ],
            "text/html": [
              "\n",
              "  <div id=\"df-52c5d9b4-1e8a-46d0-991d-11bc69aa7ed1\">\n",
              "    <div class=\"colab-df-container\">\n",
              "      <div>\n",
              "<style scoped>\n",
              "    .dataframe tbody tr th:only-of-type {\n",
              "        vertical-align: middle;\n",
              "    }\n",
              "\n",
              "    .dataframe tbody tr th {\n",
              "        vertical-align: top;\n",
              "    }\n",
              "\n",
              "    .dataframe thead th {\n",
              "        text-align: right;\n",
              "    }\n",
              "</style>\n",
              "<table border=\"1\" class=\"dataframe\">\n",
              "  <thead>\n",
              "    <tr style=\"text-align: right;\">\n",
              "      <th></th>\n",
              "      <th>LocationID</th>\n",
              "      <th>Borough</th>\n",
              "      <th>Zone</th>\n",
              "      <th>service_zone</th>\n",
              "    </tr>\n",
              "  </thead>\n",
              "  <tbody>\n",
              "    <tr>\n",
              "      <th>0</th>\n",
              "      <td>1</td>\n",
              "      <td>EWR</td>\n",
              "      <td>Newark Airport</td>\n",
              "      <td>EWR</td>\n",
              "    </tr>\n",
              "    <tr>\n",
              "      <th>1</th>\n",
              "      <td>2</td>\n",
              "      <td>Queens</td>\n",
              "      <td>Jamaica Bay</td>\n",
              "      <td>Boro Zone</td>\n",
              "    </tr>\n",
              "    <tr>\n",
              "      <th>2</th>\n",
              "      <td>3</td>\n",
              "      <td>Bronx</td>\n",
              "      <td>Allerton/Pelham Gardens</td>\n",
              "      <td>Boro Zone</td>\n",
              "    </tr>\n",
              "    <tr>\n",
              "      <th>3</th>\n",
              "      <td>4</td>\n",
              "      <td>Manhattan</td>\n",
              "      <td>Alphabet City</td>\n",
              "      <td>Yellow Zone</td>\n",
              "    </tr>\n",
              "    <tr>\n",
              "      <th>4</th>\n",
              "      <td>5</td>\n",
              "      <td>Staten Island</td>\n",
              "      <td>Arden Heights</td>\n",
              "      <td>Boro Zone</td>\n",
              "    </tr>\n",
              "  </tbody>\n",
              "</table>\n",
              "</div>\n",
              "      <button class=\"colab-df-convert\" onclick=\"convertToInteractive('df-52c5d9b4-1e8a-46d0-991d-11bc69aa7ed1')\"\n",
              "              title=\"Convert this dataframe to an interactive table.\"\n",
              "              style=\"display:none;\">\n",
              "        \n",
              "  <svg xmlns=\"http://www.w3.org/2000/svg\" height=\"24px\"viewBox=\"0 0 24 24\"\n",
              "       width=\"24px\">\n",
              "    <path d=\"M0 0h24v24H0V0z\" fill=\"none\"/>\n",
              "    <path d=\"M18.56 5.44l.94 2.06.94-2.06 2.06-.94-2.06-.94-.94-2.06-.94 2.06-2.06.94zm-11 1L8.5 8.5l.94-2.06 2.06-.94-2.06-.94L8.5 2.5l-.94 2.06-2.06.94zm10 10l.94 2.06.94-2.06 2.06-.94-2.06-.94-.94-2.06-.94 2.06-2.06.94z\"/><path d=\"M17.41 7.96l-1.37-1.37c-.4-.4-.92-.59-1.43-.59-.52 0-1.04.2-1.43.59L10.3 9.45l-7.72 7.72c-.78.78-.78 2.05 0 2.83L4 21.41c.39.39.9.59 1.41.59.51 0 1.02-.2 1.41-.59l7.78-7.78 2.81-2.81c.8-.78.8-2.07 0-2.86zM5.41 20L4 18.59l7.72-7.72 1.47 1.35L5.41 20z\"/>\n",
              "  </svg>\n",
              "      </button>\n",
              "      \n",
              "  <style>\n",
              "    .colab-df-container {\n",
              "      display:flex;\n",
              "      flex-wrap:wrap;\n",
              "      gap: 12px;\n",
              "    }\n",
              "\n",
              "    .colab-df-convert {\n",
              "      background-color: #E8F0FE;\n",
              "      border: none;\n",
              "      border-radius: 50%;\n",
              "      cursor: pointer;\n",
              "      display: none;\n",
              "      fill: #1967D2;\n",
              "      height: 32px;\n",
              "      padding: 0 0 0 0;\n",
              "      width: 32px;\n",
              "    }\n",
              "\n",
              "    .colab-df-convert:hover {\n",
              "      background-color: #E2EBFA;\n",
              "      box-shadow: 0px 1px 2px rgba(60, 64, 67, 0.3), 0px 1px 3px 1px rgba(60, 64, 67, 0.15);\n",
              "      fill: #174EA6;\n",
              "    }\n",
              "\n",
              "    [theme=dark] .colab-df-convert {\n",
              "      background-color: #3B4455;\n",
              "      fill: #D2E3FC;\n",
              "    }\n",
              "\n",
              "    [theme=dark] .colab-df-convert:hover {\n",
              "      background-color: #434B5C;\n",
              "      box-shadow: 0px 1px 3px 1px rgba(0, 0, 0, 0.15);\n",
              "      filter: drop-shadow(0px 1px 2px rgba(0, 0, 0, 0.3));\n",
              "      fill: #FFFFFF;\n",
              "    }\n",
              "  </style>\n",
              "\n",
              "      <script>\n",
              "        const buttonEl =\n",
              "          document.querySelector('#df-52c5d9b4-1e8a-46d0-991d-11bc69aa7ed1 button.colab-df-convert');\n",
              "        buttonEl.style.display =\n",
              "          google.colab.kernel.accessAllowed ? 'block' : 'none';\n",
              "\n",
              "        async function convertToInteractive(key) {\n",
              "          const element = document.querySelector('#df-52c5d9b4-1e8a-46d0-991d-11bc69aa7ed1');\n",
              "          const dataTable =\n",
              "            await google.colab.kernel.invokeFunction('convertToInteractive',\n",
              "                                                     [key], {});\n",
              "          if (!dataTable) return;\n",
              "\n",
              "          const docLinkHtml = 'Like what you see? Visit the ' +\n",
              "            '<a target=\"_blank\" href=https://colab.research.google.com/notebooks/data_table.ipynb>data table notebook</a>'\n",
              "            + ' to learn more about interactive tables.';\n",
              "          element.innerHTML = '';\n",
              "          dataTable['output_type'] = 'display_data';\n",
              "          await google.colab.output.renderOutput(dataTable, element);\n",
              "          const docLink = document.createElement('div');\n",
              "          docLink.innerHTML = docLinkHtml;\n",
              "          element.appendChild(docLink);\n",
              "        }\n",
              "      </script>\n",
              "    </div>\n",
              "  </div>\n",
              "  "
            ]
          },
          "metadata": {},
          "execution_count": 64
        }
      ]
    },
    {
      "cell_type": "code",
      "source": [
        "zone_taxi2=zone_taxi[['LocationID','Borough']]\n",
        "zone_taxi2.head()"
      ],
      "metadata": {
        "colab": {
          "base_uri": "https://localhost:8080/",
          "height": 206
        },
        "id": "qHvHAAAB5Bfi",
        "outputId": "6c5c36e7-c04e-4338-ed02-f516e4b89f62"
      },
      "execution_count": null,
      "outputs": [
        {
          "output_type": "execute_result",
          "data": {
            "text/plain": [
              "   LocationID        Borough\n",
              "0           1            EWR\n",
              "1           2         Queens\n",
              "2           3          Bronx\n",
              "3           4      Manhattan\n",
              "4           5  Staten Island"
            ],
            "text/html": [
              "\n",
              "  <div id=\"df-c4ec1ee6-f59e-437c-8c6c-960ac8bc68a1\">\n",
              "    <div class=\"colab-df-container\">\n",
              "      <div>\n",
              "<style scoped>\n",
              "    .dataframe tbody tr th:only-of-type {\n",
              "        vertical-align: middle;\n",
              "    }\n",
              "\n",
              "    .dataframe tbody tr th {\n",
              "        vertical-align: top;\n",
              "    }\n",
              "\n",
              "    .dataframe thead th {\n",
              "        text-align: right;\n",
              "    }\n",
              "</style>\n",
              "<table border=\"1\" class=\"dataframe\">\n",
              "  <thead>\n",
              "    <tr style=\"text-align: right;\">\n",
              "      <th></th>\n",
              "      <th>LocationID</th>\n",
              "      <th>Borough</th>\n",
              "    </tr>\n",
              "  </thead>\n",
              "  <tbody>\n",
              "    <tr>\n",
              "      <th>0</th>\n",
              "      <td>1</td>\n",
              "      <td>EWR</td>\n",
              "    </tr>\n",
              "    <tr>\n",
              "      <th>1</th>\n",
              "      <td>2</td>\n",
              "      <td>Queens</td>\n",
              "    </tr>\n",
              "    <tr>\n",
              "      <th>2</th>\n",
              "      <td>3</td>\n",
              "      <td>Bronx</td>\n",
              "    </tr>\n",
              "    <tr>\n",
              "      <th>3</th>\n",
              "      <td>4</td>\n",
              "      <td>Manhattan</td>\n",
              "    </tr>\n",
              "    <tr>\n",
              "      <th>4</th>\n",
              "      <td>5</td>\n",
              "      <td>Staten Island</td>\n",
              "    </tr>\n",
              "  </tbody>\n",
              "</table>\n",
              "</div>\n",
              "      <button class=\"colab-df-convert\" onclick=\"convertToInteractive('df-c4ec1ee6-f59e-437c-8c6c-960ac8bc68a1')\"\n",
              "              title=\"Convert this dataframe to an interactive table.\"\n",
              "              style=\"display:none;\">\n",
              "        \n",
              "  <svg xmlns=\"http://www.w3.org/2000/svg\" height=\"24px\"viewBox=\"0 0 24 24\"\n",
              "       width=\"24px\">\n",
              "    <path d=\"M0 0h24v24H0V0z\" fill=\"none\"/>\n",
              "    <path d=\"M18.56 5.44l.94 2.06.94-2.06 2.06-.94-2.06-.94-.94-2.06-.94 2.06-2.06.94zm-11 1L8.5 8.5l.94-2.06 2.06-.94-2.06-.94L8.5 2.5l-.94 2.06-2.06.94zm10 10l.94 2.06.94-2.06 2.06-.94-2.06-.94-.94-2.06-.94 2.06-2.06.94z\"/><path d=\"M17.41 7.96l-1.37-1.37c-.4-.4-.92-.59-1.43-.59-.52 0-1.04.2-1.43.59L10.3 9.45l-7.72 7.72c-.78.78-.78 2.05 0 2.83L4 21.41c.39.39.9.59 1.41.59.51 0 1.02-.2 1.41-.59l7.78-7.78 2.81-2.81c.8-.78.8-2.07 0-2.86zM5.41 20L4 18.59l7.72-7.72 1.47 1.35L5.41 20z\"/>\n",
              "  </svg>\n",
              "      </button>\n",
              "      \n",
              "  <style>\n",
              "    .colab-df-container {\n",
              "      display:flex;\n",
              "      flex-wrap:wrap;\n",
              "      gap: 12px;\n",
              "    }\n",
              "\n",
              "    .colab-df-convert {\n",
              "      background-color: #E8F0FE;\n",
              "      border: none;\n",
              "      border-radius: 50%;\n",
              "      cursor: pointer;\n",
              "      display: none;\n",
              "      fill: #1967D2;\n",
              "      height: 32px;\n",
              "      padding: 0 0 0 0;\n",
              "      width: 32px;\n",
              "    }\n",
              "\n",
              "    .colab-df-convert:hover {\n",
              "      background-color: #E2EBFA;\n",
              "      box-shadow: 0px 1px 2px rgba(60, 64, 67, 0.3), 0px 1px 3px 1px rgba(60, 64, 67, 0.15);\n",
              "      fill: #174EA6;\n",
              "    }\n",
              "\n",
              "    [theme=dark] .colab-df-convert {\n",
              "      background-color: #3B4455;\n",
              "      fill: #D2E3FC;\n",
              "    }\n",
              "\n",
              "    [theme=dark] .colab-df-convert:hover {\n",
              "      background-color: #434B5C;\n",
              "      box-shadow: 0px 1px 3px 1px rgba(0, 0, 0, 0.15);\n",
              "      filter: drop-shadow(0px 1px 2px rgba(0, 0, 0, 0.3));\n",
              "      fill: #FFFFFF;\n",
              "    }\n",
              "  </style>\n",
              "\n",
              "      <script>\n",
              "        const buttonEl =\n",
              "          document.querySelector('#df-c4ec1ee6-f59e-437c-8c6c-960ac8bc68a1 button.colab-df-convert');\n",
              "        buttonEl.style.display =\n",
              "          google.colab.kernel.accessAllowed ? 'block' : 'none';\n",
              "\n",
              "        async function convertToInteractive(key) {\n",
              "          const element = document.querySelector('#df-c4ec1ee6-f59e-437c-8c6c-960ac8bc68a1');\n",
              "          const dataTable =\n",
              "            await google.colab.kernel.invokeFunction('convertToInteractive',\n",
              "                                                     [key], {});\n",
              "          if (!dataTable) return;\n",
              "\n",
              "          const docLinkHtml = 'Like what you see? Visit the ' +\n",
              "            '<a target=\"_blank\" href=https://colab.research.google.com/notebooks/data_table.ipynb>data table notebook</a>'\n",
              "            + ' to learn more about interactive tables.';\n",
              "          element.innerHTML = '';\n",
              "          dataTable['output_type'] = 'display_data';\n",
              "          await google.colab.output.renderOutput(dataTable, element);\n",
              "          const docLink = document.createElement('div');\n",
              "          docLink.innerHTML = docLinkHtml;\n",
              "          element.appendChild(docLink);\n",
              "        }\n",
              "      </script>\n",
              "    </div>\n",
              "  </div>\n",
              "  "
            ]
          },
          "metadata": {},
          "execution_count": 65
        }
      ]
    },
    {
      "cell_type": "code",
      "source": [
        "merged = df.merge(zone_taxi2, left_on='PULocationID', right_on='LocationID')\n",
        "merged.head()"
      ],
      "metadata": {
        "colab": {
          "base_uri": "https://localhost:8080/",
          "height": 357
        },
        "id": "5pwnGd-f5BhU",
        "outputId": "2102299c-c436-499b-a09c-6b5efc419deb"
      },
      "execution_count": null,
      "outputs": [
        {
          "output_type": "execute_result",
          "data": {
            "text/plain": [
              "  tpep_pickup_datetime tpep_dropoff_datetime  passenger_count  trip_distance  \\\n",
              "0  2023-03-01 00:08:25   2023-03-01 00:39:30              2.0          12.40   \n",
              "1  2023-03-01 00:25:51   2023-03-01 00:55:03              1.0           9.50   \n",
              "2  2023-03-01 00:19:08   2023-03-01 00:36:39              1.0           9.39   \n",
              "3  2023-03-01 00:02:15   2023-03-01 00:33:46              1.0           9.80   \n",
              "4  2023-03-01 00:33:30   2023-03-01 00:43:34              1.0           3.90   \n",
              "\n",
              "   PULocationID  DOLocationID  payment_type  total_amount           durée  \\\n",
              "0           138           231             1         76.49 0 days 00:31:05   \n",
              "1           138            10             1        101.90 0 days 00:29:12   \n",
              "2           138           230             1         68.88 0 days 00:17:31   \n",
              "3           138            61             1         64.50 0 days 00:31:31   \n",
              "4           138             7             1         31.45 0 days 00:10:04   \n",
              "\n",
              "   mois  jour  jour_semaine  annee  heure  minute  duree_minute    durée2  \\\n",
              "0     3     1             2   2023      0       8     31.083333  00:31:05   \n",
              "1     3     1             2   2023      0      25     29.200000  00:29:12   \n",
              "2     3     1             2   2023      0      19     17.516667  00:17:31   \n",
              "3     3     1             2   2023      0       2     31.516667  00:31:31   \n",
              "4     3     1             2   2023      0      33     10.066667  00:10:04   \n",
              "\n",
              "   LocationID Borough  \n",
              "0         138  Queens  \n",
              "1         138  Queens  \n",
              "2         138  Queens  \n",
              "3         138  Queens  \n",
              "4         138  Queens  "
            ],
            "text/html": [
              "\n",
              "  <div id=\"df-d8cc4835-2d11-4c3b-86d7-70efc03e26ef\">\n",
              "    <div class=\"colab-df-container\">\n",
              "      <div>\n",
              "<style scoped>\n",
              "    .dataframe tbody tr th:only-of-type {\n",
              "        vertical-align: middle;\n",
              "    }\n",
              "\n",
              "    .dataframe tbody tr th {\n",
              "        vertical-align: top;\n",
              "    }\n",
              "\n",
              "    .dataframe thead th {\n",
              "        text-align: right;\n",
              "    }\n",
              "</style>\n",
              "<table border=\"1\" class=\"dataframe\">\n",
              "  <thead>\n",
              "    <tr style=\"text-align: right;\">\n",
              "      <th></th>\n",
              "      <th>tpep_pickup_datetime</th>\n",
              "      <th>tpep_dropoff_datetime</th>\n",
              "      <th>passenger_count</th>\n",
              "      <th>trip_distance</th>\n",
              "      <th>PULocationID</th>\n",
              "      <th>DOLocationID</th>\n",
              "      <th>payment_type</th>\n",
              "      <th>total_amount</th>\n",
              "      <th>durée</th>\n",
              "      <th>mois</th>\n",
              "      <th>jour</th>\n",
              "      <th>jour_semaine</th>\n",
              "      <th>annee</th>\n",
              "      <th>heure</th>\n",
              "      <th>minute</th>\n",
              "      <th>duree_minute</th>\n",
              "      <th>durée2</th>\n",
              "      <th>LocationID</th>\n",
              "      <th>Borough</th>\n",
              "    </tr>\n",
              "  </thead>\n",
              "  <tbody>\n",
              "    <tr>\n",
              "      <th>0</th>\n",
              "      <td>2023-03-01 00:08:25</td>\n",
              "      <td>2023-03-01 00:39:30</td>\n",
              "      <td>2.0</td>\n",
              "      <td>12.40</td>\n",
              "      <td>138</td>\n",
              "      <td>231</td>\n",
              "      <td>1</td>\n",
              "      <td>76.49</td>\n",
              "      <td>0 days 00:31:05</td>\n",
              "      <td>3</td>\n",
              "      <td>1</td>\n",
              "      <td>2</td>\n",
              "      <td>2023</td>\n",
              "      <td>0</td>\n",
              "      <td>8</td>\n",
              "      <td>31.083333</td>\n",
              "      <td>00:31:05</td>\n",
              "      <td>138</td>\n",
              "      <td>Queens</td>\n",
              "    </tr>\n",
              "    <tr>\n",
              "      <th>1</th>\n",
              "      <td>2023-03-01 00:25:51</td>\n",
              "      <td>2023-03-01 00:55:03</td>\n",
              "      <td>1.0</td>\n",
              "      <td>9.50</td>\n",
              "      <td>138</td>\n",
              "      <td>10</td>\n",
              "      <td>1</td>\n",
              "      <td>101.90</td>\n",
              "      <td>0 days 00:29:12</td>\n",
              "      <td>3</td>\n",
              "      <td>1</td>\n",
              "      <td>2</td>\n",
              "      <td>2023</td>\n",
              "      <td>0</td>\n",
              "      <td>25</td>\n",
              "      <td>29.200000</td>\n",
              "      <td>00:29:12</td>\n",
              "      <td>138</td>\n",
              "      <td>Queens</td>\n",
              "    </tr>\n",
              "    <tr>\n",
              "      <th>2</th>\n",
              "      <td>2023-03-01 00:19:08</td>\n",
              "      <td>2023-03-01 00:36:39</td>\n",
              "      <td>1.0</td>\n",
              "      <td>9.39</td>\n",
              "      <td>138</td>\n",
              "      <td>230</td>\n",
              "      <td>1</td>\n",
              "      <td>68.88</td>\n",
              "      <td>0 days 00:17:31</td>\n",
              "      <td>3</td>\n",
              "      <td>1</td>\n",
              "      <td>2</td>\n",
              "      <td>2023</td>\n",
              "      <td>0</td>\n",
              "      <td>19</td>\n",
              "      <td>17.516667</td>\n",
              "      <td>00:17:31</td>\n",
              "      <td>138</td>\n",
              "      <td>Queens</td>\n",
              "    </tr>\n",
              "    <tr>\n",
              "      <th>3</th>\n",
              "      <td>2023-03-01 00:02:15</td>\n",
              "      <td>2023-03-01 00:33:46</td>\n",
              "      <td>1.0</td>\n",
              "      <td>9.80</td>\n",
              "      <td>138</td>\n",
              "      <td>61</td>\n",
              "      <td>1</td>\n",
              "      <td>64.50</td>\n",
              "      <td>0 days 00:31:31</td>\n",
              "      <td>3</td>\n",
              "      <td>1</td>\n",
              "      <td>2</td>\n",
              "      <td>2023</td>\n",
              "      <td>0</td>\n",
              "      <td>2</td>\n",
              "      <td>31.516667</td>\n",
              "      <td>00:31:31</td>\n",
              "      <td>138</td>\n",
              "      <td>Queens</td>\n",
              "    </tr>\n",
              "    <tr>\n",
              "      <th>4</th>\n",
              "      <td>2023-03-01 00:33:30</td>\n",
              "      <td>2023-03-01 00:43:34</td>\n",
              "      <td>1.0</td>\n",
              "      <td>3.90</td>\n",
              "      <td>138</td>\n",
              "      <td>7</td>\n",
              "      <td>1</td>\n",
              "      <td>31.45</td>\n",
              "      <td>0 days 00:10:04</td>\n",
              "      <td>3</td>\n",
              "      <td>1</td>\n",
              "      <td>2</td>\n",
              "      <td>2023</td>\n",
              "      <td>0</td>\n",
              "      <td>33</td>\n",
              "      <td>10.066667</td>\n",
              "      <td>00:10:04</td>\n",
              "      <td>138</td>\n",
              "      <td>Queens</td>\n",
              "    </tr>\n",
              "  </tbody>\n",
              "</table>\n",
              "</div>\n",
              "      <button class=\"colab-df-convert\" onclick=\"convertToInteractive('df-d8cc4835-2d11-4c3b-86d7-70efc03e26ef')\"\n",
              "              title=\"Convert this dataframe to an interactive table.\"\n",
              "              style=\"display:none;\">\n",
              "        \n",
              "  <svg xmlns=\"http://www.w3.org/2000/svg\" height=\"24px\"viewBox=\"0 0 24 24\"\n",
              "       width=\"24px\">\n",
              "    <path d=\"M0 0h24v24H0V0z\" fill=\"none\"/>\n",
              "    <path d=\"M18.56 5.44l.94 2.06.94-2.06 2.06-.94-2.06-.94-.94-2.06-.94 2.06-2.06.94zm-11 1L8.5 8.5l.94-2.06 2.06-.94-2.06-.94L8.5 2.5l-.94 2.06-2.06.94zm10 10l.94 2.06.94-2.06 2.06-.94-2.06-.94-.94-2.06-.94 2.06-2.06.94z\"/><path d=\"M17.41 7.96l-1.37-1.37c-.4-.4-.92-.59-1.43-.59-.52 0-1.04.2-1.43.59L10.3 9.45l-7.72 7.72c-.78.78-.78 2.05 0 2.83L4 21.41c.39.39.9.59 1.41.59.51 0 1.02-.2 1.41-.59l7.78-7.78 2.81-2.81c.8-.78.8-2.07 0-2.86zM5.41 20L4 18.59l7.72-7.72 1.47 1.35L5.41 20z\"/>\n",
              "  </svg>\n",
              "      </button>\n",
              "      \n",
              "  <style>\n",
              "    .colab-df-container {\n",
              "      display:flex;\n",
              "      flex-wrap:wrap;\n",
              "      gap: 12px;\n",
              "    }\n",
              "\n",
              "    .colab-df-convert {\n",
              "      background-color: #E8F0FE;\n",
              "      border: none;\n",
              "      border-radius: 50%;\n",
              "      cursor: pointer;\n",
              "      display: none;\n",
              "      fill: #1967D2;\n",
              "      height: 32px;\n",
              "      padding: 0 0 0 0;\n",
              "      width: 32px;\n",
              "    }\n",
              "\n",
              "    .colab-df-convert:hover {\n",
              "      background-color: #E2EBFA;\n",
              "      box-shadow: 0px 1px 2px rgba(60, 64, 67, 0.3), 0px 1px 3px 1px rgba(60, 64, 67, 0.15);\n",
              "      fill: #174EA6;\n",
              "    }\n",
              "\n",
              "    [theme=dark] .colab-df-convert {\n",
              "      background-color: #3B4455;\n",
              "      fill: #D2E3FC;\n",
              "    }\n",
              "\n",
              "    [theme=dark] .colab-df-convert:hover {\n",
              "      background-color: #434B5C;\n",
              "      box-shadow: 0px 1px 3px 1px rgba(0, 0, 0, 0.15);\n",
              "      filter: drop-shadow(0px 1px 2px rgba(0, 0, 0, 0.3));\n",
              "      fill: #FFFFFF;\n",
              "    }\n",
              "  </style>\n",
              "\n",
              "      <script>\n",
              "        const buttonEl =\n",
              "          document.querySelector('#df-d8cc4835-2d11-4c3b-86d7-70efc03e26ef button.colab-df-convert');\n",
              "        buttonEl.style.display =\n",
              "          google.colab.kernel.accessAllowed ? 'block' : 'none';\n",
              "\n",
              "        async function convertToInteractive(key) {\n",
              "          const element = document.querySelector('#df-d8cc4835-2d11-4c3b-86d7-70efc03e26ef');\n",
              "          const dataTable =\n",
              "            await google.colab.kernel.invokeFunction('convertToInteractive',\n",
              "                                                     [key], {});\n",
              "          if (!dataTable) return;\n",
              "\n",
              "          const docLinkHtml = 'Like what you see? Visit the ' +\n",
              "            '<a target=\"_blank\" href=https://colab.research.google.com/notebooks/data_table.ipynb>data table notebook</a>'\n",
              "            + ' to learn more about interactive tables.';\n",
              "          element.innerHTML = '';\n",
              "          dataTable['output_type'] = 'display_data';\n",
              "          await google.colab.output.renderOutput(dataTable, element);\n",
              "          const docLink = document.createElement('div');\n",
              "          docLink.innerHTML = docLinkHtml;\n",
              "          element.appendChild(docLink);\n",
              "        }\n",
              "      </script>\n",
              "    </div>\n",
              "  </div>\n",
              "  "
            ]
          },
          "metadata": {},
          "execution_count": 67
        }
      ]
    },
    {
      "cell_type": "code",
      "source": [
        "merged=merged.drop(columns=['LocationID'])\n",
        "merged.head()"
      ],
      "metadata": {
        "id": "P1uG9zlc-gOK"
      },
      "execution_count": null,
      "outputs": []
    },
    {
      "cell_type": "code",
      "source": [
        "merged['QuartierDepart']=merged['Borough']\n",
        "merged.head()"
      ],
      "metadata": {
        "id": "kt4mxpcL-AGZ"
      },
      "execution_count": null,
      "outputs": []
    },
    {
      "cell_type": "code",
      "source": [
        "merged=merged.drop(columns=['Borough'])"
      ],
      "metadata": {
        "id": "r2oPwkz6_kJd"
      },
      "execution_count": null,
      "outputs": []
    },
    {
      "cell_type": "code",
      "source": [
        "merged2 = merged.merge(zone_taxi2, left_on='DOLocationID', right_on='LocationID')\n",
        "merged2.head()"
      ],
      "metadata": {
        "id": "aA0fJ_p8-OtJ"
      },
      "execution_count": null,
      "outputs": []
    },
    {
      "cell_type": "code",
      "source": [
        "merged2['QuartierArrivee']=merged2['Borough']"
      ],
      "metadata": {
        "id": "3Osngv9vBlT1"
      },
      "execution_count": null,
      "outputs": []
    },
    {
      "cell_type": "code",
      "source": [
        "merged2=merged2.drop(columns=['PULocationID','DOLocationID','LocationID','Borough'])"
      ],
      "metadata": {
        "id": "EiEutp27B1eF"
      },
      "execution_count": null,
      "outputs": []
    },
    {
      "cell_type": "markdown",
      "metadata": {
        "id": "EIO9yviL-SjL"
      },
      "source": [
        "Réseaux de neurones"
      ]
    },
    {
      "cell_type": "code",
      "execution_count": null,
      "metadata": {
        "id": "nti3chME-Y2r"
      },
      "outputs": [],
      "source": [
        "from tensorflow.keras.models import Sequential\n",
        "from tensorflow.keras.layers import Dense\n",
        "\n",
        "# Définir le modèle\n",
        "model = Sequential()\n",
        "model.add(Dense(50, input_dim=X_train.shape[1], activation='relu'))\n",
        "model.add(Dense(10, activation='relu'))\n",
        "model.add(Dense(1, activation='linear')) # Couche de sortie"
      ]
    },
    {
      "cell_type": "code",
      "execution_count": null,
      "metadata": {
        "id": "rxvLHEzD-Y49",
        "colab": {
          "base_uri": "https://localhost:8080/"
        },
        "outputId": "d65acc1e-238d-47b4-ef22-1c85753b13ed"
      },
      "outputs": [
        {
          "output_type": "stream",
          "name": "stdout",
          "text": [
            "Model: \"sequential\"\n",
            "_________________________________________________________________\n",
            " Layer (type)                Output Shape              Param #   \n",
            "=================================================================\n",
            " dense (Dense)               (None, 50)                600       \n",
            "                                                                 \n",
            " dense_1 (Dense)             (None, 10)                510       \n",
            "                                                                 \n",
            " dense_2 (Dense)             (None, 1)                 11        \n",
            "                                                                 \n",
            "=================================================================\n",
            "Total params: 1,121\n",
            "Trainable params: 1,121\n",
            "Non-trainable params: 0\n",
            "_________________________________________________________________\n"
          ]
        }
      ],
      "source": [
        "model.summary()"
      ]
    },
    {
      "cell_type": "code",
      "execution_count": null,
      "metadata": {
        "id": "AxQoIq35-Y7K"
      },
      "outputs": [],
      "source": [
        "# Compiler le modèle\n",
        "model.compile(loss='mean_squared_error', optimizer='adam')"
      ]
    },
    {
      "cell_type": "code",
      "execution_count": null,
      "metadata": {
        "id": "-XMeuHQq-Y9v",
        "colab": {
          "base_uri": "https://localhost:8080/"
        },
        "outputId": "398514de-c158-4df8-dd0f-6773d31e8ab0"
      },
      "outputs": [
        {
          "output_type": "stream",
          "name": "stdout",
          "text": [
            "Epoch 1/20\n",
            "61538/61538 [==============================] - 85s 1ms/step - loss: 73.8682 - val_loss: 35.6324\n",
            "Epoch 2/20\n",
            "61538/61538 [==============================] - 84s 1ms/step - loss: 35.6401 - val_loss: 34.2421\n",
            "Epoch 3/20\n",
            "61538/61538 [==============================] - 94s 2ms/step - loss: 33.7966 - val_loss: 30.9340\n",
            "Epoch 4/20\n",
            "61538/61538 [==============================] - 94s 2ms/step - loss: 33.1838 - val_loss: 32.4977\n",
            "Epoch 5/20\n",
            "61538/61538 [==============================] - 93s 2ms/step - loss: 32.6772 - val_loss: 31.4308\n",
            "Epoch 6/20\n",
            "61538/61538 [==============================] - 93s 2ms/step - loss: 32.3819 - val_loss: 30.3583\n",
            "Epoch 7/20\n",
            "61538/61538 [==============================] - 94s 2ms/step - loss: 32.2839 - val_loss: 31.8374\n",
            "Epoch 8/20\n",
            "61538/61538 [==============================] - 87s 1ms/step - loss: 32.0811 - val_loss: 35.1663\n",
            "Epoch 9/20\n",
            "61538/61538 [==============================] - 95s 2ms/step - loss: 31.9521 - val_loss: 31.3553\n",
            "Epoch 10/20\n",
            "61538/61538 [==============================] - 87s 1ms/step - loss: 31.8063 - val_loss: 31.9328\n",
            "Epoch 11/20\n",
            "61538/61538 [==============================] - 87s 1ms/step - loss: 31.7153 - val_loss: 33.0165\n",
            "Epoch 12/20\n",
            "61538/61538 [==============================] - 96s 2ms/step - loss: 31.6371 - val_loss: 29.9834\n",
            "Epoch 13/20\n",
            "61538/61538 [==============================] - 88s 1ms/step - loss: 31.4788 - val_loss: 30.1310\n",
            "Epoch 14/20\n",
            "61538/61538 [==============================] - 88s 1ms/step - loss: 31.4712 - val_loss: 30.6207\n",
            "Epoch 15/20\n",
            "61538/61538 [==============================] - 95s 2ms/step - loss: 31.5071 - val_loss: 30.0033\n",
            "Epoch 16/20\n",
            "61538/61538 [==============================] - 94s 2ms/step - loss: 31.4521 - val_loss: 30.2484\n",
            "Epoch 17/20\n",
            "61538/61538 [==============================] - 94s 2ms/step - loss: 31.3411 - val_loss: 30.2368\n",
            "Epoch 18/20\n",
            "61538/61538 [==============================] - 93s 2ms/step - loss: 31.2717 - val_loss: 30.2101\n",
            "Epoch 19/20\n",
            "61538/61538 [==============================] - 85s 1ms/step - loss: 31.2417 - val_loss: 30.3222\n",
            "Epoch 20/20\n",
            "61538/61538 [==============================] - 87s 1ms/step - loss: 31.2248 - val_loss: 31.9573\n"
          ]
        }
      ],
      "source": [
        "# Entraîner le modèle\n",
        "history=model.fit(X_train, y_train, epochs=20,batch_size=32, validation_split=0.2)"
      ]
    },
    {
      "cell_type": "code",
      "source": [
        "#history=model.fit(X_train, y_train, epochs=50, batch_size=10, verbose=0)"
      ],
      "metadata": {
        "id": "I6nyWqsh3rZx"
      },
      "execution_count": null,
      "outputs": []
    },
    {
      "cell_type": "code",
      "execution_count": null,
      "metadata": {
        "id": "yDn_OMxU-Y_7",
        "colab": {
          "base_uri": "https://localhost:8080/",
          "height": 472
        },
        "outputId": "62ffdb45-9068-4f44-8304-f7023ccd2914"
      },
      "outputs": [
        {
          "output_type": "display_data",
          "data": {
            "text/plain": [
              "<Figure size 640x480 with 1 Axes>"
            ],
            "image/png": "[encoded data removed]"
          },
          "metadata": {}
        }
      ],
      "source": [
        "# 1) Visualisation de la courbe d'apprentissage et de validation\n",
        "import matplotlib.pyplot as plt\n",
        "plt.plot(history.history['loss']) # fonction de perte (loss)\n",
        "#plt.plot(history.history['mse']) # Métrique de performance\n",
        "plt.title('Loss')\n",
        "plt.xlabel('Epochs')\n",
        "plt.ylabel('Loss')\n",
        "plt.legend(['Train', 'Validation'], loc='upper left')\n",
        "plt.show()"
      ]
    },
    {
      "cell_type": "code",
      "execution_count": null,
      "metadata": {
        "id": "eN5Cf5yV-7sz",
        "colab": {
          "base_uri": "https://localhost:8080/"
        },
        "outputId": "5b1de520-1ceb-4610-aa79-ea7d4462eac0"
      },
      "outputs": [
        {
          "output_type": "stream",
          "name": "stdout",
          "text": [
            "MSE: 31.61\n"
          ]
        }
      ],
      "source": [
        "# Évaluer le modèle\n",
        "mse = model.evaluate(X_test, y_test, verbose=0)\n",
        "print('MSE: %.2f' % mse)"
      ]
    },
    {
      "cell_type": "code",
      "source": [
        "# Faire des prédictions (fonction predict())\n",
        "predictions = model.predict(X_test)"
      ],
      "metadata": {
        "id": "3vtu33NU1GV7",
        "colab": {
          "base_uri": "https://localhost:8080/"
        },
        "outputId": "bd384e6d-f685-4792-a50d-5fb8cfadfed8"
      },
      "execution_count": null,
      "outputs": [
        {
          "output_type": "stream",
          "name": "stdout",
          "text": [
            "19231/19231 [==============================] - 17s 878us/step\n"
          ]
        }
      ]
    },
    {
      "cell_type": "code",
      "source": [
        "print(r2_score(y_test, predictions))"
      ],
      "metadata": {
        "id": "mosbZLcs1CCM",
        "colab": {
          "base_uri": "https://localhost:8080/"
        },
        "outputId": "e27ca13e-29b1-4825-f7d6-70d973e6eb1e"
      },
      "execution_count": null,
      "outputs": [
        {
          "output_type": "stream",
          "name": "stdout",
          "text": [
            "0.9348061243214216\n"
          ]
        }
      ]
    },
    {
      "cell_type": "markdown",
      "source": [
        "KNN"
      ],
      "metadata": {
        "id": "evp6WAcE11KZ"
      }
    },
    {
      "cell_type": "code",
      "source": [
        "from sklearn.preprocessing import OneHotEncoder, StandardScaler\n",
        "# Séparation des features et de la target\n",
        "X = df.drop(columns=['tpep_pickup_datetime','tpep_dropoff_datetime','total_amount','payment_type','durée','durée2'])\n",
        "y = df['total_amount']\n",
        "\n",
        "# Normalisation des données\n",
        "scaler=StandardScaler().fit(X)\n",
        "X_scaled=scaler.transform(X) #X_scaled : données normalisées"
      ],
      "metadata": {
        "id": "kt1Pc6fb1-Zp"
      },
      "execution_count": null,
      "outputs": []
    },
    {
      "cell_type": "code",
      "source": [
        "# Division en ensembles d'entraînement et de test\n",
        "from sklearn.model_selection import train_test_split\n",
        "X_train, X_test, y_train, y_test = train_test_split(X_scaled, y, test_size=0.2, random_state=42)"
      ],
      "metadata": {
        "id": "NJBNsIkO1-cn"
      },
      "execution_count": null,
      "outputs": []
    },
    {
      "cell_type": "code",
      "source": [
        "# Entraînement du modèle k-NN avec k=5\n",
        "from sklearn.neighbors import KNeighborsRegressor\n",
        "KNN=KNeighborsRegressor(n_neighbors=5).fit(X_train,y_train)"
      ],
      "metadata": {
        "id": "WuWCg3oD2pOo"
      },
      "execution_count": null,
      "outputs": []
    },
    {
      "cell_type": "code",
      "source": [
        "# Prédiction sur l'ensemble de test\n",
        "y_pred=KNN.predict(X_test)"
      ],
      "metadata": {
        "id": "FhxlM3M42pQ9"
      },
      "execution_count": null,
      "outputs": []
    },
    {
      "cell_type": "code",
      "source": [
        "# Calculer l'erreur quadratique moyenne (RMSE) des prédictions\n",
        "rmse = mean_squared_error(y_pred, y_test, squared=False)\n",
        "r2 = r2_score(y_pred, y_test)\n",
        "\n",
        "print(f\"RMSE : {rmse}\")\n",
        "print(f\"R2 : {r2}\")"
      ],
      "metadata": {
        "id": "TRProkmaBwcH"
      },
      "execution_count": null,
      "outputs": []
    }
  ],
  "metadata": {
    "colab": {
      "provenance": [],
      "include_colab_link": true
    },
    "kernelspec": {
      "display_name": "Python 3 (ipykernel)",
      "language": "python",
      "name": "python3"
    },
    "language_info": {
      "codemirror_mode": {
        "name": "ipython",
        "version": 3
      },
      "file_extension": ".py",
      "mimetype": "text/x-python",
      "name": "python",
      "nbconvert_exporter": "python",
      "pygments_lexer": "ipython3",
      "version": "3.9.7"
    }
  },
  "nbformat": 4,
  "nbformat_minor": 0
}